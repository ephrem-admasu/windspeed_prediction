{
 "cells": [
  {
   "cell_type": "code",
   "execution_count": 1,
   "id": "ac8a1576",
   "metadata": {},
   "outputs": [],
   "source": [
    "import numpy as np\n",
    "import matplotlib.pylab as plt\n",
    "from math import *\n",
    "#from sklearn.models import train_test_split\n",
    "from sklearn.metrics import mean_squared_error as mse\n",
    "from sklearn import svm\n",
    "import pandas as pd\n",
    "import seaborn as sns\n",
    "from pylab import rcParams\n",
    "from matplotlib import rc\n",
    "from mpl_toolkits.mplot3d import Axes3D\n",
    "import time\n",
    "%matplotlib notebook"
   ]
  },
  {
   "cell_type": "code",
   "execution_count": 2,
   "id": "298fed9d",
   "metadata": {},
   "outputs": [],
   "source": [
    "import warnings"
   ]
  },
  {
   "cell_type": "code",
   "execution_count": 3,
   "id": "4117306c",
   "metadata": {},
   "outputs": [],
   "source": [
    "warnings.filterwarnings('ignore')"
   ]
  },
  {
   "cell_type": "code",
   "execution_count": 4,
   "id": "73c875c1",
   "metadata": {},
   "outputs": [],
   "source": [
    "%matplotlib inline\n",
    "%config InlineBackend.figure_format='retina'\n",
    "RANDOM_SEED = 42\n",
    "sns.set(style='whitegrid', palette='muted', font_scale=1.2)\n",
    "HAPPY_COLORS_PALETTE = ['#01BEFE', '#FFDD00', '#FF7D00', '#FF006D', '#ADFF02', '#8F00FF']\n",
    "sns.set_palette(sns.color_palette(HAPPY_COLORS_PALETTE))\n",
    "rcParams['figure.figsize'] = 12, 8\n"
   ]
  },
  {
   "cell_type": "code",
   "execution_count": 5,
   "id": "c7e3a3e7",
   "metadata": {},
   "outputs": [],
   "source": [
    "from sklearn.metrics import mean_squared_error as mse"
   ]
  },
  {
   "cell_type": "code",
   "execution_count": 6,
   "id": "579f67b8",
   "metadata": {},
   "outputs": [],
   "source": [
    "import torch\n",
    "import gc\n",
    "import torch.nn as nn\n",
    "from tqdm import tqdm_notebook as tqdm\n",
    "from torch.utils.data import Dataset, DataLoader"
   ]
  },
  {
   "cell_type": "code",
   "execution_count": 7,
   "id": "e59c2350",
   "metadata": {},
   "outputs": [],
   "source": [
    "df = pd.read_csv('inputs/SVMD_1.csv')"
   ]
  },
  {
   "cell_type": "code",
   "execution_count": 8,
   "id": "b871ed56",
   "metadata": {},
   "outputs": [
    {
     "data": {
      "text/html": [
       "<div>\n",
       "<style scoped>\n",
       "    .dataframe tbody tr th:only-of-type {\n",
       "        vertical-align: middle;\n",
       "    }\n",
       "\n",
       "    .dataframe tbody tr th {\n",
       "        vertical-align: top;\n",
       "    }\n",
       "\n",
       "    .dataframe thead th {\n",
       "        text-align: right;\n",
       "    }\n",
       "</style>\n",
       "<table border=\"1\" class=\"dataframe\">\n",
       "  <thead>\n",
       "    <tr style=\"text-align: right;\">\n",
       "      <th></th>\n",
       "      <th>IMF-1</th>\n",
       "      <th>IMF-2</th>\n",
       "      <th>IMF-3</th>\n",
       "      <th>IMF-4</th>\n",
       "    </tr>\n",
       "  </thead>\n",
       "  <tbody>\n",
       "    <tr>\n",
       "      <th>0</th>\n",
       "      <td>7.850187</td>\n",
       "      <td>-0.843075</td>\n",
       "      <td>-0.029416</td>\n",
       "      <td>0.683727</td>\n",
       "    </tr>\n",
       "    <tr>\n",
       "      <th>1</th>\n",
       "      <td>7.850133</td>\n",
       "      <td>-0.838198</td>\n",
       "      <td>-0.025512</td>\n",
       "      <td>0.638413</td>\n",
       "    </tr>\n",
       "    <tr>\n",
       "      <th>2</th>\n",
       "      <td>7.850024</td>\n",
       "      <td>-0.828471</td>\n",
       "      <td>-0.017903</td>\n",
       "      <td>0.550865</td>\n",
       "    </tr>\n",
       "    <tr>\n",
       "      <th>3</th>\n",
       "      <td>7.849860</td>\n",
       "      <td>-0.813951</td>\n",
       "      <td>-0.006975</td>\n",
       "      <td>0.427030</td>\n",
       "    </tr>\n",
       "    <tr>\n",
       "      <th>4</th>\n",
       "      <td>7.849637</td>\n",
       "      <td>-0.794723</td>\n",
       "      <td>0.006710</td>\n",
       "      <td>0.275308</td>\n",
       "    </tr>\n",
       "    <tr>\n",
       "      <th>...</th>\n",
       "      <td>...</td>\n",
       "      <td>...</td>\n",
       "      <td>...</td>\n",
       "      <td>...</td>\n",
       "    </tr>\n",
       "    <tr>\n",
       "      <th>1435</th>\n",
       "      <td>8.992862</td>\n",
       "      <td>-0.264966</td>\n",
       "      <td>0.921262</td>\n",
       "      <td>-0.225028</td>\n",
       "    </tr>\n",
       "    <tr>\n",
       "      <th>1436</th>\n",
       "      <td>8.991859</td>\n",
       "      <td>-0.270280</td>\n",
       "      <td>1.033266</td>\n",
       "      <td>-0.342685</td>\n",
       "    </tr>\n",
       "    <tr>\n",
       "      <th>1437</th>\n",
       "      <td>8.991105</td>\n",
       "      <td>-0.274290</td>\n",
       "      <td>1.119610</td>\n",
       "      <td>-0.438165</td>\n",
       "    </tr>\n",
       "    <tr>\n",
       "      <th>1438</th>\n",
       "      <td>8.990603</td>\n",
       "      <td>-0.276974</td>\n",
       "      <td>1.178303</td>\n",
       "      <td>-0.505399</td>\n",
       "    </tr>\n",
       "    <tr>\n",
       "      <th>1439</th>\n",
       "      <td>8.990351</td>\n",
       "      <td>-0.278319</td>\n",
       "      <td>1.207991</td>\n",
       "      <td>-0.540118</td>\n",
       "    </tr>\n",
       "  </tbody>\n",
       "</table>\n",
       "<p>1440 rows × 4 columns</p>\n",
       "</div>"
      ],
      "text/plain": [
       "         IMF-1     IMF-2     IMF-3     IMF-4\n",
       "0     7.850187 -0.843075 -0.029416  0.683727\n",
       "1     7.850133 -0.838198 -0.025512  0.638413\n",
       "2     7.850024 -0.828471 -0.017903  0.550865\n",
       "3     7.849860 -0.813951 -0.006975  0.427030\n",
       "4     7.849637 -0.794723  0.006710  0.275308\n",
       "...        ...       ...       ...       ...\n",
       "1435  8.992862 -0.264966  0.921262 -0.225028\n",
       "1436  8.991859 -0.270280  1.033266 -0.342685\n",
       "1437  8.991105 -0.274290  1.119610 -0.438165\n",
       "1438  8.990603 -0.276974  1.178303 -0.505399\n",
       "1439  8.990351 -0.278319  1.207991 -0.540118\n",
       "\n",
       "[1440 rows x 4 columns]"
      ]
     },
     "execution_count": 8,
     "metadata": {},
     "output_type": "execute_result"
    }
   ],
   "source": [
    "df"
   ]
  },
  {
   "cell_type": "code",
   "execution_count": 8,
   "id": "f214c895",
   "metadata": {},
   "outputs": [],
   "source": [
    "from sklearn.preprocessing import MinMaxScaler"
   ]
  },
  {
   "cell_type": "code",
   "execution_count": 9,
   "id": "e5a6491a",
   "metadata": {},
   "outputs": [],
   "source": [
    "imfs = np.array([df[col].values for col in df.columns])"
   ]
  },
  {
   "cell_type": "code",
   "execution_count": 10,
   "id": "05f08bed",
   "metadata": {},
   "outputs": [
    {
     "data": {
      "text/plain": [
       "(1440,)"
      ]
     },
     "execution_count": 10,
     "metadata": {},
     "output_type": "execute_result"
    }
   ],
   "source": [
    "imfs[0].shape"
   ]
  },
  {
   "cell_type": "code",
   "execution_count": 11,
   "id": "8f659f12",
   "metadata": {},
   "outputs": [],
   "source": [
    "from processing import create_features, split_data"
   ]
  },
  {
   "cell_type": "code",
   "execution_count": 13,
   "id": "32aedd7d",
   "metadata": {},
   "outputs": [
    {
     "ename": "ImportError",
     "evalue": "cannot import name 'LSSVMRegression' from 'LSSVMRegression' (c:\\Users\\ELITE\\Documents\\windspeed_prediction\\LSSVMRegression.py)",
     "output_type": "error",
     "traceback": [
      "\u001b[1;31m---------------------------------------------------------------------------\u001b[0m",
      "\u001b[1;31mImportError\u001b[0m                               Traceback (most recent call last)",
      "Cell \u001b[1;32mIn[13], line 1\u001b[0m\n\u001b[1;32m----> 1\u001b[0m \u001b[39mfrom\u001b[39;00m \u001b[39mLSSVMRegression\u001b[39;00m \u001b[39mimport\u001b[39;00m LSSVMRegression \u001b[39mas\u001b[39;00m LSSVM\n",
      "\u001b[1;31mImportError\u001b[0m: cannot import name 'LSSVMRegression' from 'LSSVMRegression' (c:\\Users\\ELITE\\Documents\\windspeed_prediction\\LSSVMRegression.py)"
     ]
    }
   ],
   "source": [
    "from LSSVMRegression import LSSVMRegression as LSSVM"
   ]
  },
  {
   "cell_type": "code",
   "execution_count": 62,
   "id": "f6b6a11d",
   "metadata": {},
   "outputs": [],
   "source": [
    "from ebqpso import EBQPSO"
   ]
  },
  {
   "cell_type": "code",
   "execution_count": 64,
   "id": "1507fe0e",
   "metadata": {},
   "outputs": [],
   "source": [
    "def adjust_params(params):\n",
    "    gamma = np.power(10, params[0]).astype(float)\n",
    "    sigma = np.power(10, params[1]).astype(float)\n",
    "    m = int(params[2])\n",
    "    return [gamma, sigma, m]"
   ]
  },
  {
   "cell_type": "code",
   "execution_count": 65,
   "id": "5fcab2c8",
   "metadata": {},
   "outputs": [],
   "source": [
    "def get_test_error():\n",
    "    series = pd.Series(imf1)\n",
    "    df = create_features(series, param_imf1['m'])\n",
    "    tr_arr, val_arr, tes_arr = split_data(df, int(.6*df.shape[0]))\n",
    "    ytr = tr_arr['t']\n",
    "    xtr = tr_arr.drop('t', axis=1)\n",
    "    yte = tes_arr['t']\n",
    "    xte = tes_arr.drop('t', axis=1)\n",
    "\n",
    "    reg = LSSVM(kernel='rbf', gamma=param_imf1['gamma'], sigma=param_imf1['sigma'])\n",
    "    reg.fit(xtr, ytr)\n",
    "    yp = reg.predict(xte)\n",
    "    mse(yte, yp)"
   ]
  },
  {
   "cell_type": "code",
   "execution_count": 66,
   "id": "a039e2ba",
   "metadata": {},
   "outputs": [],
   "source": [
    "global X"
   ]
  },
  {
   "cell_type": "code",
   "execution_count": 75,
   "id": "3f5fea4b",
   "metadata": {},
   "outputs": [],
   "source": [
    "def f(p):\n",
    "    gamma = np.power(10, p[0]).astype(float)\n",
    "    sigma = np.power(10, p[1]).astype(float)\n",
    "    m = int(p[2])\n",
    "#     series = pd.Series(X)\n",
    "    x, y = create_features(X, m)\n",
    "    tr_len = int(.5*X.shape[0])\n",
    "    Xtr, Xval, Xte = split_data(x, tr_len)\n",
    "    ytr, yval, yte = split_data(y, tr_len)\n",
    "#     ytr = tr_arr['t']\n",
    "#     xtr = tr_arr.drop('t', axis=1)\n",
    "#     yval = val_arr['t']\n",
    "#     xval = val_arr.drop('t', axis=1)\n",
    "    \n",
    "    reg = LSSVM(kernel='rbf', gamma=gamma, sigma=sigma)\n",
    "    reg.fit(Xtr, ytr)\n",
    "    yp = reg.predict(Xval)\n",
    "    return mse(yval, yp)"
   ]
  },
  {
   "cell_type": "code",
   "execution_count": 76,
   "id": "2679c4fe",
   "metadata": {},
   "outputs": [],
   "source": [
    "D = 3\n",
    "lb = [-2, -2, 1]\n",
    "ub = [3, 3, 25]\n",
    "nPop = 25\n",
    "maxit = 100\n",
    "lambda_ = 5"
   ]
  },
  {
   "cell_type": "code",
   "execution_count": 77,
   "id": "3c35f824",
   "metadata": {},
   "outputs": [],
   "source": [
    "all_results_eb = {}"
   ]
  },
  {
   "cell_type": "code",
   "execution_count": 78,
   "id": "b7781400",
   "metadata": {},
   "outputs": [],
   "source": [
    "for i in range(len(imfs)):\n",
    "    X = imfs[i, :]\n",
    "    params, best_err, hist = EBQPSO(f, D, nPop, lb, ub, maxit, lambda_)\n",
    "    all_results_eb[i] = [adjust_params(params), best_err, hist]\n",
    "    "
   ]
  },
  {
   "cell_type": "code",
   "execution_count": 79,
   "id": "762738fb",
   "metadata": {},
   "outputs": [
    {
     "data": {
      "text/plain": [
       "dict_keys([0, 1, 2, 3])"
      ]
     },
     "execution_count": 79,
     "metadata": {},
     "output_type": "execute_result"
    }
   ],
   "source": [
    "all_results_eb.keys()"
   ]
  },
  {
   "cell_type": "code",
   "execution_count": 86,
   "id": "3ecc11fd",
   "metadata": {},
   "outputs": [],
   "source": [
    "import pickle"
   ]
  },
  {
   "cell_type": "code",
   "execution_count": 18,
   "id": "7f7f2371",
   "metadata": {},
   "outputs": [],
   "source": [
    "all_res = open('svmd_ebqpso_1', 'rb')     \n",
    "all_res_eb1 = pickle.load(all_res)"
   ]
  },
  {
   "cell_type": "code",
   "execution_count": 22,
   "id": "4c491d0e",
   "metadata": {},
   "outputs": [
    {
     "data": {
      "text/plain": [
       "[<matplotlib.lines.Line2D at 0x1c579547990>]"
      ]
     },
     "execution_count": 22,
     "metadata": {},
     "output_type": "execute_result"
    },
    {
     "data": {
      "image/png": "[encoded data removed]",
      "text/plain": [
       "<Figure size 1200x800 with 1 Axes>"
      ]
     },
     "metadata": {
      "image/png": {
       "height": 666,
       "width": 1009
      }
     },
     "output_type": "display_data"
    }
   ],
   "source": [
    "plt.plot(all_res_eb1[0][2])"
   ]
  },
  {
   "cell_type": "code",
   "execution_count": 87,
   "id": "557c08b4",
   "metadata": {},
   "outputs": [],
   "source": [
    "file = open('svmd_ebqpso_1', 'ab')\n",
    "pickle.dump(all_results_eb, file)\n",
    "file.close()"
   ]
  },
  {
   "cell_type": "code",
   "execution_count": 90,
   "id": "b4d3b880",
   "metadata": {},
   "outputs": [],
   "source": [
    "df = pd.read_csv('inputs/SVMD_2.csv')"
   ]
  },
  {
   "cell_type": "code",
   "execution_count": 91,
   "id": "c0cd708d",
   "metadata": {},
   "outputs": [
    {
     "data": {
      "text/html": [
       "<div>\n",
       "<style scoped>\n",
       "    .dataframe tbody tr th:only-of-type {\n",
       "        vertical-align: middle;\n",
       "    }\n",
       "\n",
       "    .dataframe tbody tr th {\n",
       "        vertical-align: top;\n",
       "    }\n",
       "\n",
       "    .dataframe thead th {\n",
       "        text-align: right;\n",
       "    }\n",
       "</style>\n",
       "<table border=\"1\" class=\"dataframe\">\n",
       "  <thead>\n",
       "    <tr style=\"text-align: right;\">\n",
       "      <th></th>\n",
       "      <th>IMF-1</th>\n",
       "      <th>IMF-2</th>\n",
       "      <th>IMF-3</th>\n",
       "      <th>IMF-4</th>\n",
       "      <th>IMF-5</th>\n",
       "      <th>IMF-6</th>\n",
       "    </tr>\n",
       "  </thead>\n",
       "  <tbody>\n",
       "    <tr>\n",
       "      <th>0</th>\n",
       "      <td>8.975682</td>\n",
       "      <td>-0.038366</td>\n",
       "      <td>0.624298</td>\n",
       "      <td>-0.111836</td>\n",
       "      <td>-1.479115</td>\n",
       "      <td>0.140007</td>\n",
       "    </tr>\n",
       "    <tr>\n",
       "      <th>1</th>\n",
       "      <td>8.975958</td>\n",
       "      <td>-0.039837</td>\n",
       "      <td>0.619370</td>\n",
       "      <td>-0.108724</td>\n",
       "      <td>-1.371954</td>\n",
       "      <td>0.109530</td>\n",
       "    </tr>\n",
       "    <tr>\n",
       "      <th>2</th>\n",
       "      <td>8.976509</td>\n",
       "      <td>-0.042764</td>\n",
       "      <td>0.609499</td>\n",
       "      <td>-0.102614</td>\n",
       "      <td>-1.165522</td>\n",
       "      <td>0.055161</td>\n",
       "    </tr>\n",
       "    <tr>\n",
       "      <th>3</th>\n",
       "      <td>8.977335</td>\n",
       "      <td>-0.047117</td>\n",
       "      <td>0.594654</td>\n",
       "      <td>-0.093728</td>\n",
       "      <td>-0.875014</td>\n",
       "      <td>-0.011347</td>\n",
       "    </tr>\n",
       "    <tr>\n",
       "      <th>4</th>\n",
       "      <td>8.978432</td>\n",
       "      <td>-0.052852</td>\n",
       "      <td>0.574799</td>\n",
       "      <td>-0.082388</td>\n",
       "      <td>-0.521791</td>\n",
       "      <td>-0.075600</td>\n",
       "    </tr>\n",
       "    <tr>\n",
       "      <th>...</th>\n",
       "      <td>...</td>\n",
       "      <td>...</td>\n",
       "      <td>...</td>\n",
       "      <td>...</td>\n",
       "      <td>...</td>\n",
       "      <td>...</td>\n",
       "    </tr>\n",
       "    <tr>\n",
       "      <th>1483</th>\n",
       "      <td>5.601922</td>\n",
       "      <td>0.361429</td>\n",
       "      <td>-1.515532</td>\n",
       "      <td>-0.451945</td>\n",
       "      <td>0.235773</td>\n",
       "      <td>0.090175</td>\n",
       "    </tr>\n",
       "    <tr>\n",
       "      <th>1484</th>\n",
       "      <td>5.599218</td>\n",
       "      <td>0.370347</td>\n",
       "      <td>-1.653226</td>\n",
       "      <td>-0.527500</td>\n",
       "      <td>0.425384</td>\n",
       "      <td>0.033315</td>\n",
       "    </tr>\n",
       "    <tr>\n",
       "      <th>1485</th>\n",
       "      <td>5.597188</td>\n",
       "      <td>0.377066</td>\n",
       "      <td>-1.759060</td>\n",
       "      <td>-0.586277</td>\n",
       "      <td>0.582773</td>\n",
       "      <td>-0.030621</td>\n",
       "    </tr>\n",
       "    <tr>\n",
       "      <th>1486</th>\n",
       "      <td>5.595834</td>\n",
       "      <td>0.381560</td>\n",
       "      <td>-1.830853</td>\n",
       "      <td>-0.626484</td>\n",
       "      <td>0.695309</td>\n",
       "      <td>-0.085161</td>\n",
       "    </tr>\n",
       "    <tr>\n",
       "      <th>1487</th>\n",
       "      <td>5.595156</td>\n",
       "      <td>0.383811</td>\n",
       "      <td>-1.867125</td>\n",
       "      <td>-0.646898</td>\n",
       "      <td>0.753938</td>\n",
       "      <td>-0.116394</td>\n",
       "    </tr>\n",
       "  </tbody>\n",
       "</table>\n",
       "<p>1488 rows × 6 columns</p>\n",
       "</div>"
      ],
      "text/plain": [
       "         IMF-1     IMF-2     IMF-3     IMF-4     IMF-5     IMF-6\n",
       "0     8.975682 -0.038366  0.624298 -0.111836 -1.479115  0.140007\n",
       "1     8.975958 -0.039837  0.619370 -0.108724 -1.371954  0.109530\n",
       "2     8.976509 -0.042764  0.609499 -0.102614 -1.165522  0.055161\n",
       "3     8.977335 -0.047117  0.594654 -0.093728 -0.875014 -0.011347\n",
       "4     8.978432 -0.052852  0.574799 -0.082388 -0.521791 -0.075600\n",
       "...        ...       ...       ...       ...       ...       ...\n",
       "1483  5.601922  0.361429 -1.515532 -0.451945  0.235773  0.090175\n",
       "1484  5.599218  0.370347 -1.653226 -0.527500  0.425384  0.033315\n",
       "1485  5.597188  0.377066 -1.759060 -0.586277  0.582773 -0.030621\n",
       "1486  5.595834  0.381560 -1.830853 -0.626484  0.695309 -0.085161\n",
       "1487  5.595156  0.383811 -1.867125 -0.646898  0.753938 -0.116394\n",
       "\n",
       "[1488 rows x 6 columns]"
      ]
     },
     "execution_count": 91,
     "metadata": {},
     "output_type": "execute_result"
    }
   ],
   "source": [
    "df"
   ]
  },
  {
   "cell_type": "code",
   "execution_count": 92,
   "id": "2a6ae134",
   "metadata": {},
   "outputs": [],
   "source": [
    "imfs_2 = np.array([df[col] for col in df.columns])"
   ]
  },
  {
   "cell_type": "code",
   "execution_count": 93,
   "id": "3b0cc244",
   "metadata": {},
   "outputs": [
    {
     "data": {
      "text/plain": [
       "(6, 1488)"
      ]
     },
     "execution_count": 93,
     "metadata": {},
     "output_type": "execute_result"
    }
   ],
   "source": [
    "imfs_2.shape"
   ]
  },
  {
   "cell_type": "code",
   "execution_count": 94,
   "id": "c513a865",
   "metadata": {},
   "outputs": [],
   "source": [
    "all_results_eb_2 = {}"
   ]
  },
  {
   "cell_type": "code",
   "execution_count": 95,
   "id": "1ddc5b4e",
   "metadata": {},
   "outputs": [],
   "source": [
    "for i in range(len(imfs_2)):\n",
    "    X = imfs_2[i, :]\n",
    "    params, best_err, hist = EBQPSO(f, D, nPop, lb, ub, maxit, lambda_)\n",
    "    all_results_eb_2[i] = [adjust_params(params), best_err, hist]\n",
    "    "
   ]
  },
  {
   "cell_type": "code",
   "execution_count": null,
   "id": "a05d3511",
   "metadata": {},
   "outputs": [],
   "source": [
    "file = open('svmd_ebqpso_2', 'ab')\n",
    "pickle.dump(all_results_eb_2, file)\n",
    "file.close()"
   ]
  },
  {
   "cell_type": "code",
   "execution_count": null,
   "id": "b801e780",
   "metadata": {},
   "outputs": [],
   "source": []
  },
  {
   "cell_type": "code",
   "execution_count": null,
   "id": "5a2f6b93",
   "metadata": {},
   "outputs": [],
   "source": []
  },
  {
   "cell_type": "code",
   "execution_count": null,
   "id": "42b0f4d5",
   "metadata": {},
   "outputs": [],
   "source": []
  },
  {
   "cell_type": "code",
   "execution_count": null,
   "id": "3dd64c97",
   "metadata": {},
   "outputs": [],
   "source": []
  },
  {
   "cell_type": "code",
   "execution_count": 84,
   "id": "e950df57",
   "metadata": {},
   "outputs": [
    {
     "name": "stdout",
     "output_type": "stream",
     "text": [
      "6.416298508687886e-05\n",
      "0.0002593228758193951\n",
      "0.0008102064756411002\n",
      "0.0007092862327713127\n",
      "0.00034426424149213726\n"
     ]
    }
   ],
   "source": [
    "for i in range(5):\n",
    "    print(all_results_eb[i][1])"
   ]
  },
  {
   "cell_type": "code",
   "execution_count": 78,
   "id": "da3ea914",
   "metadata": {},
   "outputs": [
    {
     "name": "stdout",
     "output_type": "stream",
     "text": [
      "0.00010753946135394066\n",
      "0.0003157904490286344\n",
      "0.000810137744272622\n",
      "0.0007092861881168852\n",
      "0.00032927844947290514\n"
     ]
    }
   ],
   "source": [
    "for i in range(5):\n",
    "    print(all_res_p[i][1])"
   ]
  },
  {
   "cell_type": "code",
   "execution_count": 82,
   "id": "3e000be1",
   "metadata": {},
   "outputs": [
    {
     "name": "stdout",
     "output_type": "stream",
     "text": [
      "8.715923809241029e-05\n",
      "0.00031579875712524005\n",
      "0.0008101396185781249\n",
      "0.0007092881696410329\n",
      "0.00035896471402841373\n"
     ]
    }
   ],
   "source": [
    "for i in range(5):\n",
    "    print(all_res_q[i][1])"
   ]
  },
  {
   "cell_type": "code",
   "execution_count": 22,
   "id": "5962f556",
   "metadata": {},
   "outputs": [],
   "source": [
    "from qpso import QPSO"
   ]
  },
  {
   "cell_type": "code",
   "execution_count": 23,
   "id": "980dad6b",
   "metadata": {},
   "outputs": [],
   "source": [
    "all_res_q = {}"
   ]
  },
  {
   "cell_type": "code",
   "execution_count": 24,
   "id": "f502da69",
   "metadata": {},
   "outputs": [],
   "source": [
    "for i in range(len(imfs)):\n",
    "    X = imfs[i]\n",
    "    params, best_err, hist = QPSO(f, D, nPop, lb, ub, maxit)\n",
    "    all_res_q[i] = [adjust_params(params), best_err, hist]\n",
    "    "
   ]
  },
  {
   "cell_type": "code",
   "execution_count": 27,
   "id": "dcaffb23",
   "metadata": {},
   "outputs": [
    {
     "data": {
      "text/plain": [
       "[[1000.0, 2.012134847038963, 4], 0.0008106019534017482]"
      ]
     },
     "execution_count": 27,
     "metadata": {},
     "output_type": "execute_result"
    }
   ],
   "source": [
    "all_res_q[2][:2]"
   ]
  },
  {
   "cell_type": "code",
   "execution_count": 30,
   "id": "c1bf8b00",
   "metadata": {},
   "outputs": [],
   "source": [
    "params, best_err, hist = QPSO(f, D, nPop, lb, ub, maxit)"
   ]
  },
  {
   "cell_type": "code",
   "execution_count": 29,
   "id": "6710e7e0",
   "metadata": {},
   "outputs": [],
   "source": [
    "all_res_p = {}"
   ]
  },
  {
   "cell_type": "code",
   "execution_count": 49,
   "id": "30018ac2",
   "metadata": {},
   "outputs": [],
   "source": [
    "from pso import pso"
   ]
  },
  {
   "cell_type": "code",
   "execution_count": 52,
   "id": "a3b42fdf",
   "metadata": {},
   "outputs": [
    {
     "name": "stdout",
     "output_type": "stream",
     "text": [
      "Stopping search: Swarm best objective change less than 1e-08\n",
      "Stopping search: Swarm best objective change less than 1e-08\n",
      "Stopping search: Swarm best objective change less than 1e-08\n",
      "Stopping search: Swarm best objective change less than 1e-08\n",
      "Stopping search: Swarm best objective change less than 1e-08\n"
     ]
    }
   ],
   "source": [
    "for i in range(len(imfs)):\n",
    "    X = imfs[i]\n",
    "    params, best_err, hist = pso(f, lb, ub, swarmsize=nPop, maxiter=maxit)\n",
    "    all_res_p[i] = [adjust_params(params), best_err, hist]\n",
    "    "
   ]
  },
  {
   "cell_type": "code",
   "execution_count": 76,
   "id": "e29417ba",
   "metadata": {},
   "outputs": [
    {
     "data": {
      "text/plain": [
       "0.00010753946135394066"
      ]
     },
     "execution_count": 76,
     "metadata": {},
     "output_type": "execute_result"
    }
   ],
   "source": [
    "all_res_p[0][1]"
   ]
  },
  {
   "cell_type": "code",
   "execution_count": 86,
   "id": "f2e72ba1",
   "metadata": {},
   "outputs": [],
   "source": [
    "file = open('vmd_pso', 'ab')\n",
    "pickle.dump(all_res_p, file)\n",
    "file.close()"
   ]
  },
  {
   "cell_type": "code",
   "execution_count": 25,
   "id": "667260cc",
   "metadata": {},
   "outputs": [],
   "source": [
    "file = open('vmd_qpso', 'ab')\n",
    "pickle.dump(all_res_q, file)\n",
    "file.close()"
   ]
  },
  {
   "cell_type": "code",
   "execution_count": null,
   "id": "8ea3c95c",
   "metadata": {},
   "outputs": [],
   "source": [
    "file = open('svmd_ebqpso_1', 'ab')\n",
    "pickle.dump(all_results_eb_1, file)\n",
    "file.close()"
   ]
  },
  {
   "cell_type": "code",
   "execution_count": 70,
   "id": "1e5fa563",
   "metadata": {},
   "outputs": [
    {
     "data": {
      "text/plain": [
       "dict_keys([0, 1, 2, 3, 4])"
      ]
     },
     "execution_count": 70,
     "metadata": {},
     "output_type": "execute_result"
    }
   ],
   "source": [
    "all_res_q.keys()"
   ]
  },
  {
   "cell_type": "code",
   "execution_count": 51,
   "id": "97bfe1bb",
   "metadata": {},
   "outputs": [
    {
     "name": "stdout",
     "output_type": "stream",
     "text": [
      "Stopping search: Swarm best objective change less than 1e-08\n"
     ]
    },
    {
     "data": {
      "text/plain": [
       "(array([3.        , 0.44874739, 6.29992727]),\n",
       " 0.00010739495332589927,\n",
       " [0.00024333987933123993,\n",
       "  0.00024333987933123993,\n",
       "  0.00014232316353515986,\n",
       "  0.00012242954519293105,\n",
       "  0.00010739852489134511,\n",
       "  0.00010739852489134511,\n",
       "  0.00010739852489134511,\n",
       "  0.00010739852489134511,\n",
       "  0.00010739852489134511,\n",
       "  0.00010739852489134511])"
      ]
     },
     "execution_count": 51,
     "metadata": {},
     "output_type": "execute_result"
    }
   ],
   "source": [
    "pso(f, lb, ub, swarmsize=nPop, maxiter=maxit)"
   ]
  },
  {
   "cell_type": "code",
   "execution_count": 32,
   "id": "69c06866",
   "metadata": {},
   "outputs": [
    {
     "data": {
      "text/plain": [
       "0.00031588543392647783"
      ]
     },
     "execution_count": 32,
     "metadata": {},
     "output_type": "execute_result"
    }
   ],
   "source": [
    "best_err"
   ]
  },
  {
   "cell_type": "code",
   "execution_count": 33,
   "id": "2e18625d",
   "metadata": {},
   "outputs": [
    {
     "data": {
      "text/plain": [
       "[<matplotlib.lines.Line2D at 0x24f9167bd10>]"
      ]
     },
     "execution_count": 33,
     "metadata": {},
     "output_type": "execute_result"
    },
    {
     "data": {
      "image/png": "[encoded data removed]",
      "text/plain": [
       "<Figure size 864x576 with 1 Axes>"
      ]
     },
     "metadata": {
      "image/png": {
       "height": 470,
       "width": 741
      }
     },
     "output_type": "display_data"
    }
   ],
   "source": [
    "plt.plot(hist)"
   ]
  },
  {
   "cell_type": "code",
   "execution_count": 34,
   "id": "0cd9e913",
   "metadata": {},
   "outputs": [],
   "source": [
    "from pyswarm import pso"
   ]
  },
  {
   "cell_type": "code",
   "execution_count": 37,
   "id": "134f91eb",
   "metadata": {},
   "outputs": [
    {
     "name": "stdout",
     "output_type": "stream",
     "text": [
      "Stopping search: Swarm best objective change less than 1e-08\n"
     ]
    }
   ],
   "source": [
    "xopt, fopt = pso(f, lb, ub, maxiter=maxit)"
   ]
  },
  {
   "cell_type": "code",
   "execution_count": 38,
   "id": "ddd087dd",
   "metadata": {},
   "outputs": [
    {
     "data": {
      "text/plain": [
       "array([3.        , 0.39223398, 3.64247139])"
      ]
     },
     "execution_count": 38,
     "metadata": {},
     "output_type": "execute_result"
    }
   ],
   "source": [
    "xopt"
   ]
  },
  {
   "cell_type": "code",
   "execution_count": 39,
   "id": "597dba2a",
   "metadata": {},
   "outputs": [
    {
     "data": {
      "text/plain": [
       "0.00031579063605412634"
      ]
     },
     "execution_count": 39,
     "metadata": {},
     "output_type": "execute_result"
    }
   ],
   "source": [
    "fopt"
   ]
  },
  {
   "cell_type": "code",
   "execution_count": 41,
   "id": "06ebc23f",
   "metadata": {},
   "outputs": [
    {
     "data": {
      "text/plain": [
       "[<matplotlib.lines.Line2D at 0x24f9167b2d0>]"
      ]
     },
     "execution_count": 41,
     "metadata": {},
     "output_type": "execute_result"
    },
    {
     "data": {
      "image/png": "[encoded data removed]",
      "text/plain": [
       "<Figure size 864x576 with 1 Axes>"
      ]
     },
     "metadata": {
      "image/png": {
       "height": 470,
       "width": 726
      }
     },
     "output_type": "display_data"
    }
   ],
   "source": [
    "plt.plot(np.log10(hist))"
   ]
  },
  {
   "cell_type": "code",
   "execution_count": null,
   "id": "a8767fff",
   "metadata": {},
   "outputs": [],
   "source": []
  }
 ],
 "metadata": {
  "kernelspec": {
   "display_name": "Python 3 (Spyder)",
   "language": "python3",
   "name": "python3"
  },
  "language_info": {
   "codemirror_mode": {
    "name": "ipython",
    "version": 3
   },
   "file_extension": ".py",
   "mimetype": "text/x-python",
   "name": "python",
   "nbconvert_exporter": "python",
   "pygments_lexer": "ipython3",
   "version": "3.11.4"
  }
 },
 "nbformat": 4,
 "nbformat_minor": 5
}
