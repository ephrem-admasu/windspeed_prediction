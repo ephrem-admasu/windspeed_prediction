{
 "cells": [
  {
   "cell_type": "code",
   "execution_count": 7,
   "id": "1436518d-0577-4787-b96e-9cc3ced8fcc4",
   "metadata": {
    "tags": []
   },
   "outputs": [],
   "source": [
    "import pandas as pd\n",
    "import numpy as np"
   ]
  },
  {
   "cell_type": "code",
   "execution_count": 8,
   "id": "ab848d69",
   "metadata": {
    "tags": []
   },
   "outputs": [
    {
     "data": {
      "text/html": [
       "<div>\n",
       "<style scoped>\n",
       "    .dataframe tbody tr th:only-of-type {\n",
       "        vertical-align: middle;\n",
       "    }\n",
       "\n",
       "    .dataframe tbody tr th {\n",
       "        vertical-align: top;\n",
       "    }\n",
       "\n",
       "    .dataframe thead th {\n",
       "        text-align: right;\n",
       "    }\n",
       "</style>\n",
       "<table border=\"1\" class=\"dataframe\">\n",
       "  <thead>\n",
       "    <tr style=\"text-align: right;\">\n",
       "      <th></th>\n",
       "      <th>speed</th>\n",
       "    </tr>\n",
       "  </thead>\n",
       "  <tbody>\n",
       "    <tr>\n",
       "      <th>0</th>\n",
       "      <td>7.07905</td>\n",
       "    </tr>\n",
       "    <tr>\n",
       "      <th>1</th>\n",
       "      <td>7.18000</td>\n",
       "    </tr>\n",
       "    <tr>\n",
       "      <th>2</th>\n",
       "      <td>7.00310</td>\n",
       "    </tr>\n",
       "    <tr>\n",
       "      <th>3</th>\n",
       "      <td>7.03170</td>\n",
       "    </tr>\n",
       "    <tr>\n",
       "      <th>4</th>\n",
       "      <td>7.64190</td>\n",
       "    </tr>\n",
       "  </tbody>\n",
       "</table>\n",
       "</div>"
      ],
      "text/plain": [
       "     speed\n",
       "0  7.07905\n",
       "1  7.18000\n",
       "2  7.00310\n",
       "3  7.03170\n",
       "4  7.64190"
      ]
     },
     "execution_count": 8,
     "metadata": {},
     "output_type": "execute_result"
    }
   ],
   "source": [
    "df = pd.read_csv('final_data.csv')\n",
    "df.head()"
   ]
  },
  {
   "cell_type": "code",
   "execution_count": 9,
   "id": "8d08f91b-81e5-440f-9f6f-de3cd4e0e152",
   "metadata": {
    "tags": []
   },
   "outputs": [
    {
     "data": {
      "text/plain": [
       "(8784, 1)"
      ]
     },
     "execution_count": 9,
     "metadata": {},
     "output_type": "execute_result"
    }
   ],
   "source": [
    "df.shape"
   ]
  },
  {
   "cell_type": "code",
   "execution_count": 4,
   "id": "31d0c36f-819c-4ec8-bb26-329ed944b40d",
   "metadata": {},
   "outputs": [
    {
     "data": {
      "text/html": [
       "<div>\n",
       "<style scoped>\n",
       "    .dataframe tbody tr th:only-of-type {\n",
       "        vertical-align: middle;\n",
       "    }\n",
       "\n",
       "    .dataframe tbody tr th {\n",
       "        vertical-align: top;\n",
       "    }\n",
       "\n",
       "    .dataframe thead th {\n",
       "        text-align: right;\n",
       "    }\n",
       "</style>\n",
       "<table border=\"1\" class=\"dataframe\">\n",
       "  <thead>\n",
       "    <tr style=\"text-align: right;\">\n",
       "      <th></th>\n",
       "      <th>date</th>\n",
       "      <th>speed</th>\n",
       "    </tr>\n",
       "  </thead>\n",
       "  <tbody>\n",
       "    <tr>\n",
       "      <th>0</th>\n",
       "      <td>2015-04-01 00:00:00</td>\n",
       "      <td>7.07905</td>\n",
       "    </tr>\n",
       "    <tr>\n",
       "      <th>1</th>\n",
       "      <td>2015-04-01 00:10:00</td>\n",
       "      <td>7.18000</td>\n",
       "    </tr>\n",
       "    <tr>\n",
       "      <th>2</th>\n",
       "      <td>2015-04-01 00:20:00</td>\n",
       "      <td>7.00310</td>\n",
       "    </tr>\n",
       "    <tr>\n",
       "      <th>3</th>\n",
       "      <td>2015-04-01 00:30:00</td>\n",
       "      <td>7.03170</td>\n",
       "    </tr>\n",
       "    <tr>\n",
       "      <th>4</th>\n",
       "      <td>2015-04-01 00:40:00</td>\n",
       "      <td>7.64190</td>\n",
       "    </tr>\n",
       "  </tbody>\n",
       "</table>\n",
       "</div>"
      ],
      "text/plain": [
       "                  date    speed\n",
       "0  2015-04-01 00:00:00  7.07905\n",
       "1  2015-04-01 00:10:00  7.18000\n",
       "2  2015-04-01 00:20:00  7.00310\n",
       "3  2015-04-01 00:30:00  7.03170\n",
       "4  2015-04-01 00:40:00  7.64190"
      ]
     },
     "execution_count": 4,
     "metadata": {},
     "output_type": "execute_result"
    }
   ],
   "source": [
    "df.head()"
   ]
  },
  {
   "cell_type": "code",
   "execution_count": 5,
   "id": "266ad24c-dd94-4cb5-867e-9b339fbccada",
   "metadata": {},
   "outputs": [],
   "source": [
    "X = df.speed\n",
    "Xy = pd.DataFrame()"
   ]
  },
  {
   "cell_type": "code",
   "execution_count": 6,
   "id": "2ee8e222-1dd9-49ba-848b-cb2ced8a189b",
   "metadata": {},
   "outputs": [],
   "source": [
    "for i in range(3,0,-1):\n",
    "    if i == 3:\n",
    "        Xy['t'] = X.shift(i).values\n",
    "    else:\n",
    "        Xy['t+'+str(3-i)] = X.shift(i)\n",
    "Xy['t+3'] = X.values"
   ]
  },
  {
   "cell_type": "code",
   "execution_count": 7,
   "id": "e1e1174f-2930-4668-b5c4-379a9da8b64d",
   "metadata": {},
   "outputs": [
    {
     "data": {
      "text/html": [
       "<div>\n",
       "<style scoped>\n",
       "    .dataframe tbody tr th:only-of-type {\n",
       "        vertical-align: middle;\n",
       "    }\n",
       "\n",
       "    .dataframe tbody tr th {\n",
       "        vertical-align: top;\n",
       "    }\n",
       "\n",
       "    .dataframe thead th {\n",
       "        text-align: right;\n",
       "    }\n",
       "</style>\n",
       "<table border=\"1\" class=\"dataframe\">\n",
       "  <thead>\n",
       "    <tr style=\"text-align: right;\">\n",
       "      <th></th>\n",
       "      <th>t</th>\n",
       "      <th>t+1</th>\n",
       "      <th>t+2</th>\n",
       "      <th>t+3</th>\n",
       "    </tr>\n",
       "  </thead>\n",
       "  <tbody>\n",
       "    <tr>\n",
       "      <th>0</th>\n",
       "      <td>NaN</td>\n",
       "      <td>NaN</td>\n",
       "      <td>NaN</td>\n",
       "      <td>7.07905</td>\n",
       "    </tr>\n",
       "    <tr>\n",
       "      <th>1</th>\n",
       "      <td>NaN</td>\n",
       "      <td>NaN</td>\n",
       "      <td>7.07905</td>\n",
       "      <td>7.18000</td>\n",
       "    </tr>\n",
       "    <tr>\n",
       "      <th>2</th>\n",
       "      <td>NaN</td>\n",
       "      <td>7.07905</td>\n",
       "      <td>7.18000</td>\n",
       "      <td>7.00310</td>\n",
       "    </tr>\n",
       "    <tr>\n",
       "      <th>3</th>\n",
       "      <td>7.07905</td>\n",
       "      <td>7.18000</td>\n",
       "      <td>7.00310</td>\n",
       "      <td>7.03170</td>\n",
       "    </tr>\n",
       "    <tr>\n",
       "      <th>4</th>\n",
       "      <td>7.18000</td>\n",
       "      <td>7.00310</td>\n",
       "      <td>7.03170</td>\n",
       "      <td>7.64190</td>\n",
       "    </tr>\n",
       "    <tr>\n",
       "      <th>...</th>\n",
       "      <td>...</td>\n",
       "      <td>...</td>\n",
       "      <td>...</td>\n",
       "      <td>...</td>\n",
       "    </tr>\n",
       "    <tr>\n",
       "      <th>26347</th>\n",
       "      <td>4.91985</td>\n",
       "      <td>4.91985</td>\n",
       "      <td>5.09035</td>\n",
       "      <td>7.68615</td>\n",
       "    </tr>\n",
       "    <tr>\n",
       "      <th>26348</th>\n",
       "      <td>4.91985</td>\n",
       "      <td>5.09035</td>\n",
       "      <td>7.68615</td>\n",
       "      <td>7.68615</td>\n",
       "    </tr>\n",
       "    <tr>\n",
       "      <th>26349</th>\n",
       "      <td>5.09035</td>\n",
       "      <td>7.68615</td>\n",
       "      <td>7.68615</td>\n",
       "      <td>9.22310</td>\n",
       "    </tr>\n",
       "    <tr>\n",
       "      <th>26350</th>\n",
       "      <td>7.68615</td>\n",
       "      <td>7.68615</td>\n",
       "      <td>9.22310</td>\n",
       "      <td>5.29970</td>\n",
       "    </tr>\n",
       "    <tr>\n",
       "      <th>26351</th>\n",
       "      <td>7.68615</td>\n",
       "      <td>9.22310</td>\n",
       "      <td>5.29970</td>\n",
       "      <td>5.29970</td>\n",
       "    </tr>\n",
       "  </tbody>\n",
       "</table>\n",
       "<p>26352 rows × 4 columns</p>\n",
       "</div>"
      ],
      "text/plain": [
       "             t      t+1      t+2      t+3\n",
       "0          NaN      NaN      NaN  7.07905\n",
       "1          NaN      NaN  7.07905  7.18000\n",
       "2          NaN  7.07905  7.18000  7.00310\n",
       "3      7.07905  7.18000  7.00310  7.03170\n",
       "4      7.18000  7.00310  7.03170  7.64190\n",
       "...        ...      ...      ...      ...\n",
       "26347  4.91985  4.91985  5.09035  7.68615\n",
       "26348  4.91985  5.09035  7.68615  7.68615\n",
       "26349  5.09035  7.68615  7.68615  9.22310\n",
       "26350  7.68615  7.68615  9.22310  5.29970\n",
       "26351  7.68615  9.22310  5.29970  5.29970\n",
       "\n",
       "[26352 rows x 4 columns]"
      ]
     },
     "execution_count": 7,
     "metadata": {},
     "output_type": "execute_result"
    }
   ],
   "source": [
    "Xy"
   ]
  },
  {
   "cell_type": "code",
   "execution_count": 8,
   "id": "e04860e0-afad-403f-b08c-ab197fbd0201",
   "metadata": {},
   "outputs": [
    {
     "data": {
      "text/html": [
       "<div>\n",
       "<style scoped>\n",
       "    .dataframe tbody tr th:only-of-type {\n",
       "        vertical-align: middle;\n",
       "    }\n",
       "\n",
       "    .dataframe tbody tr th {\n",
       "        vertical-align: top;\n",
       "    }\n",
       "\n",
       "    .dataframe thead th {\n",
       "        text-align: right;\n",
       "    }\n",
       "</style>\n",
       "<table border=\"1\" class=\"dataframe\">\n",
       "  <thead>\n",
       "    <tr style=\"text-align: right;\">\n",
       "      <th></th>\n",
       "      <th>t</th>\n",
       "      <th>t+1</th>\n",
       "      <th>t+2</th>\n",
       "      <th>t+3</th>\n",
       "    </tr>\n",
       "  </thead>\n",
       "  <tbody>\n",
       "    <tr>\n",
       "      <th>3</th>\n",
       "      <td>7.07905</td>\n",
       "      <td>7.18000</td>\n",
       "      <td>7.00310</td>\n",
       "      <td>7.03170</td>\n",
       "    </tr>\n",
       "    <tr>\n",
       "      <th>4</th>\n",
       "      <td>7.18000</td>\n",
       "      <td>7.00310</td>\n",
       "      <td>7.03170</td>\n",
       "      <td>7.64190</td>\n",
       "    </tr>\n",
       "    <tr>\n",
       "      <th>5</th>\n",
       "      <td>7.00310</td>\n",
       "      <td>7.03170</td>\n",
       "      <td>7.64190</td>\n",
       "      <td>7.30195</td>\n",
       "    </tr>\n",
       "    <tr>\n",
       "      <th>6</th>\n",
       "      <td>7.03170</td>\n",
       "      <td>7.64190</td>\n",
       "      <td>7.30195</td>\n",
       "      <td>7.07125</td>\n",
       "    </tr>\n",
       "    <tr>\n",
       "      <th>7</th>\n",
       "      <td>7.64190</td>\n",
       "      <td>7.30195</td>\n",
       "      <td>7.07125</td>\n",
       "      <td>6.84290</td>\n",
       "    </tr>\n",
       "    <tr>\n",
       "      <th>...</th>\n",
       "      <td>...</td>\n",
       "      <td>...</td>\n",
       "      <td>...</td>\n",
       "      <td>...</td>\n",
       "    </tr>\n",
       "    <tr>\n",
       "      <th>26347</th>\n",
       "      <td>4.91985</td>\n",
       "      <td>4.91985</td>\n",
       "      <td>5.09035</td>\n",
       "      <td>7.68615</td>\n",
       "    </tr>\n",
       "    <tr>\n",
       "      <th>26348</th>\n",
       "      <td>4.91985</td>\n",
       "      <td>5.09035</td>\n",
       "      <td>7.68615</td>\n",
       "      <td>7.68615</td>\n",
       "    </tr>\n",
       "    <tr>\n",
       "      <th>26349</th>\n",
       "      <td>5.09035</td>\n",
       "      <td>7.68615</td>\n",
       "      <td>7.68615</td>\n",
       "      <td>9.22310</td>\n",
       "    </tr>\n",
       "    <tr>\n",
       "      <th>26350</th>\n",
       "      <td>7.68615</td>\n",
       "      <td>7.68615</td>\n",
       "      <td>9.22310</td>\n",
       "      <td>5.29970</td>\n",
       "    </tr>\n",
       "    <tr>\n",
       "      <th>26351</th>\n",
       "      <td>7.68615</td>\n",
       "      <td>9.22310</td>\n",
       "      <td>5.29970</td>\n",
       "      <td>5.29970</td>\n",
       "    </tr>\n",
       "  </tbody>\n",
       "</table>\n",
       "<p>26349 rows × 4 columns</p>\n",
       "</div>"
      ],
      "text/plain": [
       "             t      t+1      t+2      t+3\n",
       "3      7.07905  7.18000  7.00310  7.03170\n",
       "4      7.18000  7.00310  7.03170  7.64190\n",
       "5      7.00310  7.03170  7.64190  7.30195\n",
       "6      7.03170  7.64190  7.30195  7.07125\n",
       "7      7.64190  7.30195  7.07125  6.84290\n",
       "...        ...      ...      ...      ...\n",
       "26347  4.91985  4.91985  5.09035  7.68615\n",
       "26348  4.91985  5.09035  7.68615  7.68615\n",
       "26349  5.09035  7.68615  7.68615  9.22310\n",
       "26350  7.68615  7.68615  9.22310  5.29970\n",
       "26351  7.68615  9.22310  5.29970  5.29970\n",
       "\n",
       "[26349 rows x 4 columns]"
      ]
     },
     "execution_count": 8,
     "metadata": {},
     "output_type": "execute_result"
    }
   ],
   "source": [
    "Xy = Xy[3:]\n",
    "Xy"
   ]
  },
  {
   "cell_type": "code",
   "execution_count": 9,
   "id": "8a52a58a-da47-4638-ac1e-fb1d340e5747",
   "metadata": {},
   "outputs": [
    {
     "data": {
      "text/plain": [
       "(26349, 4)"
      ]
     },
     "execution_count": 9,
     "metadata": {},
     "output_type": "execute_result"
    }
   ],
   "source": [
    "Xy.shape"
   ]
  },
  {
   "cell_type": "code",
   "execution_count": 10,
   "id": "d76b67db-5ff7-4015-9765-202a8c615e06",
   "metadata": {},
   "outputs": [],
   "source": [
    "tr_len = int(.6*df.shape[0])\n",
    "val_len = (df.shape[0] - tr_len)//2"
   ]
  },
  {
   "cell_type": "code",
   "execution_count": 11,
   "id": "24482a1e-e1c2-4ef7-b8e9-3ee73e3ee80e",
   "metadata": {},
   "outputs": [],
   "source": [
    "X = Xy['t']\n",
    "y = Xy.drop(['t'], axis=1)"
   ]
  },
  {
   "cell_type": "code",
   "execution_count": 12,
   "id": "1a75380a-f861-43f1-aa85-26a701774d23",
   "metadata": {},
   "outputs": [
    {
     "data": {
      "text/plain": [
       "((26349,), (26349, 3))"
      ]
     },
     "execution_count": 12,
     "metadata": {},
     "output_type": "execute_result"
    }
   ],
   "source": [
    "X.shape, y.shape"
   ]
  },
  {
   "cell_type": "code",
   "execution_count": 13,
   "id": "847e4a53-11d6-48e3-9522-e3fe112addaf",
   "metadata": {},
   "outputs": [],
   "source": [
    "import warnings\n",
    "warnings.filterwarnings(\"ignore\")"
   ]
  },
  {
   "cell_type": "code",
   "execution_count": 14,
   "id": "f9b46091-59b6-442b-ba69-00996d991f2c",
   "metadata": {},
   "outputs": [
    {
     "name": "stdout",
     "output_type": "stream",
     "text": [
      "Loading FIF version: 2.13\n",
      "IMF 1\n",
      "IMF 2\n",
      "IMF 3\n",
      "IMF 4\n",
      "IMF 5\n",
      "IMF 6\n",
      "IMF 7\n",
      "IMF 8\n",
      "IMF 9\n",
      "IMF 10\n",
      "IMF 11\n",
      "IMF 12\n",
      "IMF 13\n",
      "IMF 14\n",
      "IMF 15\n",
      "IMF 16\n",
      "IMF 17\n",
      "IMF 18\n",
      "IMF 19\n",
      "IMF 20\n",
      "IMF 21\n",
      "IMF 22\n",
      "IMF 23\n",
      "IMF 24\n",
      "IMF 25\n",
      "IMF 26\n",
      "IMF 27\n",
      "IMF 28\n",
      "IMF 29\n",
      "IMF 30\n",
      "IMF 31\n",
      "IMF 32\n",
      "IMF 33\n",
      "IMF 34\n",
      "IMF 35\n",
      "IMF 36\n",
      "IMF 37\n",
      "IMF 38\n",
      "IMF 39\n",
      "IMF 40\n",
      "IMF 41\n",
      "IMF 42\n",
      "IMF 43\n",
      "IMF 44\n",
      "IMF 45\n",
      "IMF 46\n",
      "IMF 47\n",
      "IMF 48\n",
      "IMF 49\n",
      "IMF 50\n",
      "IMF 51\n",
      "IMF 52\n",
      "IMF 53\n",
      "IMF 54\n",
      "IMF 55\n",
      "IMF 56\n",
      "IMF 57\n",
      "IMF 58\n",
      "IMF 59\n",
      "IMF 60\n",
      "IMF 61\n",
      "IMF 62\n",
      "IMF 63\n",
      "IMF 64\n",
      "Max # of inner steps reached\n",
      "IMF 65\n",
      "IMF 66\n",
      "IMF 67\n",
      "IMF 68\n",
      "IMF 69\n",
      "Max # of inner steps reached\n",
      "IMF 70\n",
      "Max # of inner steps reached\n",
      "IMF 71\n",
      "Max # of inner steps reached\n",
      "IMF 72\n",
      "IMF 73\n",
      "IMF 74\n"
     ]
    }
   ],
   "source": [
    "import FIF\n",
    "    \n",
    "fif=FIF.FIF()\n",
    "fif.run(X)"
   ]
  },
  {
   "cell_type": "code",
   "execution_count": 15,
   "id": "0e3a6763-9ce3-4b91-9ac8-704e3de4d451",
   "metadata": {},
   "outputs": [],
   "source": [
    "def split_data(arr, tr_len):\n",
    "    total_len = arr.shape[0]\n",
    "    val_len = (total_len - tr_len) // 2\n",
    "    tr_arr = arr[:tr_len]\n",
    "    val_arr = arr[tr_len:tr_len+val_len]\n",
    "    tes_arr = arr[tr_len+val_len:]\n",
    "    return tr_arr, val_arr, tes_arr"
   ]
  },
  {
   "cell_type": "code",
   "execution_count": 16,
   "id": "9f4cb9e7-afb7-4052-865f-069f069236df",
   "metadata": {},
   "outputs": [],
   "source": [
    "Xtr, Xval, Xte = split_data(X, int(.6*df.shape[0]))\n",
    "ytr, yval, yte = split_data(y, int(.6*df.shape[0]))"
   ]
  },
  {
   "cell_type": "code",
   "execution_count": 17,
   "id": "129efdae-c33a-4c88-a161-468dd64a3075",
   "metadata": {},
   "outputs": [
    {
     "data": {
      "text/plain": [
       "(75, 26349)"
      ]
     },
     "execution_count": 17,
     "metadata": {},
     "output_type": "execute_result"
    }
   ],
   "source": [
    "fif.data['IMC'].shape"
   ]
  },
  {
   "cell_type": "code",
   "execution_count": 18,
   "id": "13e5c1e9-47e7-4eaa-b3e4-6bfe0b2407fe",
   "metadata": {},
   "outputs": [],
   "source": [
    "df_decomp = pd.DataFrame()\n",
    "# df_decomp['original'] = X\n",
    "for i in range(fif.data['IMC'].shape[0]):\n",
    "    df_decomp['IMF-'+str(i)] = fif.data['IMC'][i, :]\n",
    "\n",
    "# for i in range(3):\n",
    "#     df_decomp['t+'+str(i+1)] = y['t+'+str(i+1)]"
   ]
  },
  {
   "cell_type": "code",
   "execution_count": 19,
   "id": "81cbf0cf-37fe-462a-898f-44769b1b86fd",
   "metadata": {},
   "outputs": [
    {
     "data": {
      "text/plain": [
       "(26349, 75)"
      ]
     },
     "execution_count": 19,
     "metadata": {},
     "output_type": "execute_result"
    }
   ],
   "source": [
    "df_decomp.shape"
   ]
  },
  {
   "cell_type": "code",
   "execution_count": 20,
   "id": "917b37ad-b46e-40eb-b96f-8898cfdb5bd6",
   "metadata": {},
   "outputs": [
    {
     "data": {
      "text/plain": [
       "Index(['IMF-0', 'IMF-1', 'IMF-2', 'IMF-3', 'IMF-4', 'IMF-5', 'IMF-6', 'IMF-7',\n",
       "       'IMF-8', 'IMF-9', 'IMF-10', 'IMF-11', 'IMF-12', 'IMF-13', 'IMF-14',\n",
       "       'IMF-15', 'IMF-16', 'IMF-17', 'IMF-18', 'IMF-19', 'IMF-20', 'IMF-21',\n",
       "       'IMF-22', 'IMF-23', 'IMF-24', 'IMF-25', 'IMF-26', 'IMF-27', 'IMF-28',\n",
       "       'IMF-29', 'IMF-30', 'IMF-31', 'IMF-32', 'IMF-33', 'IMF-34', 'IMF-35',\n",
       "       'IMF-36', 'IMF-37', 'IMF-38', 'IMF-39', 'IMF-40', 'IMF-41', 'IMF-42',\n",
       "       'IMF-43', 'IMF-44', 'IMF-45', 'IMF-46', 'IMF-47', 'IMF-48', 'IMF-49',\n",
       "       'IMF-50', 'IMF-51', 'IMF-52', 'IMF-53', 'IMF-54', 'IMF-55', 'IMF-56',\n",
       "       'IMF-57', 'IMF-58', 'IMF-59', 'IMF-60', 'IMF-61', 'IMF-62', 'IMF-63',\n",
       "       'IMF-64', 'IMF-65', 'IMF-66', 'IMF-67', 'IMF-68', 'IMF-69', 'IMF-70',\n",
       "       'IMF-71', 'IMF-72', 'IMF-73', 'IMF-74'],\n",
       "      dtype='object')"
      ]
     },
     "execution_count": 20,
     "metadata": {},
     "output_type": "execute_result"
    }
   ],
   "source": [
    "df_decomp.columns"
   ]
  },
  {
   "cell_type": "code",
   "execution_count": 22,
   "id": "1ad4d149-3458-4cf0-b175-a7ff9b5a1170",
   "metadata": {},
   "outputs": [],
   "source": [
    "\n",
    "def create_features(series, m, hmin = 10):\n",
    "    h = hmin//10\n",
    "    dataframe = pd.DataFrame()\n",
    "\n",
    "    for i in range(m+h, h, -1):\n",
    "        # if i > h:\n",
    "        dataframe['t-'+str(i-h)] = series.shift(i).values\n",
    "    dataframe['t'] = series.values\n",
    "    dataframe = dataframe[(m+h):]\n",
    "    return dataframe"
   ]
  },
  {
   "cell_type": "code",
   "execution_count": 23,
   "id": "fa6d830f-eefe-48d4-ba11-e56e604f65da",
   "metadata": {},
   "outputs": [],
   "source": [
    "imfs = []\n",
    "for i in range(fif.data['IMC'].shape[0]):\n",
    "    imfs.append(fif.data['IMC'][i, :])"
   ]
  },
  {
   "cell_type": "code",
   "execution_count": 24,
   "id": "09fed370-3eee-41ec-b784-056ae7f3da14",
   "metadata": {},
   "outputs": [],
   "source": [
    "from LSSVM import LSSVMRegression"
   ]
  },
  {
   "cell_type": "code",
   "execution_count": null,
   "id": "b0ed0d2d-05a2-44f5-a6ed-ccb90e48afdb",
   "metadata": {},
   "outputs": [],
   "source": [
    "reg = LSSVMRegression()\n",
    "reg.fit(Xtr.to_numpy().reshape(-1, 1), ytr['t+1'].to_numpy())"
   ]
  },
  {
   "cell_type": "code",
   "execution_count": 33,
   "id": "b42d894e-4372-4b11-a17c-ef856201e0a1",
   "metadata": {},
   "outputs": [
    {
     "data": {
      "text/plain": [
       "(15811, 3)"
      ]
     },
     "execution_count": 33,
     "metadata": {},
     "output_type": "execute_result"
    }
   ],
   "source": [
    "ytr.to_numpy().shape"
   ]
  },
  {
   "cell_type": "code",
   "execution_count": null,
   "id": "0662c0e1-2465-4734-a996-0d4c2faea4a7",
   "metadata": {},
   "outputs": [],
   "source": []
  }
 ],
 "metadata": {
  "kernelspec": {
   "display_name": "Python 3 (ipykernel)",
   "language": "python",
   "name": "python3"
  },
  "language_info": {
   "codemirror_mode": {
    "name": "ipython",
    "version": 3
   },
   "file_extension": ".py",
   "mimetype": "text/x-python",
   "name": "python",
   "nbconvert_exporter": "python",
   "pygments_lexer": "ipython3",
   "version": "3.11.3"
  }
 },
 "nbformat": 4,
 "nbformat_minor": 5
}
