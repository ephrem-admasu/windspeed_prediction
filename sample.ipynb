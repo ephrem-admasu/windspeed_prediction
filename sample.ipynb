{
 "cells": [
  {
   "cell_type": "code",
   "execution_count": 1,
   "id": "dbf090ae-f445-4459-bbf6-5eff2fd5f606",
   "metadata": {
    "tags": []
   },
   "outputs": [],
   "source": [
    "import numpy as np\n",
    "import pandas as pd\n",
    "from cso.cso import CSO\n",
    "from pyswarm import pso\n",
    "import qpso, ebqpso"
   ]
  },
  {
   "cell_type": "code",
   "execution_count": 2,
   "id": "d30da492-eabc-44e4-a3dd-f30872866744",
   "metadata": {
    "tags": []
   },
   "outputs": [],
   "source": [
    "import benchmark_functions as bf"
   ]
  },
  {
   "cell_type": "code",
   "execution_count": 24,
   "id": "e2e64fd0-197c-4941-a5ee-f6b4d0dbffd0",
   "metadata": {
    "tags": []
   },
   "outputs": [],
   "source": [
    "fun=bf.Hypersphere(n_dimensions=20)"
   ]
  },
  {
   "cell_type": "code",
   "execution_count": 25,
   "id": "4124bfe0-5c47-4e84-9b1a-4f5edb625a59",
   "metadata": {
    "tags": []
   },
   "outputs": [],
   "source": [
    "lb = fun.suggested_bounds()[0][0]\n",
    "ub = fun.suggested_bounds()[1][0]"
   ]
  },
  {
   "cell_type": "code",
   "execution_count": 37,
   "id": "1c26f056-4097-4456-a75b-214e28682f9f",
   "metadata": {
    "tags": []
   },
   "outputs": [],
   "source": [
    "def optimize(algo, f, P=30, T=1000):\n",
    "    # print('Minimum: ', f.getMinimum())\n",
    "    lb = f.suggested_bounds()[0][0]\n",
    "    ub = f.suggested_bounds()[1][0]\n",
    "    if algo == 'pso':\n",
    "        return pso(f, [lb for _ in range(f.n_dimensions())], [ub for _ in range(f.n_dimensions())], maxiter=1000)\n",
    "    elif algo == 'cso':\n",
    "        return CSO(fitness=f, bound=[(lb, ub),(lb, ub)], Tmax=T).execute()\n",
    "    elif algo == 'qpso':\n",
    "        return qpso.QPSO(f, f.n_dimensions(), P, lb, ub, T)\n",
    "    elif algo == 'ebqpso':\n",
    "        return ebqpso.EBQPSO(f, f.n_dimensions(), P, lb, ub, 1000, 10)\n",
    "        "
   ]
  },
  {
   "cell_type": "code",
   "execution_count": 51,
   "id": "a33947f3-b807-4052-88f7-b8dbdf1b7944",
   "metadata": {
    "tags": []
   },
   "outputs": [
    {
     "ename": "ZeroDivisionError",
     "evalue": "float division by zero",
     "output_type": "error",
     "traceback": [
      "\u001b[1;31m---------------------------------------------------------------------------\u001b[0m",
      "\u001b[1;31mZeroDivisionError\u001b[0m                         Traceback (most recent call last)",
      "Cell \u001b[1;32mIn[51], line 1\u001b[0m\n\u001b[1;32m----> 1\u001b[0m optimize(\u001b[38;5;124m'\u001b[39m\u001b[38;5;124mqpso\u001b[39m\u001b[38;5;124m'\u001b[39m, fun)\n",
      "Cell \u001b[1;32mIn[37], line 10\u001b[0m, in \u001b[0;36moptimize\u001b[1;34m(algo, f, P, T)\u001b[0m\n\u001b[0;32m      8\u001b[0m     \u001b[38;5;28;01mreturn\u001b[39;00m CSO(fitness\u001b[38;5;241m=\u001b[39mf, bound\u001b[38;5;241m=\u001b[39m[(lb, ub),(lb, ub)], Tmax\u001b[38;5;241m=\u001b[39mT)\u001b[38;5;241m.\u001b[39mexecute()\n\u001b[0;32m      9\u001b[0m \u001b[38;5;28;01melif\u001b[39;00m algo \u001b[38;5;241m==\u001b[39m \u001b[38;5;124m'\u001b[39m\u001b[38;5;124mqpso\u001b[39m\u001b[38;5;124m'\u001b[39m:\n\u001b[1;32m---> 10\u001b[0m     \u001b[38;5;28;01mreturn\u001b[39;00m qpso\u001b[38;5;241m.\u001b[39mQPSO(f, f\u001b[38;5;241m.\u001b[39mn_dimensions(), P, lb, ub, T)\n\u001b[0;32m     11\u001b[0m \u001b[38;5;28;01melif\u001b[39;00m algo \u001b[38;5;241m==\u001b[39m \u001b[38;5;124m'\u001b[39m\u001b[38;5;124mebqpso\u001b[39m\u001b[38;5;124m'\u001b[39m:\n\u001b[0;32m     12\u001b[0m     \u001b[38;5;28;01mreturn\u001b[39;00m ebqpso\u001b[38;5;241m.\u001b[39mEBQPSO(f, f\u001b[38;5;241m.\u001b[39mn_dimensions(), P, lb, ub, \u001b[38;5;241m1000\u001b[39m, \u001b[38;5;241m10\u001b[39m)\n",
      "File \u001b[1;32mD:\\MyFiles\\windPrediction\\qpso.py:55\u001b[0m, in \u001b[0;36mQPSO\u001b[1;34m(fun, D, nPop, lb, ub, maxit)\u001b[0m\n\u001b[0;32m     52\u001b[0m x[i, :] \u001b[38;5;241m=\u001b[39m np\u001b[38;5;241m.\u001b[39mmaximum(x[i,:], lb)\n\u001b[0;32m     53\u001b[0m x[i, :] \u001b[38;5;241m=\u001b[39m np\u001b[38;5;241m.\u001b[39mminimum(x[i,:], ub)\n\u001b[1;32m---> 55\u001b[0m f_x[i] \u001b[38;5;241m=\u001b[39m fun(x[i, :])\n\u001b[0;32m     58\u001b[0m \u001b[38;5;28;01mif\u001b[39;00m f_x[i] \u001b[38;5;241m<\u001b[39m f_pbest[i]:\n\u001b[0;32m     59\u001b[0m     pbest[i, :] \u001b[38;5;241m=\u001b[39m x[i, :]\n",
      "File \u001b[1;32m~\\anaconda3\\envs\\myspace\\Lib\\site-packages\\benchmark_functions\\benchmark_functions.py:35\u001b[0m, in \u001b[0;36mBenchmarkFunction.__call__\u001b[1;34m(self, point, validate)\u001b[0m\n\u001b[0;32m     33\u001b[0m \t\u001b[38;5;28;01mreturn\u001b[39;00m \u001b[38;5;241m-\u001b[39m \u001b[38;5;28mself\u001b[39m\u001b[38;5;241m.\u001b[39m_evaluate(point)\n\u001b[0;32m     34\u001b[0m \u001b[38;5;28;01melse\u001b[39;00m:\n\u001b[1;32m---> 35\u001b[0m \t\u001b[38;5;28;01mreturn\u001b[39;00m \u001b[38;5;28mself\u001b[39m\u001b[38;5;241m.\u001b[39m_evaluate(point)\n",
      "File \u001b[1;32m~\\anaconda3\\envs\\myspace\\Lib\\site-packages\\benchmark_functions\\benchmark_functions.py:494\u001b[0m, in \u001b[0;36mKeane._evaluate\u001b[1;34m(self, point)\u001b[0m\n\u001b[0;32m    492\u001b[0m part1\u001b[38;5;241m=\u001b[39m\u001b[38;5;28mabs\u001b[39m(\u001b[38;5;28msum\u001b[39m([\u001b[38;5;28mpow\u001b[39m(math\u001b[38;5;241m.\u001b[39mcos(x),\u001b[38;5;241m4\u001b[39m) \u001b[38;5;28;01mfor\u001b[39;00m x \u001b[38;5;129;01min\u001b[39;00m point]) \u001b[38;5;241m-\u001b[39m \u001b[38;5;241m2.0\u001b[39m\u001b[38;5;241m*\u001b[39mpart0)\n\u001b[0;32m    493\u001b[0m part2\u001b[38;5;241m=\u001b[39mmath\u001b[38;5;241m.\u001b[39msqrt(\u001b[38;5;28msum\u001b[39m([(i\u001b[38;5;241m+\u001b[39m\u001b[38;5;241m1\u001b[39m)\u001b[38;5;241m*\u001b[39m\u001b[38;5;28mpow\u001b[39m(point[i],\u001b[38;5;241m2\u001b[39m) \u001b[38;5;28;01mfor\u001b[39;00m i \u001b[38;5;129;01min\u001b[39;00m \u001b[38;5;28mrange\u001b[39m(\u001b[38;5;28mlen\u001b[39m(point))]))\n\u001b[1;32m--> 494\u001b[0m \u001b[38;5;28;01mreturn\u001b[39;00m \u001b[38;5;241m-\u001b[39mpart1\u001b[38;5;241m/\u001b[39mpart2\n",
      "\u001b[1;31mZeroDivisionError\u001b[0m: float division by zero"
     ]
    }
   ],
   "source": [
    "optimize('qpso', fun)"
   ]
  },
  {
   "cell_type": "code",
   "execution_count": 40,
   "id": "7487ab88-c718-4980-837d-d9b86d289dd2",
   "metadata": {
    "tags": []
   },
   "outputs": [
    {
     "data": {
      "text/plain": [
       "(array([-332.64141228,  512.        ,  410.1756625 ,  442.42037865,\n",
       "         459.31828349]),\n",
       " -3301.6727553348237)"
      ]
     },
     "execution_count": 40,
     "metadata": {},
     "output_type": "execute_result"
    }
   ],
   "source": [
    "optimize('ebqpso', fun)"
   ]
  },
  {
   "cell_type": "code",
   "execution_count": 41,
   "id": "a84e9667-9a45-4a1d-9b57-e9f22a44cc6d",
   "metadata": {
    "tags": []
   },
   "outputs": [
    {
     "name": "stdout",
     "output_type": "stream",
     "text": [
      "Stopping search: Swarm best objective change less than 1e-08\n"
     ]
    },
    {
     "data": {
      "text/plain": [
       "(array([ 418.49952686,  170.95514421, -435.09043119, -357.98412717,\n",
       "         512.        ]),\n",
       " -2196.814234783947)"
      ]
     },
     "execution_count": 41,
     "metadata": {},
     "output_type": "execute_result"
    }
   ],
   "source": [
    "optimize('pso', fun)"
   ]
  },
  {
   "cell_type": "code",
   "execution_count": 45,
   "id": "3bc99496-93f3-4b04-83fb-8151558d8e5d",
   "metadata": {
    "tags": []
   },
   "outputs": [
    {
     "data": {
      "text/plain": [
       "[]"
      ]
     },
     "execution_count": 45,
     "metadata": {},
     "output_type": "execute_result"
    }
   ],
   "source": [
    "fun.parameters"
   ]
  },
  {
   "cell_type": "code",
   "execution_count": 30,
   "id": "49db6874-2a45-4286-be25-b6426694e4a4",
   "metadata": {
    "tags": []
   },
   "outputs": [],
   "source": [
    "def f(x):\n",
    "    x1 = x[0]\n",
    "    x2 = x[1]\n",
    "    a=np.sqrt(np.fabs(x2+x1/2+47))\n",
    "    b=np.sqrt(np.fabs(x1-(x2+47)))\n",
    "    c=-(x2+47)*np.sin(a)-x1*np.sin(b)\n",
    "    return c\n",
    "\n"
   ]
  },
  {
   "cell_type": "code",
   "execution_count": 34,
   "id": "2987eed8-ea97-43f9-983e-7f7e61553a7c",
   "metadata": {},
   "outputs": [],
   "source": [
    "fun = bf.EggHolder(5)"
   ]
  },
  {
   "cell_type": "code",
   "execution_count": 35,
   "id": "1938c040-c724-4c84-8f77-87b72b125573",
   "metadata": {
    "tags": []
   },
   "outputs": [
    {
     "data": {
      "text/plain": [
       "5"
      ]
     },
     "execution_count": 35,
     "metadata": {},
     "output_type": "execute_result"
    }
   ],
   "source": [
    "fun.n_dimensions()"
   ]
  },
  {
   "cell_type": "code",
   "execution_count": 50,
   "id": "6fa2f63d-a340-4eff-b9d4-04bd2ff969d4",
   "metadata": {
    "tags": []
   },
   "outputs": [],
   "source": [
    "fun = bf.Keane(3)"
   ]
  },
  {
   "cell_type": "code",
   "execution_count": 36,
   "id": "b4e31d89-e8d6-44e5-b7db-3257fd052d27",
   "metadata": {
    "tags": []
   },
   "outputs": [
    {
     "data": {
      "text/plain": [
       "([-512, -512, -512, -512, -512], [512, 512, 512, 512, 512])"
      ]
     },
     "execution_count": 36,
     "metadata": {},
     "output_type": "execute_result"
    }
   ],
   "source": [
    "fun.suggested_bounds()"
   ]
  }
 ],
 "metadata": {
  "kernelspec": {
   "display_name": "Python 3 (ipykernel)",
   "language": "python",
   "name": "python3"
  },
  "language_info": {
   "codemirror_mode": {
    "name": "ipython",
    "version": 3
   },
   "file_extension": ".py",
   "mimetype": "text/x-python",
   "name": "python",
   "nbconvert_exporter": "python",
   "pygments_lexer": "ipython3",
   "version": "3.11.3"
  }
 },
 "nbformat": 4,
 "nbformat_minor": 5
}
