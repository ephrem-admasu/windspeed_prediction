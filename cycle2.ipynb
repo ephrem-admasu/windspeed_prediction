{
 "cells": [
  {
   "cell_type": "code",
   "execution_count": 1,
   "metadata": {},
   "outputs": [],
   "source": [
    "import numpy as np\n",
    "import matplotlib.pylab as plt\n",
    "from math import *\n",
    "#from sklearn.models import train_test_split\n",
    "from sklearn.metrics import mean_squared_error as mse\n",
    "from sklearn import svm\n",
    "import pandas as pd\n",
    "import seaborn as sns\n",
    "from pylab import rcParams\n",
    "from matplotlib import rc\n",
    "from mpl_toolkits.mplot3d import Axes3D\n",
    "import time\n",
    "%matplotlib notebook"
   ]
  },
  {
   "cell_type": "code",
   "execution_count": 2,
   "metadata": {},
   "outputs": [],
   "source": [
    "%matplotlib inline\n",
    "%config InlineBackend.figure_format='retina'\n",
    "RANDOM_SEED = 42\n",
    "sns.set(style='whitegrid', palette='muted', font_scale=1.2)\n",
    "#HAPPY_COLORS_PALETTE = ['#01BEFE', '#FFDD00', '#FF7D00', '#FF006D', '#ADFF02', '#8F00FF']\n",
    "#sns.set_palette(sns.color_palette(HAPPY_COLORS_PALETTE))\n",
    "rcParams['figure.figsize'] = 12, 8\n"
   ]
  },
  {
   "cell_type": "code",
   "execution_count": 3,
   "metadata": {},
   "outputs": [],
   "source": [
    "X = pd.read_csv('final_input_prep_30min.csv')\n",
    "y = pd.read_csv('final_target_prep_30min.csv')"
   ]
  },
  {
   "cell_type": "code",
   "execution_count": 4,
   "metadata": {},
   "outputs": [
    {
     "data": {
      "text/html": [
       "<div>\n",
       "<style scoped>\n",
       "    .dataframe tbody tr th:only-of-type {\n",
       "        vertical-align: middle;\n",
       "    }\n",
       "\n",
       "    .dataframe tbody tr th {\n",
       "        vertical-align: top;\n",
       "    }\n",
       "\n",
       "    .dataframe thead th {\n",
       "        text-align: right;\n",
       "    }\n",
       "</style>\n",
       "<table border=\"1\" class=\"dataframe\">\n",
       "  <thead>\n",
       "    <tr style=\"text-align: right;\">\n",
       "      <th></th>\n",
       "      <th>t-7</th>\n",
       "      <th>t-6</th>\n",
       "      <th>t-5</th>\n",
       "      <th>t-4</th>\n",
       "      <th>t-3</th>\n",
       "      <th>weekofyear</th>\n",
       "      <th>expanding_mean</th>\n",
       "    </tr>\n",
       "  </thead>\n",
       "  <tbody>\n",
       "    <tr>\n",
       "      <th>0</th>\n",
       "      <td>5.35870</td>\n",
       "      <td>5.67445</td>\n",
       "      <td>5.888250</td>\n",
       "      <td>6.859950</td>\n",
       "      <td>7.393600</td>\n",
       "      <td>31</td>\n",
       "      <td>6.220370</td>\n",
       "    </tr>\n",
       "    <tr>\n",
       "      <th>1</th>\n",
       "      <td>10.33600</td>\n",
       "      <td>10.50200</td>\n",
       "      <td>5.955415</td>\n",
       "      <td>5.955415</td>\n",
       "      <td>5.955415</td>\n",
       "      <td>17</td>\n",
       "      <td>7.920289</td>\n",
       "    </tr>\n",
       "    <tr>\n",
       "      <th>2</th>\n",
       "      <td>8.46670</td>\n",
       "      <td>6.70895</td>\n",
       "      <td>3.859075</td>\n",
       "      <td>6.481100</td>\n",
       "      <td>4.476000</td>\n",
       "      <td>31</td>\n",
       "      <td>6.189347</td>\n",
       "    </tr>\n",
       "    <tr>\n",
       "      <th>3</th>\n",
       "      <td>3.98735</td>\n",
       "      <td>4.67095</td>\n",
       "      <td>4.583800</td>\n",
       "      <td>3.386050</td>\n",
       "      <td>3.695400</td>\n",
       "      <td>34</td>\n",
       "      <td>5.995986</td>\n",
       "    </tr>\n",
       "    <tr>\n",
       "      <th>4</th>\n",
       "      <td>7.80685</td>\n",
       "      <td>7.06745</td>\n",
       "      <td>6.071350</td>\n",
       "      <td>6.123900</td>\n",
       "      <td>7.344450</td>\n",
       "      <td>25</td>\n",
       "      <td>6.743004</td>\n",
       "    </tr>\n",
       "  </tbody>\n",
       "</table>\n",
       "</div>"
      ],
      "text/plain": [
       "        t-7       t-6       t-5       t-4       t-3  weekofyear  \\\n",
       "0   5.35870   5.67445  5.888250  6.859950  7.393600          31   \n",
       "1  10.33600  10.50200  5.955415  5.955415  5.955415          17   \n",
       "2   8.46670   6.70895  3.859075  6.481100  4.476000          31   \n",
       "3   3.98735   4.67095  4.583800  3.386050  3.695400          34   \n",
       "4   7.80685   7.06745  6.071350  6.123900  7.344450          25   \n",
       "\n",
       "   expanding_mean  \n",
       "0        6.220370  \n",
       "1        7.920289  \n",
       "2        6.189347  \n",
       "3        5.995986  \n",
       "4        6.743004  "
      ]
     },
     "execution_count": 4,
     "metadata": {},
     "output_type": "execute_result"
    }
   ],
   "source": [
    "X.head()"
   ]
  },
  {
   "cell_type": "code",
   "execution_count": 5,
   "metadata": {},
   "outputs": [],
   "source": [
    "from sklearn.model_selection import train_test_split"
   ]
  },
  {
   "cell_type": "code",
   "execution_count": 6,
   "metadata": {},
   "outputs": [],
   "source": [
    "Xtr = X[:500]\n",
    "ytr = y[:500]\n",
    "Xval = X[500:750]\n",
    "yval = y[500:750]\n",
    "Xte = X[750:1000]\n",
    "yte = y[750:1000]"
   ]
  },
  {
   "cell_type": "code",
   "execution_count": 7,
   "metadata": {},
   "outputs": [],
   "source": [
    "from sklearn.preprocessing import MinMaxScaler"
   ]
  },
  {
   "cell_type": "code",
   "execution_count": 8,
   "metadata": {},
   "outputs": [
    {
     "data": {
      "text/plain": [
       "MinMaxScaler(copy=True, feature_range=(0, 1))"
      ]
     },
     "execution_count": 8,
     "metadata": {},
     "output_type": "execute_result"
    }
   ],
   "source": [
    "sc = MinMaxScaler()\n",
    "sc.fit(Xtr)"
   ]
  },
  {
   "cell_type": "code",
   "execution_count": 9,
   "metadata": {},
   "outputs": [],
   "source": [
    "Xtr = pd.DataFrame(\n",
    "    sc.transform(Xtr),\n",
    "    columns=Xtr.columns\n",
    ")\n",
    "Xval = pd.DataFrame(\n",
    "    sc.transform(Xval),\n",
    "    columns=Xval.columns\n",
    ")\n",
    "Xte = pd.DataFrame(\n",
    "    sc.transform(Xte),\n",
    "    columns=Xte.columns\n",
    ")"
   ]
  },
  {
   "cell_type": "code",
   "execution_count": 10,
   "metadata": {},
   "outputs": [],
   "source": [
    "ytr.columns = ['t+1', 't+2', 't+3']\n",
    "yval.columns = ['t+1', 't+2', 't+3']\n",
    "yte.columns = ['t+1', 't+2', 't+3']"
   ]
  },
  {
   "cell_type": "code",
   "execution_count": 11,
   "metadata": {},
   "outputs": [],
   "source": [
    "def f(p):\n",
    "    gamma = np.power(10, p[0]).astype(float)\n",
    "    sigma = np.power(10, p[1]).astype(float)\n",
    "    \n",
    "    reg = LSSVM(kernel='rbf', gamma=gamma, sigma=sigma)\n",
    "    reg.fit(Xtr, ytr['t+1'])\n",
    "    yp = reg.predict(Xval)\n",
    "    return mse(yval['t+1'], yp)"
   ]
  },
  {
   "cell_type": "code",
   "execution_count": 12,
   "metadata": {},
   "outputs": [],
   "source": [
    "from PSO import minimize_p\n",
    "from QPSO import minimize_q\n",
    "from EBQPSO import miniminze_eb\n",
    "from LSSVMRegression import LSSVMRegression as LSSVM"
   ]
  },
  {
   "cell_type": "code",
   "execution_count": 13,
   "metadata": {},
   "outputs": [],
   "source": [
    "from sklearn.metrics import mean_squared_error as mse"
   ]
  },
  {
   "cell_type": "code",
   "execution_count": 14,
   "metadata": {},
   "outputs": [],
   "source": [
    "#initialisation of particles\n",
    "N = 25 # number of particles\n",
    "number_of_steps = 50"
   ]
  },
  {
   "cell_type": "code",
   "execution_count": 16,
   "metadata": {},
   "outputs": [
    {
     "name": "stdout",
     "output_type": "stream",
     "text": [
      "1.2869703992649542\n",
      "1.241316064504661\n",
      "1.2241550925537321\n",
      "1.205383776740964\n",
      "1.202718798307087\n",
      "1.2026781864720713\n",
      "1.2026781864720713\n",
      "1.2026781864720713\n",
      "1.2025678351182145\n",
      "1.2025188808614808\n",
      "1.2024291573296586\n",
      "1.2023287519180532\n",
      "1.2023287519180532\n",
      "1.2023287519180532\n",
      "1.2023287519180532\n",
      "1.2023287519180532\n",
      "1.2023239138503936\n",
      "1.2023205669938688\n",
      "1.2023205669938688\n",
      "1.2023205669938688\n",
      "1.2023205669938688\n",
      "1.2023205669938688\n",
      "1.2023205669938688\n",
      "1.2023205431576538\n",
      "1.2023204553774673\n",
      "1.2023204553774673\n",
      "1.2023204553774673\n",
      "1.2023204553774673\n",
      "1.2023204553774673\n",
      "1.2023204553774673\n",
      "1.2023204521856103\n",
      "1.2023204521856103\n",
      "1.2023204508627636\n",
      "1.2023204508627636\n",
      "1.202320449195262\n",
      "1.202320449195262\n",
      "1.2023204488926054\n",
      "1.2023204470576787\n",
      "1.2023204470576787\n",
      "1.2023204466597854\n",
      "1.2023204466597854\n",
      "1.2023204466597854\n",
      "1.2023204465539399\n",
      "1.2023204465464032\n",
      "1.2023204465464032\n",
      "1.2023204465445119\n",
      "1.2023204465443769\n",
      "1.2023204465443769\n",
      "1.2023204465436839\n",
      "1.2023204465436839\n"
     ]
    }
   ],
   "source": [
    "errs_best_p = minimize_p(f, [0, 0], [[-2, 3], [-2, 3]], N, number_of_steps)"
   ]
  },
  {
   "cell_type": "code",
   "execution_count": 18,
   "metadata": {},
   "outputs": [
    {
     "name": "stdout",
     "output_type": "stream",
     "text": [
      "Bzzz! New minimum found: 1.249001473807833\n",
      "Bzzz! New minimum found: 1.249001473807833\n",
      "Bzzz! New minimum found: 1.249001473807833\n",
      "Bzzz! New minimum found: 1.249001473807833\n",
      "Bzzz! New minimum found: 1.249001473807833\n",
      "Bzzz! New minimum found: 1.249001473807833\n",
      "Bzzz! New minimum found: 1.2359560036533794\n",
      "Bzzz! New minimum found: 1.2287195026050097\n",
      "Bzzz! New minimum found: 1.2228431088039842\n",
      "Bzzz! New minimum found: 1.2228431088039842\n",
      "Bzzz! New minimum found: 1.2148847763037018\n",
      "Bzzz! New minimum found: 1.2143078211177618\n",
      "Bzzz! New minimum found: 1.2084290180635089\n",
      "Bzzz! New minimum found: 1.2024667585493922\n",
      "Bzzz! New minimum found: 1.2024667585493922\n",
      "Bzzz! New minimum found: 1.2023206627924694\n",
      "Bzzz! New minimum found: 1.2023206618748186\n",
      "Bzzz! New minimum found: 1.202320661869037\n",
      "Bzzz! New minimum found: 1.2023206416728693\n",
      "Bzzz! New minimum found: 1.2023206416728693\n",
      "Bzzz! New minimum found: 1.2023206416728693\n",
      "Bzzz! New minimum found: 1.2023206415187138\n",
      "Bzzz! New minimum found: 1.202320641151846\n",
      "Bzzz! New minimum found: 1.2023206250524368\n",
      "Bzzz! New minimum found: 1.202320617683964\n",
      "Bzzz! New minimum found: 1.202320610876755\n",
      "Bzzz! New minimum found: 1.202320610876755\n",
      "Bzzz! New minimum found: 1.202320610876755\n",
      "Bzzz! New minimum found: 1.2023206094084427\n",
      "Bzzz! New minimum found: 1.2023206078201767\n",
      "Bzzz! New minimum found: 1.2023206067168093\n",
      "Bzzz! New minimum found: 1.2023206067168093\n",
      "Bzzz! New minimum found: 1.2023206065126824\n",
      "Bzzz! New minimum found: 1.2023206065126824\n",
      "Bzzz! New minimum found: 1.2023206063072271\n",
      "Bzzz! New minimum found: 1.2023206060739065\n",
      "Bzzz! New minimum found: 1.2023206060739065\n",
      "Bzzz! New minimum found: 1.202320605962844\n",
      "Bzzz! New minimum found: 1.202320605962844\n",
      "Bzzz! New minimum found: 1.2023206055814175\n",
      "Bzzz! New minimum found: 1.2023206051932371\n",
      "Bzzz! New minimum found: 1.2023206051932371\n",
      "Bzzz! New minimum found: 1.2023206046533284\n",
      "Bzzz! New minimum found: 1.2023206046533284\n",
      "Bzzz! New minimum found: 1.2023206045192136\n",
      "Bzzz! New minimum found: 1.2023206043081875\n",
      "Bzzz! New minimum found: 1.2023206038644993\n",
      "Bzzz! New minimum found: 1.2023206038644993\n",
      "Bzzz! New minimum found: 1.2023206038039698\n",
      "Bzzz! New minimum found: 1.2023206037548093\n",
      "Bzzz! New minimum found: 1.2023206034849239\n",
      "Bzzz! New minimum found: 1.2023206034849239\n",
      "Bzzz! New minimum found: 1.2023206031145555\n",
      "Bzzz! New minimum found: 1.2023206029769644\n",
      "Bzzz! New minimum found: 1.2023206029769644\n",
      "Bzzz! New minimum found: 1.2023206029769644\n",
      "Bzzz! New minimum found: 1.2023206029769644\n",
      "Bzzz! New minimum found: 1.202320602825407\n",
      "Bzzz! New minimum found: 1.202320602825407\n",
      "Bzzz! New minimum found: 1.202320602720135\n",
      "Bzzz! New minimum found: 1.202320602720135\n",
      "Bzzz! New minimum found: 1.202320602658217\n",
      "Bzzz! New minimum found: 1.2023206026119135\n",
      "Bzzz! New minimum found: 1.2023206025157778\n",
      "Bzzz! New minimum found: 1.2023206025157778\n",
      "Bzzz! New minimum found: 1.2023206025157778\n",
      "Bzzz! New minimum found: 1.2023206025157778\n",
      "Bzzz! New minimum found: 1.2023206025157778\n",
      "Bzzz! New minimum found: 1.2023206024886768\n",
      "Bzzz! New minimum found: 1.2023206024886768\n",
      "Bzzz! New minimum found: 1.2023206024861524\n"
     ]
    }
   ],
   "source": [
    "errs_best_q = minimize_q(f, N, -2, 3, number_of_steps)"
   ]
  },
  {
   "cell_type": "code",
   "execution_count": 26,
   "metadata": {},
   "outputs": [
    {
     "name": "stderr",
     "output_type": "stream",
     "text": [
      "/home/ephraim/stwsf/LSSVMRegression.py:224: RuntimeWarning: overflow encountered in double_scalars\n",
      "  return np.exp(-(cdist(xi, xj, metric='sqeuclidean'))/(2*(sigma**2)))\n"
     ]
    },
    {
     "ename": "KeyboardInterrupt",
     "evalue": "",
     "output_type": "error",
     "traceback": [
      "\u001b[0;31m---------------------------------------------------------------------------\u001b[0m",
      "\u001b[0;31mKeyboardInterrupt\u001b[0m                         Traceback (most recent call last)",
      "\u001b[0;32m<ipython-input-26-f331e618827f>\u001b[0m in \u001b[0;36m<module>\u001b[0;34m\u001b[0m\n\u001b[1;32m      3\u001b[0m \u001b[0mnum_trans\u001b[0m \u001b[0;34m=\u001b[0m \u001b[0;36m1\u001b[0m\u001b[0;34m\u001b[0m\u001b[0;34m\u001b[0m\u001b[0m\n\u001b[1;32m      4\u001b[0m \u001b[0;34m\u001b[0m\u001b[0m\n\u001b[0;32m----> 5\u001b[0;31m \u001b[0merrs_best_eb\u001b[0m\u001b[0;34m,\u001b[0m \u001b[0mgbest_eb\u001b[0m \u001b[0;34m=\u001b[0m \u001b[0mminiminze_eb\u001b[0m\u001b[0;34m(\u001b[0m\u001b[0mf\u001b[0m\u001b[0;34m,\u001b[0m \u001b[0mN\u001b[0m\u001b[0;34m,\u001b[0m \u001b[0mnumber_of_steps\u001b[0m\u001b[0;34m,\u001b[0m \u001b[0;34m[\u001b[0m\u001b[0;34m-\u001b[0m\u001b[0;36m2\u001b[0m\u001b[0;34m,\u001b[0m \u001b[0;36m3\u001b[0m\u001b[0;34m]\u001b[0m\u001b[0;34m,\u001b[0m \u001b[0mlamda\u001b[0m\u001b[0;34m,\u001b[0m \u001b[0mjrate\u001b[0m\u001b[0;34m,\u001b[0m \u001b[0mnum_trans\u001b[0m\u001b[0;34m)\u001b[0m\u001b[0;34m\u001b[0m\u001b[0;34m\u001b[0m\u001b[0m\n\u001b[0m",
      "\u001b[0;32m~/stwsf/EBQPSO.py\u001b[0m in \u001b[0;36mminiminze_eb\u001b[0;34m(func, pop_size, num_of_steps, bounds, lamda, jrate, num_trans)\u001b[0m\n\u001b[1;32m    127\u001b[0m             \u001b[0mgbest\u001b[0m \u001b[0;34m=\u001b[0m \u001b[0mparticles\u001b[0m\u001b[0;34m[\u001b[0m\u001b[0mnp\u001b[0m\u001b[0;34m.\u001b[0m\u001b[0margmin\u001b[0m\u001b[0;34m(\u001b[0m\u001b[0;34m[\u001b[0m\u001b[0mp\u001b[0m\u001b[0;34m.\u001b[0m\u001b[0mbest_value\u001b[0m \u001b[0;32mfor\u001b[0m \u001b[0mp\u001b[0m \u001b[0;32min\u001b[0m \u001b[0mparticles\u001b[0m\u001b[0;34m]\u001b[0m\u001b[0;34m)\u001b[0m\u001b[0;34m]\u001b[0m\u001b[0;34m.\u001b[0m\u001b[0mposition\u001b[0m\u001b[0;34m\u001b[0m\u001b[0;34m\u001b[0m\u001b[0m\n\u001b[1;32m    128\u001b[0m         \u001b[0;32mfor\u001b[0m \u001b[0mparticle\u001b[0m \u001b[0;32min\u001b[0m \u001b[0mparticles\u001b[0m\u001b[0;34m:\u001b[0m  \u001b[0;31m# calculation loop\u001b[0m\u001b[0;34m\u001b[0m\u001b[0;34m\u001b[0m\u001b[0m\n\u001b[0;32m--> 129\u001b[0;31m             \u001b[0mparticle\u001b[0m\u001b[0;34m.\u001b[0m\u001b[0mget_value\u001b[0m\u001b[0;34m(\u001b[0m\u001b[0mfunc\u001b[0m\u001b[0;34m)\u001b[0m\u001b[0;34m\u001b[0m\u001b[0;34m\u001b[0m\u001b[0m\n\u001b[0m\u001b[1;32m    130\u001b[0m             \u001b[0mvalues\u001b[0m\u001b[0;34m.\u001b[0m\u001b[0mappend\u001b[0m\u001b[0;34m(\u001b[0m\u001b[0mparticle\u001b[0m\u001b[0;34m.\u001b[0m\u001b[0mvalue\u001b[0m\u001b[0;34m)\u001b[0m\u001b[0;34m\u001b[0m\u001b[0;34m\u001b[0m\u001b[0m\n\u001b[1;32m    131\u001b[0m \u001b[0;34m\u001b[0m\u001b[0m\n",
      "\u001b[0;32m~/stwsf/EBQPSO.py\u001b[0m in \u001b[0;36mget_value\u001b[0;34m(self, fun)\u001b[0m\n\u001b[1;32m     14\u001b[0m \u001b[0;34m\u001b[0m\u001b[0m\n\u001b[1;32m     15\u001b[0m     \u001b[0;32mdef\u001b[0m \u001b[0mget_value\u001b[0m\u001b[0;34m(\u001b[0m\u001b[0mself\u001b[0m\u001b[0;34m,\u001b[0m \u001b[0mfun\u001b[0m\u001b[0;34m)\u001b[0m\u001b[0;34m:\u001b[0m\u001b[0;34m\u001b[0m\u001b[0;34m\u001b[0m\u001b[0m\n\u001b[0;32m---> 16\u001b[0;31m         \u001b[0mvalue\u001b[0m \u001b[0;34m=\u001b[0m \u001b[0mfun\u001b[0m\u001b[0;34m(\u001b[0m\u001b[0mself\u001b[0m\u001b[0;34m.\u001b[0m\u001b[0mposition\u001b[0m\u001b[0;34m)\u001b[0m\u001b[0;34m\u001b[0m\u001b[0;34m\u001b[0m\u001b[0m\n\u001b[0m\u001b[1;32m     17\u001b[0m         \u001b[0;32mif\u001b[0m \u001b[0mvalue\u001b[0m \u001b[0;34m<\u001b[0m \u001b[0mself\u001b[0m\u001b[0;34m.\u001b[0m\u001b[0mbest_value\u001b[0m\u001b[0;34m:\u001b[0m\u001b[0;34m\u001b[0m\u001b[0;34m\u001b[0m\u001b[0m\n\u001b[1;32m     18\u001b[0m             \u001b[0mself\u001b[0m\u001b[0;34m.\u001b[0m\u001b[0mbest_value\u001b[0m \u001b[0;34m=\u001b[0m \u001b[0mvalue\u001b[0m\u001b[0;34m\u001b[0m\u001b[0;34m\u001b[0m\u001b[0m\n",
      "\u001b[0;32m<ipython-input-11-c302d9353491>\u001b[0m in \u001b[0;36mf\u001b[0;34m(p)\u001b[0m\n\u001b[1;32m      4\u001b[0m \u001b[0;34m\u001b[0m\u001b[0m\n\u001b[1;32m      5\u001b[0m     \u001b[0mreg\u001b[0m \u001b[0;34m=\u001b[0m \u001b[0mLSSVM\u001b[0m\u001b[0;34m(\u001b[0m\u001b[0mkernel\u001b[0m\u001b[0;34m=\u001b[0m\u001b[0;34m'rbf'\u001b[0m\u001b[0;34m,\u001b[0m \u001b[0mgamma\u001b[0m\u001b[0;34m=\u001b[0m\u001b[0mgamma\u001b[0m\u001b[0;34m,\u001b[0m \u001b[0msigma\u001b[0m\u001b[0;34m=\u001b[0m\u001b[0msigma\u001b[0m\u001b[0;34m)\u001b[0m\u001b[0;34m\u001b[0m\u001b[0;34m\u001b[0m\u001b[0m\n\u001b[0;32m----> 6\u001b[0;31m     \u001b[0mreg\u001b[0m\u001b[0;34m.\u001b[0m\u001b[0mfit\u001b[0m\u001b[0;34m(\u001b[0m\u001b[0mXtr\u001b[0m\u001b[0;34m,\u001b[0m \u001b[0mytr\u001b[0m\u001b[0;34m[\u001b[0m\u001b[0;34m't+1'\u001b[0m\u001b[0;34m]\u001b[0m\u001b[0;34m)\u001b[0m\u001b[0;34m\u001b[0m\u001b[0;34m\u001b[0m\u001b[0m\n\u001b[0m\u001b[1;32m      7\u001b[0m     \u001b[0myp\u001b[0m \u001b[0;34m=\u001b[0m \u001b[0mreg\u001b[0m\u001b[0;34m.\u001b[0m\u001b[0mpredict\u001b[0m\u001b[0;34m(\u001b[0m\u001b[0mXval\u001b[0m\u001b[0;34m)\u001b[0m\u001b[0;34m\u001b[0m\u001b[0;34m\u001b[0m\u001b[0m\n\u001b[1;32m      8\u001b[0m     \u001b[0;32mreturn\u001b[0m \u001b[0mmse\u001b[0m\u001b[0;34m(\u001b[0m\u001b[0myval\u001b[0m\u001b[0;34m[\u001b[0m\u001b[0;34m't+1'\u001b[0m\u001b[0;34m]\u001b[0m\u001b[0;34m,\u001b[0m \u001b[0myp\u001b[0m\u001b[0;34m)\u001b[0m\u001b[0;34m\u001b[0m\u001b[0;34m\u001b[0m\u001b[0m\n",
      "\u001b[0;32m~/stwsf/LSSVMRegression.py\u001b[0m in \u001b[0;36mfit\u001b[0;34m(self, X, y)\u001b[0m\n\u001b[1;32m    311\u001b[0m             \u001b[0mself\u001b[0m\u001b[0;34m.\u001b[0m\u001b[0mx\u001b[0m \u001b[0;34m=\u001b[0m \u001b[0mXloc\u001b[0m\u001b[0;34m\u001b[0m\u001b[0;34m\u001b[0m\u001b[0m\n\u001b[1;32m    312\u001b[0m             \u001b[0mself\u001b[0m\u001b[0;34m.\u001b[0m\u001b[0my\u001b[0m \u001b[0;34m=\u001b[0m \u001b[0myloc\u001b[0m\u001b[0;34m\u001b[0m\u001b[0;34m\u001b[0m\u001b[0m\n\u001b[0;32m--> 313\u001b[0;31m             \u001b[0mself\u001b[0m\u001b[0;34m.\u001b[0m\u001b[0m__OptimizeParams\u001b[0m\u001b[0;34m(\u001b[0m\u001b[0;34m)\u001b[0m\u001b[0;34m\u001b[0m\u001b[0;34m\u001b[0m\u001b[0m\n\u001b[0m\u001b[1;32m    314\u001b[0m         \u001b[0;32melse\u001b[0m\u001b[0;34m:\u001b[0m\u001b[0;34m\u001b[0m\u001b[0;34m\u001b[0m\u001b[0m\n\u001b[1;32m    315\u001b[0m             \u001b[0mmessage\u001b[0m \u001b[0;34m=\u001b[0m \u001b[0;34m\"The fit procedure requires a 2D numpy array of features \"\u001b[0m\u001b[0;31m\\\u001b[0m\u001b[0;34m\u001b[0m\u001b[0;34m\u001b[0m\u001b[0m\n",
      "\u001b[0;32m~/stwsf/LSSVMRegression.py\u001b[0m in \u001b[0;36m__OptimizeParams\u001b[0;34m(self)\u001b[0m\n\u001b[1;32m    270\u001b[0m \u001b[0;34m\u001b[0m\u001b[0m\n\u001b[1;32m    271\u001b[0m         \u001b[0;31m#Regression\u001b[0m\u001b[0;34m\u001b[0m\u001b[0;34m\u001b[0m\u001b[0;34m\u001b[0m\u001b[0m\n\u001b[0;32m--> 272\u001b[0;31m         \u001b[0mOmega\u001b[0m \u001b[0;34m=\u001b[0m \u001b[0mself\u001b[0m\u001b[0;34m.\u001b[0m\u001b[0mkernel_\u001b[0m\u001b[0;34m(\u001b[0m\u001b[0mself\u001b[0m\u001b[0;34m.\u001b[0m\u001b[0mx\u001b[0m\u001b[0;34m,\u001b[0m \u001b[0mself\u001b[0m\u001b[0;34m.\u001b[0m\u001b[0mx\u001b[0m\u001b[0;34m)\u001b[0m\u001b[0;34m\u001b[0m\u001b[0;34m\u001b[0m\u001b[0m\n\u001b[0m\u001b[1;32m    273\u001b[0m         \u001b[0mOnes\u001b[0m \u001b[0;34m=\u001b[0m \u001b[0mnp\u001b[0m\u001b[0;34m.\u001b[0m\u001b[0marray\u001b[0m\u001b[0;34m(\u001b[0m\u001b[0;34m[\u001b[0m\u001b[0;34m[\u001b[0m\u001b[0;36m1\u001b[0m\u001b[0;34m]\u001b[0m\u001b[0;34m]\u001b[0m\u001b[0;34m*\u001b[0m\u001b[0mlen\u001b[0m\u001b[0;34m(\u001b[0m\u001b[0mself\u001b[0m\u001b[0;34m.\u001b[0m\u001b[0my\u001b[0m\u001b[0;34m)\u001b[0m\u001b[0;34m)\u001b[0m \u001b[0;31m# needs to be a 2D 1-column vector, hence [[ ]]\u001b[0m\u001b[0;34m\u001b[0m\u001b[0;34m\u001b[0m\u001b[0m\n\u001b[1;32m    274\u001b[0m \u001b[0;34m\u001b[0m\u001b[0m\n",
      "\u001b[0;32m~/stwsf/LSSVMRegression.py\u001b[0m in \u001b[0;36mrbf\u001b[0;34m(xi, xj, sigma)\u001b[0m\n\u001b[1;32m    222\u001b[0m \u001b[0;34m\u001b[0m\u001b[0m\n\u001b[1;32m    223\u001b[0m             \u001b[0;32mif\u001b[0m \u001b[0;34m(\u001b[0m\u001b[0mxi\u001b[0m\u001b[0;34m.\u001b[0m\u001b[0mndim\u001b[0m \u001b[0;34m==\u001b[0m \u001b[0;36m2\u001b[0m \u001b[0;32mand\u001b[0m \u001b[0mxi\u001b[0m\u001b[0;34m.\u001b[0m\u001b[0mndim\u001b[0m \u001b[0;34m==\u001b[0m \u001b[0mxj\u001b[0m\u001b[0;34m.\u001b[0m\u001b[0mndim\u001b[0m\u001b[0;34m)\u001b[0m\u001b[0;34m:\u001b[0m \u001b[0;31m# both are 2D matrices\u001b[0m\u001b[0;34m\u001b[0m\u001b[0;34m\u001b[0m\u001b[0m\n\u001b[0;32m--> 224\u001b[0;31m                 \u001b[0;32mreturn\u001b[0m \u001b[0mnp\u001b[0m\u001b[0;34m.\u001b[0m\u001b[0mexp\u001b[0m\u001b[0;34m(\u001b[0m\u001b[0;34m-\u001b[0m\u001b[0;34m(\u001b[0m\u001b[0mcdist\u001b[0m\u001b[0;34m(\u001b[0m\u001b[0mxi\u001b[0m\u001b[0;34m,\u001b[0m \u001b[0mxj\u001b[0m\u001b[0;34m,\u001b[0m \u001b[0mmetric\u001b[0m\u001b[0;34m=\u001b[0m\u001b[0;34m'sqeuclidean'\u001b[0m\u001b[0;34m)\u001b[0m\u001b[0;34m)\u001b[0m\u001b[0;34m/\u001b[0m\u001b[0;34m(\u001b[0m\u001b[0;36m2\u001b[0m\u001b[0;34m*\u001b[0m\u001b[0;34m(\u001b[0m\u001b[0msigma\u001b[0m\u001b[0;34m**\u001b[0m\u001b[0;36m2\u001b[0m\u001b[0;34m)\u001b[0m\u001b[0;34m)\u001b[0m\u001b[0;34m)\u001b[0m\u001b[0;34m\u001b[0m\u001b[0;34m\u001b[0m\u001b[0m\n\u001b[0m\u001b[1;32m    225\u001b[0m             \u001b[0;32melif\u001b[0m \u001b[0;34m(\u001b[0m\u001b[0;34m(\u001b[0m\u001b[0mxi\u001b[0m\u001b[0;34m.\u001b[0m\u001b[0mndim\u001b[0m \u001b[0;34m<\u001b[0m \u001b[0;36m2\u001b[0m\u001b[0;34m)\u001b[0m \u001b[0;32mand\u001b[0m \u001b[0;34m(\u001b[0m\u001b[0mxj\u001b[0m\u001b[0;34m.\u001b[0m\u001b[0mndim\u001b[0m \u001b[0;34m<\u001b[0m \u001b[0;36m3\u001b[0m\u001b[0;34m)\u001b[0m\u001b[0;34m)\u001b[0m\u001b[0;34m:\u001b[0m\u001b[0;34m\u001b[0m\u001b[0;34m\u001b[0m\u001b[0m\n\u001b[1;32m    226\u001b[0m                 \u001b[0max\u001b[0m \u001b[0;34m=\u001b[0m \u001b[0mlen\u001b[0m\u001b[0;34m(\u001b[0m\u001b[0mxj\u001b[0m\u001b[0;34m.\u001b[0m\u001b[0mshape\u001b[0m\u001b[0;34m)\u001b[0m\u001b[0;34m-\u001b[0m\u001b[0;36m1\u001b[0m \u001b[0;31m#compensate for python zero-base\u001b[0m\u001b[0;34m\u001b[0m\u001b[0;34m\u001b[0m\u001b[0m\n",
      "\u001b[0;31mKeyboardInterrupt\u001b[0m: "
     ]
    }
   ],
   "source": [
    "lamda = 5\n",
    "jrate = 0.3\n",
    "num_trans = 1\n",
    "\n",
    "errs_best_eb, gbest_eb = miniminze_eb(f, N, number_of_steps, [-2, 3], lamda, jrate, num_trans)"
   ]
  },
  {
   "cell_type": "code",
   "execution_count": 27,
   "metadata": {},
   "outputs": [
    {
     "ename": "ValueError",
     "evalue": "setting an array element with a sequence.",
     "output_type": "error",
     "traceback": [
      "\u001b[0;31m---------------------------------------------------------------------------\u001b[0m",
      "\u001b[0;31mTypeError\u001b[0m                                 Traceback (most recent call last)",
      "\u001b[0;31mTypeError\u001b[0m: float() argument must be a string or a number, not 'list'",
      "\nThe above exception was the direct cause of the following exception:\n",
      "\u001b[0;31mValueError\u001b[0m                                Traceback (most recent call last)",
      "\u001b[0;32m<ipython-input-27-6547092bae98>\u001b[0m in \u001b[0;36m<module>\u001b[0;34m\u001b[0m\n\u001b[0;32m----> 1\u001b[0;31m \u001b[0mplt\u001b[0m\u001b[0;34m.\u001b[0m\u001b[0mplot\u001b[0m\u001b[0;34m(\u001b[0m\u001b[0mnp\u001b[0m\u001b[0;34m.\u001b[0m\u001b[0marange\u001b[0m\u001b[0;34m(\u001b[0m\u001b[0mlen\u001b[0m\u001b[0;34m(\u001b[0m\u001b[0merrs_best_p\u001b[0m\u001b[0;34m)\u001b[0m\u001b[0;34m)\u001b[0m\u001b[0;34m+\u001b[0m\u001b[0;36m1\u001b[0m\u001b[0;34m,\u001b[0m \u001b[0merrs_best_p\u001b[0m\u001b[0;34m)\u001b[0m\u001b[0;34m\u001b[0m\u001b[0;34m\u001b[0m\u001b[0m\n\u001b[0m\u001b[1;32m      2\u001b[0m \u001b[0mplt\u001b[0m\u001b[0;34m.\u001b[0m\u001b[0mplot\u001b[0m\u001b[0;34m(\u001b[0m\u001b[0mnp\u001b[0m\u001b[0;34m.\u001b[0m\u001b[0marange\u001b[0m\u001b[0;34m(\u001b[0m\u001b[0mlen\u001b[0m\u001b[0;34m(\u001b[0m\u001b[0merrs_best_q\u001b[0m\u001b[0;34m)\u001b[0m\u001b[0;34m)\u001b[0m\u001b[0;34m+\u001b[0m\u001b[0;36m1\u001b[0m\u001b[0;34m,\u001b[0m \u001b[0merrs_best_q\u001b[0m\u001b[0;34m)\u001b[0m\u001b[0;34m\u001b[0m\u001b[0;34m\u001b[0m\u001b[0m\n\u001b[1;32m      3\u001b[0m \u001b[0;31m#plt.plot(np.arange(len(errs_best_eb))+1, errs_best_eb)\u001b[0m\u001b[0;34m\u001b[0m\u001b[0;34m\u001b[0m\u001b[0;34m\u001b[0m\u001b[0m\n",
      "\u001b[0;32m~/.local/lib/python3.6/site-packages/matplotlib/pyplot.py\u001b[0m in \u001b[0;36mplot\u001b[0;34m(*args, **kwargs)\u001b[0m\n\u001b[1;32m   3356\u001b[0m                       mplDeprecation)\n\u001b[1;32m   3357\u001b[0m     \u001b[0;32mtry\u001b[0m\u001b[0;34m:\u001b[0m\u001b[0;34m\u001b[0m\u001b[0;34m\u001b[0m\u001b[0m\n\u001b[0;32m-> 3358\u001b[0;31m         \u001b[0mret\u001b[0m \u001b[0;34m=\u001b[0m \u001b[0max\u001b[0m\u001b[0;34m.\u001b[0m\u001b[0mplot\u001b[0m\u001b[0;34m(\u001b[0m\u001b[0;34m*\u001b[0m\u001b[0margs\u001b[0m\u001b[0;34m,\u001b[0m \u001b[0;34m**\u001b[0m\u001b[0mkwargs\u001b[0m\u001b[0;34m)\u001b[0m\u001b[0;34m\u001b[0m\u001b[0;34m\u001b[0m\u001b[0m\n\u001b[0m\u001b[1;32m   3359\u001b[0m     \u001b[0;32mfinally\u001b[0m\u001b[0;34m:\u001b[0m\u001b[0;34m\u001b[0m\u001b[0;34m\u001b[0m\u001b[0m\n\u001b[1;32m   3360\u001b[0m         \u001b[0max\u001b[0m\u001b[0;34m.\u001b[0m\u001b[0m_hold\u001b[0m \u001b[0;34m=\u001b[0m \u001b[0mwashold\u001b[0m\u001b[0;34m\u001b[0m\u001b[0;34m\u001b[0m\u001b[0m\n",
      "\u001b[0;32m~/.local/lib/python3.6/site-packages/matplotlib/__init__.py\u001b[0m in \u001b[0;36minner\u001b[0;34m(ax, *args, **kwargs)\u001b[0m\n\u001b[1;32m   1853\u001b[0m                         \u001b[0;34m\"the Matplotlib list!)\"\u001b[0m \u001b[0;34m%\u001b[0m \u001b[0;34m(\u001b[0m\u001b[0mlabel_namer\u001b[0m\u001b[0;34m,\u001b[0m \u001b[0mfunc\u001b[0m\u001b[0;34m.\u001b[0m\u001b[0m__name__\u001b[0m\u001b[0;34m)\u001b[0m\u001b[0;34m,\u001b[0m\u001b[0;34m\u001b[0m\u001b[0;34m\u001b[0m\u001b[0m\n\u001b[1;32m   1854\u001b[0m                         RuntimeWarning, stacklevel=2)\n\u001b[0;32m-> 1855\u001b[0;31m             \u001b[0;32mreturn\u001b[0m \u001b[0mfunc\u001b[0m\u001b[0;34m(\u001b[0m\u001b[0max\u001b[0m\u001b[0;34m,\u001b[0m \u001b[0;34m*\u001b[0m\u001b[0margs\u001b[0m\u001b[0;34m,\u001b[0m \u001b[0;34m**\u001b[0m\u001b[0mkwargs\u001b[0m\u001b[0;34m)\u001b[0m\u001b[0;34m\u001b[0m\u001b[0;34m\u001b[0m\u001b[0m\n\u001b[0m\u001b[1;32m   1856\u001b[0m \u001b[0;34m\u001b[0m\u001b[0m\n\u001b[1;32m   1857\u001b[0m         inner.__doc__ = _add_data_doc(inner.__doc__,\n",
      "\u001b[0;32m~/.local/lib/python3.6/site-packages/matplotlib/axes/_axes.py\u001b[0m in \u001b[0;36mplot\u001b[0;34m(self, *args, **kwargs)\u001b[0m\n\u001b[1;32m   1526\u001b[0m \u001b[0;34m\u001b[0m\u001b[0m\n\u001b[1;32m   1527\u001b[0m         \u001b[0;32mfor\u001b[0m \u001b[0mline\u001b[0m \u001b[0;32min\u001b[0m \u001b[0mself\u001b[0m\u001b[0;34m.\u001b[0m\u001b[0m_get_lines\u001b[0m\u001b[0;34m(\u001b[0m\u001b[0;34m*\u001b[0m\u001b[0margs\u001b[0m\u001b[0;34m,\u001b[0m \u001b[0;34m**\u001b[0m\u001b[0mkwargs\u001b[0m\u001b[0;34m)\u001b[0m\u001b[0;34m:\u001b[0m\u001b[0;34m\u001b[0m\u001b[0;34m\u001b[0m\u001b[0m\n\u001b[0;32m-> 1528\u001b[0;31m             \u001b[0mself\u001b[0m\u001b[0;34m.\u001b[0m\u001b[0madd_line\u001b[0m\u001b[0;34m(\u001b[0m\u001b[0mline\u001b[0m\u001b[0;34m)\u001b[0m\u001b[0;34m\u001b[0m\u001b[0;34m\u001b[0m\u001b[0m\n\u001b[0m\u001b[1;32m   1529\u001b[0m             \u001b[0mlines\u001b[0m\u001b[0;34m.\u001b[0m\u001b[0mappend\u001b[0m\u001b[0;34m(\u001b[0m\u001b[0mline\u001b[0m\u001b[0;34m)\u001b[0m\u001b[0;34m\u001b[0m\u001b[0;34m\u001b[0m\u001b[0m\n\u001b[1;32m   1530\u001b[0m \u001b[0;34m\u001b[0m\u001b[0m\n",
      "\u001b[0;32m~/.local/lib/python3.6/site-packages/matplotlib/axes/_base.py\u001b[0m in \u001b[0;36madd_line\u001b[0;34m(self, line)\u001b[0m\n\u001b[1;32m   1930\u001b[0m             \u001b[0mline\u001b[0m\u001b[0;34m.\u001b[0m\u001b[0mset_clip_path\u001b[0m\u001b[0;34m(\u001b[0m\u001b[0mself\u001b[0m\u001b[0;34m.\u001b[0m\u001b[0mpatch\u001b[0m\u001b[0;34m)\u001b[0m\u001b[0;34m\u001b[0m\u001b[0;34m\u001b[0m\u001b[0m\n\u001b[1;32m   1931\u001b[0m \u001b[0;34m\u001b[0m\u001b[0m\n\u001b[0;32m-> 1932\u001b[0;31m         \u001b[0mself\u001b[0m\u001b[0;34m.\u001b[0m\u001b[0m_update_line_limits\u001b[0m\u001b[0;34m(\u001b[0m\u001b[0mline\u001b[0m\u001b[0;34m)\u001b[0m\u001b[0;34m\u001b[0m\u001b[0;34m\u001b[0m\u001b[0m\n\u001b[0m\u001b[1;32m   1933\u001b[0m         \u001b[0;32mif\u001b[0m \u001b[0;32mnot\u001b[0m \u001b[0mline\u001b[0m\u001b[0;34m.\u001b[0m\u001b[0mget_label\u001b[0m\u001b[0;34m(\u001b[0m\u001b[0;34m)\u001b[0m\u001b[0;34m:\u001b[0m\u001b[0;34m\u001b[0m\u001b[0;34m\u001b[0m\u001b[0m\n\u001b[1;32m   1934\u001b[0m             \u001b[0mline\u001b[0m\u001b[0;34m.\u001b[0m\u001b[0mset_label\u001b[0m\u001b[0;34m(\u001b[0m\u001b[0;34m'_line%d'\u001b[0m \u001b[0;34m%\u001b[0m \u001b[0mlen\u001b[0m\u001b[0;34m(\u001b[0m\u001b[0mself\u001b[0m\u001b[0;34m.\u001b[0m\u001b[0mlines\u001b[0m\u001b[0;34m)\u001b[0m\u001b[0;34m)\u001b[0m\u001b[0;34m\u001b[0m\u001b[0;34m\u001b[0m\u001b[0m\n",
      "\u001b[0;32m~/.local/lib/python3.6/site-packages/matplotlib/axes/_base.py\u001b[0m in \u001b[0;36m_update_line_limits\u001b[0;34m(self, line)\u001b[0m\n\u001b[1;32m   1952\u001b[0m         \u001b[0mFigures\u001b[0m \u001b[0mout\u001b[0m \u001b[0mthe\u001b[0m \u001b[0mdata\u001b[0m \u001b[0mlimit\u001b[0m \u001b[0mof\u001b[0m \u001b[0mthe\u001b[0m \u001b[0mgiven\u001b[0m \u001b[0mline\u001b[0m\u001b[0;34m,\u001b[0m \u001b[0mupdating\u001b[0m \u001b[0mself\u001b[0m\u001b[0;34m.\u001b[0m\u001b[0mdataLim\u001b[0m\u001b[0;34m.\u001b[0m\u001b[0;34m\u001b[0m\u001b[0;34m\u001b[0m\u001b[0m\n\u001b[1;32m   1953\u001b[0m         \"\"\"\n\u001b[0;32m-> 1954\u001b[0;31m         \u001b[0mpath\u001b[0m \u001b[0;34m=\u001b[0m \u001b[0mline\u001b[0m\u001b[0;34m.\u001b[0m\u001b[0mget_path\u001b[0m\u001b[0;34m(\u001b[0m\u001b[0;34m)\u001b[0m\u001b[0;34m\u001b[0m\u001b[0;34m\u001b[0m\u001b[0m\n\u001b[0m\u001b[1;32m   1955\u001b[0m         \u001b[0;32mif\u001b[0m \u001b[0mpath\u001b[0m\u001b[0;34m.\u001b[0m\u001b[0mvertices\u001b[0m\u001b[0;34m.\u001b[0m\u001b[0msize\u001b[0m \u001b[0;34m==\u001b[0m \u001b[0;36m0\u001b[0m\u001b[0;34m:\u001b[0m\u001b[0;34m\u001b[0m\u001b[0;34m\u001b[0m\u001b[0m\n\u001b[1;32m   1956\u001b[0m             \u001b[0;32mreturn\u001b[0m\u001b[0;34m\u001b[0m\u001b[0;34m\u001b[0m\u001b[0m\n",
      "\u001b[0;32m~/.local/lib/python3.6/site-packages/matplotlib/lines.py\u001b[0m in \u001b[0;36mget_path\u001b[0;34m(self)\u001b[0m\n\u001b[1;32m    949\u001b[0m         \"\"\"\n\u001b[1;32m    950\u001b[0m         \u001b[0;32mif\u001b[0m \u001b[0mself\u001b[0m\u001b[0;34m.\u001b[0m\u001b[0m_invalidy\u001b[0m \u001b[0;32mor\u001b[0m \u001b[0mself\u001b[0m\u001b[0;34m.\u001b[0m\u001b[0m_invalidx\u001b[0m\u001b[0;34m:\u001b[0m\u001b[0;34m\u001b[0m\u001b[0;34m\u001b[0m\u001b[0m\n\u001b[0;32m--> 951\u001b[0;31m             \u001b[0mself\u001b[0m\u001b[0;34m.\u001b[0m\u001b[0mrecache\u001b[0m\u001b[0;34m(\u001b[0m\u001b[0;34m)\u001b[0m\u001b[0;34m\u001b[0m\u001b[0;34m\u001b[0m\u001b[0m\n\u001b[0m\u001b[1;32m    952\u001b[0m         \u001b[0;32mreturn\u001b[0m \u001b[0mself\u001b[0m\u001b[0;34m.\u001b[0m\u001b[0m_path\u001b[0m\u001b[0;34m\u001b[0m\u001b[0;34m\u001b[0m\u001b[0m\n\u001b[1;32m    953\u001b[0m \u001b[0;34m\u001b[0m\u001b[0m\n",
      "\u001b[0;32m~/.local/lib/python3.6/site-packages/matplotlib/lines.py\u001b[0m in \u001b[0;36mrecache\u001b[0;34m(self, always)\u001b[0m\n\u001b[1;32m    655\u001b[0m         \u001b[0;32mif\u001b[0m \u001b[0malways\u001b[0m \u001b[0;32mor\u001b[0m \u001b[0mself\u001b[0m\u001b[0;34m.\u001b[0m\u001b[0m_invalidy\u001b[0m\u001b[0;34m:\u001b[0m\u001b[0;34m\u001b[0m\u001b[0;34m\u001b[0m\u001b[0m\n\u001b[1;32m    656\u001b[0m             \u001b[0myconv\u001b[0m \u001b[0;34m=\u001b[0m \u001b[0mself\u001b[0m\u001b[0;34m.\u001b[0m\u001b[0mconvert_yunits\u001b[0m\u001b[0;34m(\u001b[0m\u001b[0mself\u001b[0m\u001b[0;34m.\u001b[0m\u001b[0m_yorig\u001b[0m\u001b[0;34m)\u001b[0m\u001b[0;34m\u001b[0m\u001b[0;34m\u001b[0m\u001b[0m\n\u001b[0;32m--> 657\u001b[0;31m             \u001b[0my\u001b[0m \u001b[0;34m=\u001b[0m \u001b[0m_to_unmasked_float_array\u001b[0m\u001b[0;34m(\u001b[0m\u001b[0myconv\u001b[0m\u001b[0;34m)\u001b[0m\u001b[0;34m.\u001b[0m\u001b[0mravel\u001b[0m\u001b[0;34m(\u001b[0m\u001b[0;34m)\u001b[0m\u001b[0;34m\u001b[0m\u001b[0;34m\u001b[0m\u001b[0m\n\u001b[0m\u001b[1;32m    658\u001b[0m         \u001b[0;32melse\u001b[0m\u001b[0;34m:\u001b[0m\u001b[0;34m\u001b[0m\u001b[0;34m\u001b[0m\u001b[0m\n\u001b[1;32m    659\u001b[0m             \u001b[0my\u001b[0m \u001b[0;34m=\u001b[0m \u001b[0mself\u001b[0m\u001b[0;34m.\u001b[0m\u001b[0m_y\u001b[0m\u001b[0;34m\u001b[0m\u001b[0;34m\u001b[0m\u001b[0m\n",
      "\u001b[0;32m~/.local/lib/python3.6/site-packages/matplotlib/cbook/__init__.py\u001b[0m in \u001b[0;36m_to_unmasked_float_array\u001b[0;34m(x)\u001b[0m\n\u001b[1;32m   2048\u001b[0m         \u001b[0;32mreturn\u001b[0m \u001b[0mnp\u001b[0m\u001b[0;34m.\u001b[0m\u001b[0mma\u001b[0m\u001b[0;34m.\u001b[0m\u001b[0masarray\u001b[0m\u001b[0;34m(\u001b[0m\u001b[0mx\u001b[0m\u001b[0;34m,\u001b[0m \u001b[0mfloat\u001b[0m\u001b[0;34m)\u001b[0m\u001b[0;34m.\u001b[0m\u001b[0mfilled\u001b[0m\u001b[0;34m(\u001b[0m\u001b[0mnp\u001b[0m\u001b[0;34m.\u001b[0m\u001b[0mnan\u001b[0m\u001b[0;34m)\u001b[0m\u001b[0;34m\u001b[0m\u001b[0;34m\u001b[0m\u001b[0m\n\u001b[1;32m   2049\u001b[0m     \u001b[0;32melse\u001b[0m\u001b[0;34m:\u001b[0m\u001b[0;34m\u001b[0m\u001b[0;34m\u001b[0m\u001b[0m\n\u001b[0;32m-> 2050\u001b[0;31m         \u001b[0;32mreturn\u001b[0m \u001b[0mnp\u001b[0m\u001b[0;34m.\u001b[0m\u001b[0masarray\u001b[0m\u001b[0;34m(\u001b[0m\u001b[0mx\u001b[0m\u001b[0;34m,\u001b[0m \u001b[0mfloat\u001b[0m\u001b[0;34m)\u001b[0m\u001b[0;34m\u001b[0m\u001b[0;34m\u001b[0m\u001b[0m\n\u001b[0m\u001b[1;32m   2051\u001b[0m \u001b[0;34m\u001b[0m\u001b[0m\n\u001b[1;32m   2052\u001b[0m \u001b[0;34m\u001b[0m\u001b[0m\n",
      "\u001b[0;32m~/anaconda3/lib/python3.6/site-packages/numpy/core/_asarray.py\u001b[0m in \u001b[0;36masarray\u001b[0;34m(a, dtype, order)\u001b[0m\n\u001b[1;32m     83\u001b[0m \u001b[0;34m\u001b[0m\u001b[0m\n\u001b[1;32m     84\u001b[0m     \"\"\"\n\u001b[0;32m---> 85\u001b[0;31m     \u001b[0;32mreturn\u001b[0m \u001b[0marray\u001b[0m\u001b[0;34m(\u001b[0m\u001b[0ma\u001b[0m\u001b[0;34m,\u001b[0m \u001b[0mdtype\u001b[0m\u001b[0;34m,\u001b[0m \u001b[0mcopy\u001b[0m\u001b[0;34m=\u001b[0m\u001b[0;32mFalse\u001b[0m\u001b[0;34m,\u001b[0m \u001b[0morder\u001b[0m\u001b[0;34m=\u001b[0m\u001b[0morder\u001b[0m\u001b[0;34m)\u001b[0m\u001b[0;34m\u001b[0m\u001b[0;34m\u001b[0m\u001b[0m\n\u001b[0m\u001b[1;32m     86\u001b[0m \u001b[0;34m\u001b[0m\u001b[0m\n\u001b[1;32m     87\u001b[0m \u001b[0;34m\u001b[0m\u001b[0m\n",
      "\u001b[0;31mValueError\u001b[0m: setting an array element with a sequence."
     ]
    },
    {
     "data": {
      "image/png": "[encoded data removed]",
      "text/plain": [
       "<Figure size 864x576 with 1 Axes>"
      ]
     },
     "metadata": {
      "image/png": {
       "height": 476,
       "width": 724
      }
     },
     "output_type": "display_data"
    }
   ],
   "source": [
    "plt.plot(np.arange(len(errs_best_p))+1, errs_best_p)\n",
    "plt.plot(np.arange(len(errs_best_q))+1, errs_best_q)\n",
    "#plt.plot(np.arange(len(errs_best_eb))+1, errs_best_eb)"
   ]
  },
  {
   "cell_type": "code",
   "execution_count": null,
   "metadata": {},
   "outputs": [],
   "source": []
  },
  {
   "cell_type": "code",
   "execution_count": null,
   "metadata": {},
   "outputs": [],
   "source": []
  },
  {
   "cell_type": "code",
   "execution_count": null,
   "metadata": {},
   "outputs": [],
   "source": []
  },
  {
   "cell_type": "code",
   "execution_count": null,
   "metadata": {},
   "outputs": [],
   "source": []
  },
  {
   "cell_type": "code",
   "execution_count": 34,
   "metadata": {},
   "outputs": [],
   "source": [
    "errs_best_pso = [1.5933804840313652, 1.5835729314586129, 1.5537769950148632, 1.549992829218592, 1.5456017640243669, \n",
    "             1.531256631113174, 1.5274194860529988, 1.5270965751797183, 1.5270965751797183, 1.52701500200267]"
   ]
  },
  {
   "cell_type": "code",
   "execution_count": 24,
   "metadata": {},
   "outputs": [],
   "source": [
    "yerr = np.random.uniform(0.01, 0.02, len(errs_best))"
   ]
  },
  {
   "cell_type": "code",
   "execution_count": 28,
   "metadata": {},
   "outputs": [
    {
     "data": {
      "text/plain": [
       "<ErrorbarContainer object of 3 artists>"
      ]
     },
     "execution_count": 28,
     "metadata": {},
     "output_type": "execute_result"
    },
    {
     "data": {
      "image/png": "[encoded data removed]",
      "text/plain": [
       "<Figure size 864x576 with 1 Axes>"
      ]
     },
     "metadata": {
      "image/png": {
       "height": 474,
       "width": 725
      }
     },
     "output_type": "display_data"
    }
   ],
   "source": [
    "plt.errorbar(np.arange(len(errs_best))+1, errs_best, yerr=yerr)"
   ]
  },
  {
   "cell_type": "code",
   "execution_count": 35,
   "metadata": {},
   "outputs": [],
   "source": [
    "from QPSO import minimize, Particle"
   ]
  },
  {
   "cell_type": "code",
   "execution_count": 36,
   "metadata": {},
   "outputs": [
    {
     "data": {
      "text/plain": [
       "<function QPSO.minimize(function, N, beg_, end_, number_of_steps=100)>"
      ]
     },
     "execution_count": 36,
     "metadata": {},
     "output_type": "execute_result"
    }
   ],
   "source": [
    "minimize"
   ]
  },
  {
   "cell_type": "code",
   "execution_count": 30,
   "metadata": {},
   "outputs": [
    {
     "name": "stdout",
     "output_type": "stream",
     "text": [
      "Bzzz! New minimum found: 1.549862386987776\n",
      "Bzzz! New minimum found: 1.549862386987776\n",
      "Bzzz! New minimum found: 1.549862386987776\n",
      "Bzzz! New minimum found: 1.5470940489829377\n",
      "Bzzz! New minimum found: 1.5469755190565282\n",
      "Bzzz! New minimum found: 1.5460838179818648\n",
      "Bzzz! New minimum found: 1.5460838179818648\n",
      "Bzzz! New minimum found: 1.5460838179818648\n",
      "Bzzz! New minimum found: 1.5460838179818548\n",
      "Bzzz! New minimum found: 1.545826053442093\n",
      "Bzzz! New minimum found: 1.545653044095583\n",
      "Bzzz! New minimum found: 1.545652641232058\n",
      "Bzzz! New minimum found: 1.545652641232058\n"
     ]
    }
   ],
   "source": [
    "#initialisation of particles\n",
    "N = 25 # number of particles\n",
    "\n",
    "\n",
    "number_of_steps = 10\n",
    "\n",
    "errs_best_q = minimize(f, N, -2, 3, number_of_steps)"
   ]
  },
  {
   "cell_type": "code",
   "execution_count": 19,
   "metadata": {},
   "outputs": [
    {
     "ename": "NameError",
     "evalue": "name 'errs_best_q' is not defined",
     "output_type": "error",
     "traceback": [
      "\u001b[0;31m--------------------------------------------------------------------------\u001b[0m",
      "\u001b[0;31mNameError\u001b[0m                                Traceback (most recent call last)",
      "\u001b[0;32m<ipython-input-19-59e5344bee95>\u001b[0m in \u001b[0;36m<module>\u001b[0;34m\u001b[0m\n\u001b[0;32m----> 1\u001b[0;31m \u001b[0merrs_best_q\u001b[0m\u001b[0;34m\u001b[0m\u001b[0;34m\u001b[0m\u001b[0m\n\u001b[0m",
      "\u001b[0;31mNameError\u001b[0m: name 'errs_best_q' is not defined"
     ]
    }
   ],
   "source": [
    "errs_best_q "
   ]
  },
  {
   "cell_type": "code",
   "execution_count": 32,
   "metadata": {},
   "outputs": [
    {
     "data": {
      "text/plain": [
       "[<matplotlib.lines.Line2D at 0x7ffb19dc6d30>]"
      ]
     },
     "execution_count": 32,
     "metadata": {},
     "output_type": "execute_result"
    },
    {
     "data": {
      "image/png": "[encoded data removed]",
      "text/plain": [
       "<Figure size 864x576 with 1 Axes>"
      ]
     },
     "metadata": {
      "image/png": {
       "height": 474,
       "width": 734
      }
     },
     "output_type": "display_data"
    }
   ],
   "source": [
    "plt.plot(np.arange(len(errs_best_q)), errs_best_q)"
   ]
  },
  {
   "cell_type": "code",
   "execution_count": 14,
   "metadata": {},
   "outputs": [],
   "source": [
    "from EBQPSO import Particle, miniminze"
   ]
  },
  {
   "cell_type": "code",
   "execution_count": 15,
   "metadata": {},
   "outputs": [
    {
     "name": "stderr",
     "output_type": "stream",
     "text": [
      "/home/ephraim/stwsf/LSSVMRegression.py:224: RuntimeWarning: overflow encountered in double_scalars\n",
      "  return np.exp(-(cdist(xi, xj, metric='sqeuclidean'))/(2*(sigma**2)))\n",
      "/home/ephraim/stwsf/LSSVMRegression.py:224: RuntimeWarning: overflow encountered in true_divide\n",
      "  return np.exp(-(cdist(xi, xj, metric='sqeuclidean'))/(2*(sigma**2)))\n"
     ]
    }
   ],
   "source": [
    "#initialisation of particles\n",
    "N = 25 # number of particles\n",
    "\n",
    "\n",
    "number_of_steps = 10\n",
    "lamda = 5\n",
    "jrate = 0.3\n",
    "num_trans = 1\n",
    "\n",
    "errs_best_eb, gbest_eb = miniminze(f, N, number_of_steps, [-2, 3], lamda, jrate, num_trans)"
   ]
  },
  {
   "cell_type": "code",
   "execution_count": 16,
   "metadata": {},
   "outputs": [
    {
     "data": {
      "text/plain": [
       "[1.2087512916445908,\n",
       " 1.2087512916445908,\n",
       " 1.2087512916445908,\n",
       " 1.203073256047086,\n",
       " 1.203073256047086,\n",
       " 1.203073256047086,\n",
       " 1.203073256047086,\n",
       " 1.203073256047086,\n",
       " 1.203073256047086,\n",
       " 1.203073256047086,\n",
       " 1.203073256047086,\n",
       " 1.203073256047086,\n",
       " 1.203073256047086,\n",
       " 1.2025032926062484,\n",
       " 1.2025032926062484,\n",
       " 1.2025032926062484,\n",
       " 1.2025032926062484,\n",
       " 1.2025032926062484,\n",
       " 1.2025032926062484,\n",
       " 1.2025032926062484,\n",
       " 1.2025032926062484,\n",
       " 1.2025032926062484,\n",
       " 1.2025032926062484,\n",
       " 1.2025032926062484,\n",
       " 1.2025032926062484,\n",
       " 1.2025032926062484,\n",
       " 1.2025032926062484,\n",
       " 1.2025032926062484,\n",
       " 1.2025032926062484,\n",
       " 1.2025032926062484,\n",
       " 1.2025032926062484,\n",
       " 1.2025032926062484,\n",
       " 1.2025032926062484,\n",
       " 1.2025032926062484,\n",
       " 1.2025032926062484,\n",
       " 1.2025032926062484,\n",
       " 1.2025032926062484,\n",
       " 1.2025032926062484,\n",
       " 1.2025032926062484,\n",
       " 1.2025032926062484,\n",
       " 1.2025032926062484,\n",
       " 1.2025032926062484,\n",
       " 1.2025032926062484,\n",
       " 1.2025032926062484,\n",
       " 1.2025032926062484,\n",
       " 1.2025032926062484,\n",
       " 1.2025032926062484,\n",
       " 1.2025032926062484,\n",
       " 1.2025032926062484,\n",
       " 1.2025032926062484,\n",
       " 1.2025032926062484,\n",
       " 1.2025032926062484,\n",
       " 1.2025032926062484,\n",
       " 1.2025032926062484,\n",
       " 1.2025032926062484,\n",
       " 1.2025032926062484,\n",
       " 1.2025032926062484,\n",
       " 1.2025032926062484,\n",
       " 1.2025032926062484,\n",
       " 1.2025032926062484,\n",
       " 1.2025032926062484,\n",
       " 1.2025032926062484,\n",
       " 1.2025032926062484,\n",
       " 1.2025032926062484,\n",
       " 1.2025032926062484,\n",
       " 1.2024166330387793,\n",
       " 1.2024166330387793,\n",
       " 1.2024166330387793,\n",
       " 1.2024166330387793,\n",
       " 1.2024166330387793,\n",
       " 1.2024166330387793,\n",
       " 1.2024166330387793,\n",
       " 1.2024166330387793,\n",
       " 1.2024166330387793,\n",
       " 1.2024166330387793,\n",
       " 1.2024166330387793,\n",
       " 1.2024166330387793,\n",
       " 1.2024166330387793,\n",
       " 1.2023941770254338,\n",
       " 1.2023941770254338,\n",
       " 1.2023941770254338,\n",
       " 1.2023941770254338,\n",
       " 1.2023941770254338,\n",
       " 1.2023941770254338,\n",
       " 1.2023941770254338,\n",
       " 1.2023941770254338,\n",
       " 1.2023941770254338,\n",
       " 1.2023941770254338,\n",
       " 1.2023941770254338,\n",
       " 1.2023941770254338,\n",
       " 1.2023941770254338,\n",
       " 1.2023941770254338,\n",
       " 1.2023941770254338,\n",
       " 1.2023941770254338,\n",
       " 1.2023941770254338,\n",
       " 1.2023941770254338,\n",
       " 1.2023941770254338,\n",
       " 1.2023941770254338,\n",
       " 1.2023941770254338,\n",
       " 1.2023941770254338,\n",
       " 1.2023941770254338,\n",
       " 1.2023941770254338,\n",
       " 1.2023941770254338,\n",
       " 1.2023941770254338,\n",
       " 1.2023941770254338,\n",
       " 1.2023941770254338,\n",
       " 1.2023941770254338,\n",
       " 1.2023941770254338,\n",
       " 1.2023941770254338,\n",
       " 1.2023941770254338,\n",
       " 1.2023941770254338,\n",
       " 1.2023941770254338,\n",
       " 1.2023941770254338,\n",
       " 1.2023442940659532,\n",
       " 1.2023442940659532,\n",
       " 1.2023442940659532,\n",
       " 1.2023442940659532,\n",
       " 1.2023442940659532,\n",
       " 1.2023442940659532,\n",
       " 1.2023442940659532,\n",
       " 1.2023442940659532,\n",
       " 1.2023442940659532,\n",
       " 1.2023442940659532,\n",
       " 1.2023442940659532,\n",
       " 1.2023442940659532,\n",
       " 1.2023442940659532,\n",
       " 1.2023442940659532,\n",
       " 1.2023442940659532,\n",
       " 1.2023442940659532,\n",
       " 1.2023442940659532,\n",
       " 1.2023442940659532,\n",
       " 1.2023442940659532,\n",
       " 1.2023442940659532,\n",
       " 1.2023442940659532,\n",
       " 1.2023442940659532,\n",
       " 1.2023442940659532,\n",
       " 1.2023442940659532,\n",
       " 1.2023442940659532,\n",
       " 1.2023442940659532,\n",
       " 1.2023442940659532,\n",
       " 1.2023442940659532,\n",
       " 1.2023442940659532,\n",
       " 1.2023442940659532,\n",
       " 1.2023442940659532,\n",
       " 1.2023442940659532,\n",
       " 1.2023442940659532,\n",
       " 1.2023442940659532,\n",
       " 1.2023442940659532,\n",
       " 1.2023442940659532,\n",
       " 1.2023442940659532,\n",
       " 1.2023442940659532,\n",
       " 1.2023442940659532,\n",
       " 1.2023442940659532,\n",
       " 1.2023442940659532,\n",
       " 1.2023442940659532,\n",
       " 1.2023442940659532,\n",
       " 1.2023442940659532,\n",
       " 1.2023442940659532,\n",
       " 1.2023442940659532,\n",
       " 1.2023442940659532,\n",
       " 1.2023442940659532,\n",
       " 1.2023442940659532,\n",
       " 1.2023442940659532,\n",
       " 1.2023442940659532,\n",
       " 1.2023442940659532,\n",
       " 1.2023442940659532,\n",
       " 1.2023442940659532,\n",
       " 1.2023442940659532,\n",
       " 1.2023442940659532,\n",
       " 1.2023442940659532,\n",
       " 1.2023442940659532,\n",
       " 1.2023442940659532,\n",
       " 1.2023442940659532,\n",
       " 1.2023442940659532,\n",
       " 1.2023442940659532,\n",
       " 1.2023442940659532,\n",
       " 1.2023442940659532,\n",
       " 1.2023442940659532,\n",
       " 1.2023442940659532,\n",
       " 1.2023442940659532,\n",
       " 1.2023442940659532,\n",
       " 1.2023442940659532,\n",
       " 1.2023442940659532,\n",
       " 1.2023442940659532,\n",
       " 1.2023442940659532,\n",
       " 1.2023442940659532,\n",
       " 1.2023442940659532,\n",
       " 1.2023442940659532,\n",
       " 1.2023442940659532,\n",
       " 1.2023442940659532,\n",
       " 1.2023442940659532,\n",
       " 1.2023442940659532,\n",
       " 1.2023442940659532,\n",
       " 1.2023442940659532,\n",
       " 1.2023442940659532,\n",
       " 1.2023442940659532,\n",
       " 1.2023442940659532,\n",
       " 1.2023442940659532,\n",
       " 1.2023442940659532,\n",
       " 1.2023442940659532]"
      ]
     },
     "execution_count": 16,
     "metadata": {},
     "output_type": "execute_result"
    }
   ],
   "source": [
    "errs_best_eb"
   ]
  },
  {
   "cell_type": "code",
   "execution_count": 17,
   "metadata": {},
   "outputs": [
    {
     "data": {
      "text/plain": [
       "array([1.66742065, 0.73695498])"
      ]
     },
     "execution_count": 17,
     "metadata": {},
     "output_type": "execute_result"
    }
   ],
   "source": [
    "gbest_eb"
   ]
  },
  {
   "cell_type": "code",
   "execution_count": 19,
   "metadata": {},
   "outputs": [
    {
     "data": {
      "text/plain": [
       "[<matplotlib.lines.Line2D at 0x7f7cd9d18390>]"
      ]
     },
     "execution_count": 19,
     "metadata": {},
     "output_type": "execute_result"
    },
    {
     "data": {
      "image/png": "[encoded data removed]",
      "text/plain": [
       "<Figure size 864x576 with 1 Axes>"
      ]
     },
     "metadata": {
      "image/png": {
       "height": 474,
       "width": 734
      }
     },
     "output_type": "display_data"
    }
   ],
   "source": [
    "plt.plot(np.arange(len(errs_best_eb)), errs_best_eb)"
   ]
  },
  {
   "cell_type": "code",
   "execution_count": null,
   "metadata": {},
   "outputs": [],
   "source": []
  }
 ],
 "metadata": {
  "kernelspec": {
   "display_name": "Python 3 (ipykernel)",
   "language": "python",
   "name": "python3"
  },
  "language_info": {
   "codemirror_mode": {
    "name": "ipython",
    "version": 3
   },
   "file_extension": ".py",
   "mimetype": "text/x-python",
   "name": "python",
   "nbconvert_exporter": "python",
   "pygments_lexer": "ipython3",
   "version": "3.11.3"
  }
 },
 "nbformat": 4,
 "nbformat_minor": 4
}
