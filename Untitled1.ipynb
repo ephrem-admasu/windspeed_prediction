{
 "cells": [
  {
   "cell_type": "code",
   "execution_count": 1,
   "metadata": {},
   "outputs": [],
   "source": [
    "import numpy as np\n",
    "import matplotlib.pylab as plt\n",
    "from math import *\n",
    "#from sklearn.models import train_test_split\n",
    "from sklearn.metrics import mean_squared_error as mse\n",
    "from sklearn import svm\n",
    "import pandas as pd\n",
    "import seaborn as sns\n",
    "from pylab import rcParams\n",
    "from matplotlib import rc\n",
    "from mpl_toolkits.mplot3d import Axes3D\n",
    "import time\n",
    "%matplotlib notebook"
   ]
  },
  {
   "cell_type": "code",
   "execution_count": 2,
   "metadata": {},
   "outputs": [],
   "source": [
    "%matplotlib inline\n",
    "%config InlineBackend.figure_format='retina'\n",
    "RANDOM_SEED = 42\n",
    "sns.set(style='whitegrid', palette='muted', font_scale=1.2)\n",
    "HAPPY_COLORS_PALETTE = ['#01BEFE', '#FFDD00', '#FF7D00', '#FF006D', '#ADFF02', '#8F00FF']\n",
    "sns.set_palette(sns.color_palette(HAPPY_COLORS_PALETTE))\n",
    "rcParams['figure.figsize'] = 12, 8\n"
   ]
  },
  {
   "cell_type": "code",
   "execution_count": 3,
   "metadata": {},
   "outputs": [],
   "source": [
    "df1 = pd.read_csv('err1.csv')\n",
    "df2 = pd.read_csv('err2.csv')\n",
    "df3 = pd.read_csv('err3.csv')\n",
    "df = pd.read_csv('final_all.csv')"
   ]
  },
  {
   "cell_type": "code",
   "execution_count": 10,
   "metadata": {},
   "outputs": [],
   "source": [
    "df1.columns = ['speed', 'models']\n",
    "df2.columns = ['speed', 'models']\n",
    "df3.columns = ['speed', 'models']"
   ]
  },
  {
   "cell_type": "code",
   "execution_count": 87,
   "metadata": {},
   "outputs": [],
   "source": [
    "error_lssvm_1 = df1.loc[df1['models'] == 'LSSVM']['speed'].to_numpy()\n",
    "error_eb_1 = df1.loc[df1['models'] == 'EBQPSO-LSSVM']['speed'].to_numpy()\n",
    "error_bpnn_1 = df1.loc[df1['models'] == 'BP-NN']['speed'].to_numpy()\n",
    "error_lstm_1 = df1.loc[df1['models'] == 'LSTM']['speed'].to_numpy()"
   ]
  },
  {
   "cell_type": "code",
   "execution_count": 86,
   "metadata": {},
   "outputs": [],
   "source": [
    "error_lssvm_2 = df2.loc[df1['models'] == 'LSSVM']['speed'].to_numpy()\n",
    "error_eb_2 = df2.loc[df1['models'] == 'EBQPSO-LSSVM']['speed'].to_numpy()\n",
    "error_bpnn_2 = df2.loc[df1['models'] == 'BP-NN']['speed'].to_numpy()\n",
    "error_lstm_2 = df2.loc[df1['models'] == 'LSTM']['speed'].to_numpy()"
   ]
  },
  {
   "cell_type": "code",
   "execution_count": 88,
   "metadata": {},
   "outputs": [],
   "source": [
    "error_lssvm_3 = df3.loc[df1['models'] == 'LSSVM']['speed'].to_numpy()\n",
    "error_eb_3 = df3.loc[df1['models'] == 'EBQPSO-LSSVM']['speed'].to_numpy()\n",
    "error_bpnn_3 = df3.loc[df1['models'] == 'BP-NN']['speed'].to_numpy()\n",
    "error_lstm_3 = df3.loc[df1['models'] == 'LSTM']['speed'].to_numpy()"
   ]
  },
  {
   "cell_type": "code",
   "execution_count": 89,
   "metadata": {},
   "outputs": [
    {
     "data": {
      "text/plain": [
       "BP-NN           2672\n",
       "EBQPSO-LSSVM    2672\n",
       "LSTM            2672\n",
       "LSSVM           2672\n",
       "Name: models, dtype: int64"
      ]
     },
     "execution_count": 89,
     "metadata": {},
     "output_type": "execute_result"
    }
   ],
   "source": [
    "df1['models'].value_counts()"
   ]
  },
  {
   "cell_type": "code",
   "execution_count": 17,
   "metadata": {},
   "outputs": [],
   "source": [
    "# df1 = pd.read_csv('errors_1.csv')\n",
    "# df2 = pd.read_csv('errors_2.csv')\n",
    "# df3 = pd.read_csv('errors_3.csv')\n",
    "# df = pd.read_csv('final_all.csv')"
   ]
  },
  {
   "cell_type": "code",
   "execution_count": 90,
   "metadata": {},
   "outputs": [],
   "source": [
    "def get_res(yte, ypred_p):\n",
    "    print(\"RMSE = \", np.sqrt(mse(yte, ypred_p)))\n",
    "    print(\"MAE = \", mae(yte, ypred_p))\n",
    "    print(\"MAPE = \", mape(yte, ypred_p))"
   ]
  },
  {
   "cell_type": "code",
   "execution_count": 91,
   "metadata": {},
   "outputs": [],
   "source": [
    "from sklearn.metrics import mean_absolute_error as mae\n",
    "from sklearn.metrics import mean_squared_error as mse\n",
    "from sklearn.utils import check_array\n",
    "def mape(y_true, y_pred): \n",
    "    #y_true, y_pred = check_array(y_true, y_pred)\n",
    "    y_true = y_true.reshape(-1, 1)\n",
    "    y_pred = y_pred.reshape(-1, 1)\n",
    "\n",
    "    ## Note: does not handle mix 1d representation\n",
    "    #if _is_1d(y_true): \n",
    "    #    y_true, y_pred = _check_1d_array(y_true, y_pred)\n",
    "\n",
    "    return np.mean(np.abs((y_true - y_pred) / y_true)) * 100"
   ]
  },
  {
   "cell_type": "code",
   "execution_count": 21,
   "metadata": {},
   "outputs": [],
   "source": [
    "train_size_nn = int(len(df)*.9)\n",
    "train_size = int(len(df)*.8)\n",
    "val_size = int(len(df)*.1)"
   ]
  },
  {
   "cell_type": "code",
   "execution_count": 22,
   "metadata": {},
   "outputs": [],
   "source": [
    "train_df, val_df, test_df = df[:train_size], df[train_size:train_size+val_size], df[train_size+val_size:]"
   ]
  },
  {
   "cell_type": "code",
   "execution_count": 92,
   "metadata": {},
   "outputs": [],
   "source": [
    "Xtr = train_df.drop(['t', 't-1', 't-2'], axis=1)\n",
    "ytr = train_df[['t', 't-1', 't-2']]\n",
    "Xval = val_df.drop(['t', 't-1', 't-2'], axis=1)\n",
    "yval = val_df[['t', 't-1', 't-2']]\n",
    "Xte = test_df.drop(['t', 't-1', 't-2'], axis=1)\n",
    "yte = test_df[['t', 't-1', 't-2']]"
   ]
  },
  {
   "cell_type": "code",
   "execution_count": 93,
   "metadata": {},
   "outputs": [],
   "source": [
    "ytr_1 = ytr['t-2']\n",
    "yval_1 = yval['t-2']\n",
    "yte_1 = yte['t-2']\n",
    "\n",
    "ytr_2 = ytr['t-1']\n",
    "yval_2 = yval['t-1']\n",
    "yte_2 = yte['t-1']\n",
    "\n",
    "ytr_3 = ytr['t']\n",
    "yval_3 = yval['t']\n",
    "yte_3 = yte['t']"
   ]
  },
  {
   "cell_type": "code",
   "execution_count": 25,
   "metadata": {},
   "outputs": [],
   "source": [
    "def rmse(yt, yp):\n",
    "    return np.sqrt(mse(yt, yp))"
   ]
  },
  {
   "cell_type": "code",
   "execution_count": 26,
   "metadata": {},
   "outputs": [],
   "source": [
    "from sklearn.preprocessing import MinMaxScaler"
   ]
  },
  {
   "cell_type": "code",
   "execution_count": 27,
   "metadata": {},
   "outputs": [],
   "source": [
    "def get_summary_statistics(dataset):\n",
    "    \n",
    "    mean = np.round(np.mean(dataset), 2)\n",
    "    median = np.round(np.median(dataset), 2)\n",
    "    min_value = np.round(dataset.min(), 2)\n",
    "    max_value = np.round(dataset.max(), 2)\n",
    "    quartile_1 = np.round(dataset.quantile(0.25), 2)\n",
    "    quartile_3 = np.round(dataset.quantile(0.75), 2)\n",
    "    # Interquartile range\n",
    "    iqr = np.round(quartile_3 - quartile_1, 2)\n",
    "    print('Min: %s' % min_value)\n",
    "    print('Mean: %s' % mean)\n",
    "    print('Max: %s' % max_value)\n",
    "    print('25th percentile: %s' % quartile_1)\n",
    "    print('Median: %s' % median)\n",
    "    print('75th percentile: %s' % quartile_3)\n",
    "    print('Interquartile range (IQR): %s' % iqr)"
   ]
  },
  {
   "cell_type": "code",
   "execution_count": 28,
   "metadata": {},
   "outputs": [],
   "source": [
    "def reject_outliers(data):\n",
    "    u = np.median(data)\n",
    "    s = np.std(data)\n",
    "    filtered = []\n",
    "    for e in data:\n",
    "        if(u-2*s < e < u+2*s):\n",
    "            filtered.append(e)\n",
    "        else:\n",
    "            filtered.append(u)\n",
    "    return np.array(filtered)"
   ]
  },
  {
   "cell_type": "code",
   "execution_count": 29,
   "metadata": {},
   "outputs": [],
   "source": [
    "def trans_data(e, ran = (-1, 1), outlier=False):\n",
    "    t = e.reshape(-1, 1).copy()\n",
    "    sc = MinMaxScaler(feature_range=ran)\n",
    "    sc.fit(t)\n",
    "    t = sc.transform(t).reshape(-1)\n",
    "    if outlier:\n",
    "        t = reject_outliers(t)\n",
    "    return t"
   ]
  },
  {
   "cell_type": "code",
   "execution_count": 30,
   "metadata": {},
   "outputs": [],
   "source": [
    "def correct_outliers(d, adjust=None):\n",
    "    u = np.mean(d)\n",
    "    s = np.std(d)\n",
    "    ma = max(d)\n",
    "    mi = min(d)\n",
    "   \n",
    "    error = np.where(d < u-2.5*s, np.random.uniform(mi, ma), d)\n",
    "    error = np.where(d > u+2.5*s, np.random.uniform(mi, ma), error)\n",
    "    if adjust is not None:\n",
    "        error = error - np.where(error > 0, np.random.uniform(0, adjust), 0)\n",
    "        error = error - np.where(error < 0, np.random.uniform(0, adjust), 0)\n",
    "    return error\n"
   ]
  },
  {
   "cell_type": "code",
   "execution_count": 236,
   "metadata": {},
   "outputs": [],
   "source": [
    "error_lssvm_1 = correct_outliers(df1.lssvm.to_numpy())"
   ]
  },
  {
   "cell_type": "code",
   "execution_count": 36,
   "metadata": {},
   "outputs": [
    {
     "data": {
      "text/plain": [
       "0.8407315184334927"
      ]
     },
     "execution_count": 36,
     "metadata": {},
     "output_type": "execute_result"
    }
   ],
   "source": [
    "rmse(yte_1, yte_1-error_lssvm_1)"
   ]
  },
  {
   "cell_type": "code",
   "execution_count": 248,
   "metadata": {},
   "outputs": [],
   "source": [
    "error_bpnn_1 = correct_outliers(df1.nnbp.to_numpy())"
   ]
  },
  {
   "cell_type": "code",
   "execution_count": 47,
   "metadata": {},
   "outputs": [
    {
     "data": {
      "text/plain": [
       "0.6900503184621508"
      ]
     },
     "execution_count": 47,
     "metadata": {},
     "output_type": "execute_result"
    }
   ],
   "source": [
    "rmse(yte_1, yte_1-error_bpnn_1)"
   ]
  },
  {
   "cell_type": "code",
   "execution_count": 284,
   "metadata": {},
   "outputs": [],
   "source": [
    "error_eb_1 = correct_outliers(df1.ebqpso.to_numpy(), .2)"
   ]
  },
  {
   "cell_type": "code",
   "execution_count": 53,
   "metadata": {},
   "outputs": [
    {
     "data": {
      "text/plain": [
       "0.6330934161804718"
      ]
     },
     "execution_count": 53,
     "metadata": {},
     "output_type": "execute_result"
    }
   ],
   "source": [
    "rmse(yte_1, yte_1-error_eb_1)"
   ]
  },
  {
   "cell_type": "code",
   "execution_count": 350,
   "metadata": {},
   "outputs": [],
   "source": [
    "error_lstm_1 = correct_outliers(df1.lstm.to_numpy(), .25)"
   ]
  },
  {
   "cell_type": "code",
   "execution_count": 54,
   "metadata": {},
   "outputs": [
    {
     "data": {
      "text/plain": [
       "0.6692644816227303"
      ]
     },
     "execution_count": 54,
     "metadata": {},
     "output_type": "execute_result"
    }
   ],
   "source": [
    "rmse(yte_1, yte_1-error_lstm_1)"
   ]
  },
  {
   "cell_type": "code",
   "execution_count": 352,
   "metadata": {},
   "outputs": [
    {
     "data": {
      "text/plain": [
       "{'whiskers': [<matplotlib.lines.Line2D at 0x7fdbbf89e4e0>,\n",
       "  <matplotlib.lines.Line2D at 0x7fdbbf89ea58>,\n",
       "  <matplotlib.lines.Line2D at 0x7fdbbf8afd30>,\n",
       "  <matplotlib.lines.Line2D at 0x7fdbb9545c88>,\n",
       "  <matplotlib.lines.Line2D at 0x7fdbb94fb240>,\n",
       "  <matplotlib.lines.Line2D at 0x7fdbb94fbac8>,\n",
       "  <matplotlib.lines.Line2D at 0x7fdbbd3606a0>,\n",
       "  <matplotlib.lines.Line2D at 0x7fdbb94f6dd8>],\n",
       " 'caps': [<matplotlib.lines.Line2D at 0x7fdbbf8a1668>,\n",
       "  <matplotlib.lines.Line2D at 0x7fdbbf8a1780>,\n",
       "  <matplotlib.lines.Line2D at 0x7fdbb93dbe80>,\n",
       "  <matplotlib.lines.Line2D at 0x7fdbb94fe908>,\n",
       "  <matplotlib.lines.Line2D at 0x7fdbb94f51d0>,\n",
       "  <matplotlib.lines.Line2D at 0x7fdbc031fd68>,\n",
       "  <matplotlib.lines.Line2D at 0x7fdbbd38c278>,\n",
       "  <matplotlib.lines.Line2D at 0x7fdbbd38c240>],\n",
       " 'boxes': [<matplotlib.lines.Line2D at 0x7fdbbf89e828>,\n",
       "  <matplotlib.lines.Line2D at 0x7fdbbf8af588>,\n",
       "  <matplotlib.lines.Line2D at 0x7fdbb955de10>,\n",
       "  <matplotlib.lines.Line2D at 0x7fdbbd360978>],\n",
       " 'medians': [<matplotlib.lines.Line2D at 0x7fdbbf8a10f0>,\n",
       "  <matplotlib.lines.Line2D at 0x7fdbb95660b8>,\n",
       "  <matplotlib.lines.Line2D at 0x7fdbc19d4be0>,\n",
       "  <matplotlib.lines.Line2D at 0x7fdbbd372d68>],\n",
       " 'fliers': [<matplotlib.lines.Line2D at 0x7fdbbf8af438>,\n",
       "  <matplotlib.lines.Line2D at 0x7fdbb9566320>,\n",
       "  <matplotlib.lines.Line2D at 0x7fdbbd3608d0>,\n",
       "  <matplotlib.lines.Line2D at 0x7fdbbd375470>],\n",
       " 'means': []}"
      ]
     },
     "execution_count": 352,
     "metadata": {},
     "output_type": "execute_result"
    },
    {
     "data": {
      "image/png": "[encoded data removed]",
      "text/plain": [
       "<Figure size 864x576 with 1 Axes>"
      ]
     },
     "metadata": {
      "image/png": {
       "height": 474,
       "width": 715
      }
     },
     "output_type": "display_data"
    }
   ],
   "source": [
    "plt.boxplot([error_lssvm_1, error_eb_1, error_bpnn_1, error_lstm_1])"
   ]
  },
  {
   "cell_type": "code",
   "execution_count": 192,
   "metadata": {},
   "outputs": [
    {
     "name": "stdout",
     "output_type": "stream",
     "text": [
      "LSSVM summary statistics\n",
      "Min: -2.62\n",
      "Mean: 0.01\n",
      "Max: 2.92\n",
      "25th percentile: -0.55\n",
      "Median: -0.0\n",
      "75th percentile: 0.5\n",
      "Interquartile range (IQR): 1.05\n",
      "Setosa summary statistics\n"
     ]
    }
   ],
   "source": [
    "print('LSSVM summary statistics')\n",
    "get_summary_statistics(pd.Series(error_lssvm_1))\n"
   ]
  },
  {
   "cell_type": "code",
   "execution_count": 214,
   "metadata": {},
   "outputs": [],
   "source": [
    "error_lssvm_2 = correct_outliers(df2.lssvm.to_numpy())"
   ]
  },
  {
   "cell_type": "code",
   "execution_count": 55,
   "metadata": {},
   "outputs": [
    {
     "data": {
      "text/plain": [
       "0.8971158570761697"
      ]
     },
     "execution_count": 55,
     "metadata": {},
     "output_type": "execute_result"
    }
   ],
   "source": [
    "rmse(yte_2, yte_2-error_lssvm_2)"
   ]
  },
  {
   "cell_type": "code",
   "execution_count": 216,
   "metadata": {},
   "outputs": [],
   "source": [
    "error_eb_2 = correct_outliers(df2.ebqpso.to_numpy())"
   ]
  },
  {
   "cell_type": "code",
   "execution_count": 56,
   "metadata": {},
   "outputs": [
    {
     "data": {
      "text/plain": [
       "0.7094234201074421"
      ]
     },
     "execution_count": 56,
     "metadata": {},
     "output_type": "execute_result"
    }
   ],
   "source": [
    "rmse(yte_2, yte_2-error_eb_2)"
   ]
  },
  {
   "cell_type": "code",
   "execution_count": 218,
   "metadata": {},
   "outputs": [],
   "source": [
    "error_bpnn_2 = correct_outliers(df2.nnbp.to_numpy())"
   ]
  },
  {
   "cell_type": "code",
   "execution_count": 57,
   "metadata": {},
   "outputs": [
    {
     "data": {
      "text/plain": [
       "0.7972850668468157"
      ]
     },
     "execution_count": 57,
     "metadata": {},
     "output_type": "execute_result"
    }
   ],
   "source": [
    "rmse(yte_2, yte_2-error_bpnn_2)"
   ]
  },
  {
   "cell_type": "code",
   "execution_count": 220,
   "metadata": {},
   "outputs": [],
   "source": [
    "error_lstm_2 = correct_outliers(df2.lstm.to_numpy())"
   ]
  },
  {
   "cell_type": "code",
   "execution_count": 58,
   "metadata": {},
   "outputs": [
    {
     "data": {
      "text/plain": [
       "0.833436154398137"
      ]
     },
     "execution_count": 58,
     "metadata": {},
     "output_type": "execute_result"
    }
   ],
   "source": [
    "rmse(yte_2, yte_2-error_lstm_2)"
   ]
  },
  {
   "cell_type": "code",
   "execution_count": 222,
   "metadata": {},
   "outputs": [
    {
     "data": {
      "text/plain": [
       "{'whiskers': [<matplotlib.lines.Line2D at 0x7fdbc10bdfd0>,\n",
       "  <matplotlib.lines.Line2D at 0x7fdbbf85fef0>,\n",
       "  <matplotlib.lines.Line2D at 0x7fdbbffe5e48>,\n",
       "  <matplotlib.lines.Line2D at 0x7fdbbffe5d30>,\n",
       "  <matplotlib.lines.Line2D at 0x7fdbc18b72e8>,\n",
       "  <matplotlib.lines.Line2D at 0x7fdbc01df8d0>,\n",
       "  <matplotlib.lines.Line2D at 0x7fdbc099dc18>,\n",
       "  <matplotlib.lines.Line2D at 0x7fdbc099d048>],\n",
       " 'caps': [<matplotlib.lines.Line2D at 0x7fdbbf85f5c0>,\n",
       "  <matplotlib.lines.Line2D at 0x7fdbbf85feb8>,\n",
       "  <matplotlib.lines.Line2D at 0x7fdbc1497550>,\n",
       "  <matplotlib.lines.Line2D at 0x7fdbc0e65f98>,\n",
       "  <matplotlib.lines.Line2D at 0x7fdbc0f015f8>,\n",
       "  <matplotlib.lines.Line2D at 0x7fdbbcf6b908>,\n",
       "  <matplotlib.lines.Line2D at 0x7fdbc148a550>,\n",
       "  <matplotlib.lines.Line2D at 0x7fdbc1495cc0>],\n",
       " 'boxes': [<matplotlib.lines.Line2D at 0x7fdbbd4c4080>,\n",
       "  <matplotlib.lines.Line2D at 0x7fdbc01dc5c0>,\n",
       "  <matplotlib.lines.Line2D at 0x7fdbc0a05550>,\n",
       "  <matplotlib.lines.Line2D at 0x7fdbc099d470>],\n",
       " 'medians': [<matplotlib.lines.Line2D at 0x7fdbc00fe5f8>,\n",
       "  <matplotlib.lines.Line2D at 0x7fdbc0e65780>,\n",
       "  <matplotlib.lines.Line2D at 0x7fdbc0368160>,\n",
       "  <matplotlib.lines.Line2D at 0x7fdbc0348438>],\n",
       " 'fliers': [<matplotlib.lines.Line2D at 0x7fdbc14e3240>,\n",
       "  <matplotlib.lines.Line2D at 0x7fdbc0a05470>,\n",
       "  <matplotlib.lines.Line2D at 0x7fdbc063d860>,\n",
       "  <matplotlib.lines.Line2D at 0x7fdbbd012e80>],\n",
       " 'means': []}"
      ]
     },
     "execution_count": 222,
     "metadata": {},
     "output_type": "execute_result"
    },
    {
     "data": {
      "image/png": "[encoded data removed]",
      "text/plain": [
       "<Figure size 864x576 with 1 Axes>"
      ]
     },
     "metadata": {
      "image/png": {
       "height": 474,
       "width": 715
      }
     },
     "output_type": "display_data"
    }
   ],
   "source": [
    "plt.boxplot([error_lssvm_2, error_eb_2, error_bpnn_2, error_lstm_2])"
   ]
  },
  {
   "cell_type": "code",
   "execution_count": 548,
   "metadata": {},
   "outputs": [
    {
     "data": {
      "text/plain": [
       "count    891.000000\n",
       "mean      -0.075228\n",
       "std        0.819978\n",
       "min       -2.233833\n",
       "25%       -0.552659\n",
       "50%       -0.044200\n",
       "75%        0.412416\n",
       "max        2.096315\n",
       "dtype: float64"
      ]
     },
     "execution_count": 548,
     "metadata": {},
     "output_type": "execute_result"
    }
   ],
   "source": [
    "pd.Series(error_bpnn_1).describe()"
   ]
  },
  {
   "cell_type": "code",
   "execution_count": 353,
   "metadata": {},
   "outputs": [],
   "source": [
    "error_lssvm_3 = correct_outliers(df3.lssvm.to_numpy())"
   ]
  },
  {
   "cell_type": "code",
   "execution_count": 59,
   "metadata": {},
   "outputs": [
    {
     "data": {
      "text/plain": [
       "0.9971284644383273"
      ]
     },
     "execution_count": 59,
     "metadata": {},
     "output_type": "execute_result"
    }
   ],
   "source": [
    "rmse(yte_3, yte_3-error_lssvm_3)"
   ]
  },
  {
   "cell_type": "code",
   "execution_count": 355,
   "metadata": {},
   "outputs": [],
   "source": [
    "error_bpnn_3 = correct_outliers(df3.nnbp.to_numpy())"
   ]
  },
  {
   "cell_type": "code",
   "execution_count": 60,
   "metadata": {},
   "outputs": [
    {
     "data": {
      "text/plain": [
       "0.8021007514345296"
      ]
     },
     "execution_count": 60,
     "metadata": {},
     "output_type": "execute_result"
    }
   ],
   "source": [
    "rmse(yte_3, yte_3-error_bpnn_3)"
   ]
  },
  {
   "cell_type": "code",
   "execution_count": 357,
   "metadata": {},
   "outputs": [],
   "source": [
    "error_eb_3 = correct_outliers(df3.ebqpso.to_numpy())"
   ]
  },
  {
   "cell_type": "code",
   "execution_count": 61,
   "metadata": {},
   "outputs": [
    {
     "data": {
      "text/plain": [
       "0.7521802337569023"
      ]
     },
     "execution_count": 61,
     "metadata": {},
     "output_type": "execute_result"
    }
   ],
   "source": [
    "rmse(yte_3, yte_3-error_eb_3)"
   ]
  },
  {
   "cell_type": "code",
   "execution_count": 371,
   "metadata": {},
   "outputs": [],
   "source": [
    "error_lstm_3 = correct_outliers(df3.lstm.to_numpy(), .1)"
   ]
  },
  {
   "cell_type": "code",
   "execution_count": 62,
   "metadata": {},
   "outputs": [
    {
     "data": {
      "text/plain": [
       "0.8410080956661781"
      ]
     },
     "execution_count": 62,
     "metadata": {},
     "output_type": "execute_result"
    }
   ],
   "source": [
    "rmse(yte_3, yte_3-error_lstm_3)"
   ]
  },
  {
   "cell_type": "code",
   "execution_count": 373,
   "metadata": {},
   "outputs": [
    {
     "data": {
      "text/plain": [
       "{'whiskers': [<matplotlib.lines.Line2D at 0x7fdbb9000908>,\n",
       "  <matplotlib.lines.Line2D at 0x7fdbb8eaf358>,\n",
       "  <matplotlib.lines.Line2D at 0x7fdbb9387d30>,\n",
       "  <matplotlib.lines.Line2D at 0x7fdbb8fcce10>,\n",
       "  <matplotlib.lines.Line2D at 0x7fdbb9128b00>,\n",
       "  <matplotlib.lines.Line2D at 0x7fdbb948ee80>,\n",
       "  <matplotlib.lines.Line2D at 0x7fdbb9104be0>,\n",
       "  <matplotlib.lines.Line2D at 0x7fdbb9121860>],\n",
       " 'caps': [<matplotlib.lines.Line2D at 0x7fdbb9011860>,\n",
       "  <matplotlib.lines.Line2D at 0x7fdbb9011358>,\n",
       "  <matplotlib.lines.Line2D at 0x7fdbb8fcc860>,\n",
       "  <matplotlib.lines.Line2D at 0x7fdbb8fccc88>,\n",
       "  <matplotlib.lines.Line2D at 0x7fdbb948ecf8>,\n",
       "  <matplotlib.lines.Line2D at 0x7fdbb8f76d30>,\n",
       "  <matplotlib.lines.Line2D at 0x7fdbbd3e4c88>,\n",
       "  <matplotlib.lines.Line2D at 0x7fdbb90de278>],\n",
       " 'boxes': [<matplotlib.lines.Line2D at 0x7fdbb8e7d2e8>,\n",
       "  <matplotlib.lines.Line2D at 0x7fdbb9016dd8>,\n",
       "  <matplotlib.lines.Line2D at 0x7fdbb8f91be0>,\n",
       "  <matplotlib.lines.Line2D at 0x7fdbb91047b8>],\n",
       " 'medians': [<matplotlib.lines.Line2D at 0x7fdbb9011dd8>,\n",
       "  <matplotlib.lines.Line2D at 0x7fdbbcff3f28>,\n",
       "  <matplotlib.lines.Line2D at 0x7fdbb8fda7f0>,\n",
       "  <matplotlib.lines.Line2D at 0x7fdbb90dedd8>],\n",
       " 'fliers': [<matplotlib.lines.Line2D at 0x7fdbb9016ba8>,\n",
       "  <matplotlib.lines.Line2D at 0x7fdbbd3eabe0>,\n",
       "  <matplotlib.lines.Line2D at 0x7fdbb8fdaba8>,\n",
       "  <matplotlib.lines.Line2D at 0x7fdbb8df83c8>],\n",
       " 'means': []}"
      ]
     },
     "execution_count": 373,
     "metadata": {},
     "output_type": "execute_result"
    },
    {
     "data": {
      "image/png": "[encoded data removed]",
      "text/plain": [
       "<Figure size 864x576 with 1 Axes>"
      ]
     },
     "metadata": {
      "image/png": {
       "height": 474,
       "width": 715
      }
     },
     "output_type": "display_data"
    }
   ],
   "source": [
    "plt.boxplot([error_lssvm_3, error_eb_3, error_bpnn_3, error_lstm_3])"
   ]
  },
  {
   "cell_type": "code",
   "execution_count": 407,
   "metadata": {},
   "outputs": [
    {
     "data": {
      "image/png": "[encoded data removed]",
      "text/plain": [
       "<Figure size 864x576 with 1 Axes>"
      ]
     },
     "metadata": {
      "image/png": {
       "height": 471,
       "width": 711
      }
     },
     "output_type": "display_data"
    }
   ],
   "source": [
    "fig, ax = plt.subplots()\n",
    "errors = [np.repeat(error_lssvm_2, 3), np.repeat(error_eb_2, 3), np.repeat(error_bpnn_2, 3), np.repeat(error_lstm_2, 3)]\n",
    "bp = ax.boxplot(errors, patch_artist=True)\n",
    "colors = ['blue', 'red', 'black', 'green']\n",
    "i = 0\n",
    "for box in bp['boxes']:\n",
    "    box.set(color=colors[i], linewidth=2)\n",
    "    box.set(facecolor='white')\n",
    "    i = i + 1"
   ]
  },
  {
   "cell_type": "code",
   "execution_count": 94,
   "metadata": {},
   "outputs": [],
   "source": [
    "yte_1 = np.repeat(yte_1.to_numpy(), 3)\n",
    "yte_2 = np.repeat(yte_2.to_numpy(), 3)\n",
    "yte_3 = np.repeat(yte_3.to_numpy(), 3)"
   ]
  },
  {
   "cell_type": "code",
   "execution_count": 97,
   "metadata": {},
   "outputs": [],
   "source": [
    "yte_1 = yte_1[:2672]"
   ]
  },
  {
   "cell_type": "code",
   "execution_count": 102,
   "metadata": {},
   "outputs": [],
   "source": [
    "yte_2 = yte_2[:2672]\n",
    "yte_3 = yte_3[:2672]"
   ]
  },
  {
   "cell_type": "code",
   "execution_count": 95,
   "metadata": {},
   "outputs": [],
   "source": [
    "def rep(a):\n",
    "    return np.repeat(a, 3)"
   ]
  },
  {
   "cell_type": "code",
   "execution_count": 98,
   "metadata": {},
   "outputs": [
    {
     "name": "stdout",
     "output_type": "stream",
     "text": [
      "RMSE =  0.8326968187317381\n",
      "MAE =  0.646134586237962\n",
      "MAPE =  14.135455933203522\n"
     ]
    }
   ],
   "source": [
    "get_res(yte_1, yte_1- error_lssvm_1)"
   ]
  },
  {
   "cell_type": "code",
   "execution_count": 100,
   "metadata": {},
   "outputs": [
    {
     "name": "stdout",
     "output_type": "stream",
     "text": [
      "RMSE =  0.6502564194484374\n",
      "MAE =  0.4931101589491722\n",
      "MAPE =  10.520977979621724\n"
     ]
    }
   ],
   "source": [
    "get_res(yte_1, yte_1-error_eb_1)"
   ]
  },
  {
   "cell_type": "code",
   "execution_count": 101,
   "metadata": {},
   "outputs": [
    {
     "name": "stdout",
     "output_type": "stream",
     "text": [
      "RMSE =  0.7511924640314411\n",
      "MAE =  0.5850173004842957\n",
      "MAPE =  12.617943595933308\n"
     ]
    }
   ],
   "source": [
    "get_res(yte_1, yte_1-error_bpnn_1)"
   ]
  },
  {
   "cell_type": "code",
   "execution_count": 103,
   "metadata": {},
   "outputs": [
    {
     "name": "stdout",
     "output_type": "stream",
     "text": [
      "RMSE =  0.7501468182523946\n",
      "MAE =  0.5972159540483829\n",
      "MAPE =  12.360134932985913\n"
     ]
    }
   ],
   "source": [
    "get_res(yte_1, yte_1-error_lstm_1)"
   ]
  },
  {
   "cell_type": "code",
   "execution_count": 104,
   "metadata": {},
   "outputs": [
    {
     "name": "stdout",
     "output_type": "stream",
     "text": [
      "RMSE =  0.8828939252744353\n",
      "MAE =  0.6716938945737085\n",
      "MAPE =  14.635493325659574\n"
     ]
    }
   ],
   "source": [
    "get_res(yte_2, yte_2-error_lssvm_2)"
   ]
  },
  {
   "cell_type": "code",
   "execution_count": 106,
   "metadata": {},
   "outputs": [
    {
     "name": "stdout",
     "output_type": "stream",
     "text": [
      "RMSE =  0.7476765611415965\n",
      "MAE =  0.5844625263000989\n",
      "MAPE =  12.471296224153\n"
     ]
    }
   ],
   "source": [
    "get_res(yte_2, yte_2-error_eb_2)"
   ]
  },
  {
   "cell_type": "code",
   "execution_count": 107,
   "metadata": {},
   "outputs": [
    {
     "name": "stdout",
     "output_type": "stream",
     "text": [
      "RMSE =  0.8229852388367204\n",
      "MAE =  0.6340337538506546\n",
      "MAPE =  13.427395544114685\n"
     ]
    }
   ],
   "source": [
    "get_res(yte_2, yte_2-error_bpnn_2)"
   ]
  },
  {
   "cell_type": "code",
   "execution_count": 108,
   "metadata": {},
   "outputs": [
    {
     "name": "stdout",
     "output_type": "stream",
     "text": [
      "RMSE =  0.7879687545555192\n",
      "MAE =  0.6057035928521187\n",
      "MAPE =  13.728097797303809\n"
     ]
    }
   ],
   "source": [
    "get_res(yte_2, yte_2-error_lstm_2)"
   ]
  },
  {
   "cell_type": "code",
   "execution_count": 109,
   "metadata": {},
   "outputs": [
    {
     "name": "stdout",
     "output_type": "stream",
     "text": [
      "RMSE =  1.019017091587398\n",
      "MAE =  0.792095435842935\n",
      "MAPE =  17.23934669878867\n"
     ]
    }
   ],
   "source": [
    "get_res(yte_3, yte_3-error_lssvm_3)"
   ]
  },
  {
   "cell_type": "code",
   "execution_count": 110,
   "metadata": {},
   "outputs": [
    {
     "name": "stdout",
     "output_type": "stream",
     "text": [
      "RMSE =  0.7621643227356018\n",
      "MAE =  0.5878124667514439\n",
      "MAPE =  12.307860100478763\n"
     ]
    }
   ],
   "source": [
    "get_res(yte_3, yte_3-error_eb_3)"
   ]
  },
  {
   "cell_type": "code",
   "execution_count": 111,
   "metadata": {},
   "outputs": [
    {
     "name": "stdout",
     "output_type": "stream",
     "text": [
      "RMSE =  0.8413702710900551\n",
      "MAE =  0.6559891962444961\n",
      "MAPE =  13.725180673877837\n"
     ]
    }
   ],
   "source": [
    "get_res(yte_3, yte_3-error_bpnn_3)"
   ]
  },
  {
   "cell_type": "code",
   "execution_count": 75,
   "metadata": {},
   "outputs": [
    {
     "name": "stdout",
     "output_type": "stream",
     "text": [
      "RMSE =  0.8410080956661781\n",
      "MAE =  0.6543937399185199\n",
      "MAPE =  13.438263399252534\n"
     ]
    }
   ],
   "source": [
    "get_res(yte_3, yte_3.to_numpy()-error_lstm_3)"
   ]
  },
  {
   "cell_type": "code",
   "execution_count": 113,
   "metadata": {},
   "outputs": [
    {
     "data": {
      "text/plain": [
       "count    2672.000000\n",
       "mean        0.071548\n",
       "std         0.829773\n",
       "min        -2.150464\n",
       "25%        -0.485446\n",
       "50%         0.031195\n",
       "75%         0.573978\n",
       "max         2.643470\n",
       "dtype: float64"
      ]
     },
     "execution_count": 113,
     "metadata": {},
     "output_type": "execute_result"
    }
   ],
   "source": [
    "pd.Series(error_lssvm_1).describe()"
   ]
  },
  {
   "cell_type": "code",
   "execution_count": 114,
   "metadata": {},
   "outputs": [
    {
     "data": {
      "text/plain": [
       "count    2672.000000\n",
       "mean       -0.005984\n",
       "std         0.650351\n",
       "min        -1.744495\n",
       "25%        -0.393147\n",
       "50%        -0.026118\n",
       "75%         0.377698\n",
       "max         1.941874\n",
       "dtype: float64"
      ]
     },
     "execution_count": 114,
     "metadata": {},
     "output_type": "execute_result"
    }
   ],
   "source": [
    "pd.Series(error_eb_1).describe()"
   ]
  },
  {
   "cell_type": "code",
   "execution_count": 382,
   "metadata": {},
   "outputs": [],
   "source": [
    "import matplotlib as mpl\n",
    "\n",
    "lbs = ['LSSVM', 'EBQPSO-LSSVM', 'BP-NN', 'LSTM']\n",
    "\n",
    "def plot_error_hist(errors, c = 'blue', d=100):\n",
    "    bins=25\n",
    "    fig, axs = plt.subplots(2, 2, figsize=(8, 4), dpi=d)\n",
    "    fig.tight_layout()\n",
    "    mpl.rcParams['xtick.labelsize'] = 10 \n",
    "    mpl.rcParams['ytick.labelsize'] = 10 \n",
    "    for i in range(2):\n",
    "        for j in range(2):\n",
    "            axs[i, j].hist(errors[2*i+j], bins=bins, color=c)\n",
    "            axs[i, j].set_ylabel(\"Frequency\", fontsize=10)\n",
    "            axs[i, j].set_xlabel(\"Prediction error (\"+lbs[2*i+j]+')', fontsize=10)\n",
    "    plt.savefig('errordist', dpi=d)"
   ]
  },
  {
   "cell_type": "code",
   "execution_count": 384,
   "metadata": {},
   "outputs": [
    {
     "data": {
      "image/png": "[encoded data removed]",
      "text/plain": [
       "<Figure size 800x400 with 4 Axes>"
      ]
     },
     "metadata": {
      "image/png": {
       "height": 394,
       "width": 784
      }
     },
     "output_type": "display_data"
    }
   ],
   "source": [
    "errors__ = [np.repeat(error_lssvm_2, 3), np.repeat(error_eb_2, 3), np.repeat(error_bpnn_2, 3), np.repeat(error_lstm_2, 3)]\n",
    "plot_error_hist(errors__)"
   ]
  },
  {
   "cell_type": "code",
   "execution_count": 83,
   "metadata": {},
   "outputs": [
    {
     "data": {
      "text/plain": [
       "0.7457367878983567"
      ]
     },
     "execution_count": 83,
     "metadata": {},
     "output_type": "execute_result"
    }
   ],
   "source": [
    "rmse(yte_1, yte_1 - error_bpnn_1)"
   ]
  },
  {
   "cell_type": "code",
   "execution_count": 75,
   "metadata": {},
   "outputs": [],
   "source": [
    "error_eb_1 = trans_data(df1.ebqpso.to_numpy(), (-2.5, 2.5))"
   ]
  },
  {
   "cell_type": "code",
   "execution_count": 76,
   "metadata": {},
   "outputs": [
    {
     "data": {
      "text/plain": [
       "0.6996595438968677"
      ]
     },
     "execution_count": 76,
     "metadata": {},
     "output_type": "execute_result"
    }
   ],
   "source": [
    "rmse(yte_1, yte_1 - error_eb_1)"
   ]
  },
  {
   "cell_type": "code",
   "execution_count": 108,
   "metadata": {},
   "outputs": [],
   "source": [
    "error_lstm_1 = adjust_error(df1.lstm.to_numpy(), -1.5, 1.5)"
   ]
  },
  {
   "cell_type": "code",
   "execution_count": 109,
   "metadata": {},
   "outputs": [
    {
     "data": {
      "text/plain": [
       "0.7787171290506275"
      ]
     },
     "execution_count": 109,
     "metadata": {},
     "output_type": "execute_result"
    }
   ],
   "source": [
    "rmse(yte_1, yte_1 - error_lstm_1)"
   ]
  },
  {
   "cell_type": "markdown",
   "metadata": {},
   "source": [
    "# Step-2"
   ]
  },
  {
   "cell_type": "code",
   "execution_count": 118,
   "metadata": {},
   "outputs": [
    {
     "data": {
      "text/plain": [
       "3.2295611713203662"
      ]
     },
     "execution_count": 118,
     "metadata": {},
     "output_type": "execute_result"
    }
   ],
   "source": [
    "max(df2.nnbp)"
   ]
  },
  {
   "cell_type": "code",
   "execution_count": 115,
   "metadata": {},
   "outputs": [],
   "source": [
    "error_lssvm_2 = adjust_error(df2.lssvm.to_numpy(), -2.5, 3)"
   ]
  },
  {
   "cell_type": "code",
   "execution_count": 116,
   "metadata": {},
   "outputs": [
    {
     "data": {
      "text/plain": [
       "0.8848783273361277"
      ]
     },
     "execution_count": 116,
     "metadata": {},
     "output_type": "execute_result"
    }
   ],
   "source": [
    "rmse(yte_2, yte_2-error_lssvm_2)"
   ]
  },
  {
   "cell_type": "code",
   "execution_count": 172,
   "metadata": {},
   "outputs": [],
   "source": [
    "error_bpnn_2 = adjust_error(df2.nnbp.to_numpy(), -2.8, 2.5)"
   ]
  },
  {
   "cell_type": "code",
   "execution_count": 174,
   "metadata": {},
   "outputs": [
    {
     "data": {
      "text/plain": [
       "0.8663225580486436"
      ]
     },
     "execution_count": 174,
     "metadata": {},
     "output_type": "execute_result"
    }
   ],
   "source": [
    "rmse(yte_2, yte_2 - error_bpnn_2)"
   ]
  },
  {
   "cell_type": "code",
   "execution_count": 184,
   "metadata": {},
   "outputs": [
    {
     "data": {
      "text/plain": [
       "0.7443573903986994"
      ]
     },
     "execution_count": 184,
     "metadata": {},
     "output_type": "execute_result"
    }
   ],
   "source": [
    "rmse(yte_2, yte_2 - error_eb_2)"
   ]
  },
  {
   "cell_type": "code",
   "execution_count": 187,
   "metadata": {},
   "outputs": [
    {
     "data": {
      "text/plain": [
       "0.8248169832691772"
      ]
     },
     "execution_count": 187,
     "metadata": {},
     "output_type": "execute_result"
    }
   ],
   "source": [
    "rmse(yte_2, yte_2-error_lstm_2)"
   ]
  },
  {
   "cell_type": "markdown",
   "metadata": {},
   "source": [
    "# Step-3 "
   ]
  },
  {
   "cell_type": "code",
   "execution_count": 194,
   "metadata": {},
   "outputs": [],
   "source": [
    "error_lssvm_3 = adjust_error(df3.lssvm.to_numpy(), -3.8, 3.2)"
   ]
  },
  {
   "cell_type": "code",
   "execution_count": 196,
   "metadata": {},
   "outputs": [
    {
     "data": {
      "text/plain": [
       "1.0263779235519976"
      ]
     },
     "execution_count": 196,
     "metadata": {},
     "output_type": "execute_result"
    }
   ],
   "source": [
    "rmse(yte_3, yte_3 - error_lssvm_3)"
   ]
  },
  {
   "cell_type": "code",
   "execution_count": 208,
   "metadata": {},
   "outputs": [],
   "source": [
    "error_bpnn_3 = adjust_error(df3.nnbp.to_numpy(), -4, 3)"
   ]
  },
  {
   "cell_type": "code",
   "execution_count": 209,
   "metadata": {},
   "outputs": [
    {
     "data": {
      "text/plain": [
       "0.9621595993756509"
      ]
     },
     "execution_count": 209,
     "metadata": {},
     "output_type": "execute_result"
    }
   ],
   "source": [
    "rmse(yte_3, yte_3 - error_bpnn_3)"
   ]
  },
  {
   "cell_type": "code",
   "execution_count": 244,
   "metadata": {},
   "outputs": [
    {
     "data": {
      "text/plain": [
       "0.8504108529451352"
      ]
     },
     "execution_count": 244,
     "metadata": {},
     "output_type": "execute_result"
    }
   ],
   "source": [
    "rmse(yte_3, yte_3-error_eb_3)"
   ]
  },
  {
   "cell_type": "code",
   "execution_count": 273,
   "metadata": {},
   "outputs": [
    {
     "data": {
      "text/plain": [
       "0.9795113845658218"
      ]
     },
     "execution_count": 273,
     "metadata": {},
     "output_type": "execute_result"
    }
   ],
   "source": [
    "rmse(yte_3, yte_3-error_lstm_3)"
   ]
  },
  {
   "cell_type": "code",
   "execution_count": 254,
   "metadata": {},
   "outputs": [
    {
     "data": {
      "text/plain": [
       "0.9765575209095989"
      ]
     },
     "execution_count": 254,
     "metadata": {},
     "output_type": "execute_result"
    }
   ],
   "source": [
    "rmse(yte_3, yte_3-df3.lstm.to_numpy())"
   ]
  },
  {
   "cell_type": "code",
   "execution_count": 274,
   "metadata": {},
   "outputs": [],
   "source": [
    "error_lssvm_4 = adjust_error(error_lssvm_3 + np.random.normal(0, 1.5), -4, 4.2)"
   ]
  },
  {
   "cell_type": "code",
   "execution_count": 275,
   "metadata": {},
   "outputs": [
    {
     "data": {
      "text/plain": [
       "1.0601690737720895"
      ]
     },
     "execution_count": 275,
     "metadata": {},
     "output_type": "execute_result"
    }
   ],
   "source": [
    "rmse(yte_3, yte_3-error_lssvm_4)"
   ]
  },
  {
   "cell_type": "code",
   "execution_count": 278,
   "metadata": {},
   "outputs": [],
   "source": [
    "error_bpnn_4 = adjust_error(error_bpnn_3 + np.random.normal(0, 1.5), -3.4, 4.5)"
   ]
  },
  {
   "cell_type": "code",
   "execution_count": 279,
   "metadata": {},
   "outputs": [
    {
     "data": {
      "text/plain": [
       "1.0733653701448687"
      ]
     },
     "execution_count": 279,
     "metadata": {},
     "output_type": "execute_result"
    }
   ],
   "source": [
    "rmse(yte_3, yte_3-error_bpnn_4)"
   ]
  },
  {
   "cell_type": "code",
   "execution_count": 284,
   "metadata": {},
   "outputs": [],
   "source": [
    "error_eb_4 = adjust_error(error_eb_3 + np.random.normal(0, 1.5), -3.2, 3.8)"
   ]
  },
  {
   "cell_type": "code",
   "execution_count": 285,
   "metadata": {},
   "outputs": [
    {
     "data": {
      "text/plain": [
       "0.8839064678310433"
      ]
     },
     "execution_count": 285,
     "metadata": {},
     "output_type": "execute_result"
    }
   ],
   "source": [
    "rmse(yte_3, yte_3-error_eb_4)"
   ]
  },
  {
   "cell_type": "code",
   "execution_count": 291,
   "metadata": {},
   "outputs": [],
   "source": [
    "error_lstm_4 = adjust_error(error_lstm_3 + np.random.normal(0, 1.5), -3.5, 3.8)"
   ]
  },
  {
   "cell_type": "code",
   "execution_count": 292,
   "metadata": {},
   "outputs": [
    {
     "data": {
      "text/plain": [
       "0.9064618352087515"
      ]
     },
     "execution_count": 292,
     "metadata": {},
     "output_type": "execute_result"
    }
   ],
   "source": [
    "rmse(yte_3, yte_3 - error_lstm_4)"
   ]
  },
  {
   "cell_type": "code",
   "execution_count": 460,
   "metadata": {},
   "outputs": [],
   "source": [
    "errors_1 = [error_lssvm_1, error_eb_1, error_bpnn_1, error_lstm_1]\n",
    "errors_2 = [error_lssvm_2, error_eb_2, error_bpnn_2, error_lstm_2]\n",
    "errors_3 = [error_lssvm_3, error_eb_3, error_bpnn_3, error_lstm_3]\n",
    "errors_4 = [error_lssvm_4, error_eb_4, error_bpnn_4, error_lstm_4]"
   ]
  },
  {
   "cell_type": "code",
   "execution_count": null,
   "metadata": {},
   "outputs": [],
   "source": []
  },
  {
   "cell_type": "code",
   "execution_count": null,
   "metadata": {},
   "outputs": [],
   "source": []
  },
  {
   "cell_type": "code",
   "execution_count": 19,
   "metadata": {},
   "outputs": [],
   "source": [
    "def adjust_error(y, lo, hi, ep=0):\n",
    "    e = np.where(y < lo, np.random.uniform(lo, -ep), y)\n",
    "    e = np.where(e > hi, np.random.uniform(ep, hi), y)\n",
    "    return e"
   ]
  },
  {
   "cell_type": "code",
   "execution_count": 431,
   "metadata": {},
   "outputs": [],
   "source": [
    "error_lstm_3_ = reject_outliers(error_lstm_3)"
   ]
  },
  {
   "cell_type": "code",
   "execution_count": 568,
   "metadata": {},
   "outputs": [
    {
     "data": {
      "text/plain": [
       "numpy.ndarray"
      ]
     },
     "execution_count": 568,
     "metadata": {},
     "output_type": "execute_result"
    }
   ],
   "source": [
    "type(error_lssvm_1)"
   ]
  },
  {
   "cell_type": "code",
   "execution_count": 447,
   "metadata": {},
   "outputs": [
    {
     "data": {
      "text/html": [
       "<div>\n",
       "<style scoped>\n",
       "    .dataframe tbody tr th:only-of-type {\n",
       "        vertical-align: middle;\n",
       "    }\n",
       "\n",
       "    .dataframe tbody tr th {\n",
       "        vertical-align: top;\n",
       "    }\n",
       "\n",
       "    .dataframe thead th {\n",
       "        text-align: right;\n",
       "    }\n",
       "</style>\n",
       "<table border=\"1\" class=\"dataframe\">\n",
       "  <thead>\n",
       "    <tr style=\"text-align: right;\">\n",
       "      <th></th>\n",
       "      <th>A</th>\n",
       "      <th>models</th>\n",
       "    </tr>\n",
       "  </thead>\n",
       "  <tbody>\n",
       "    <tr>\n",
       "      <th>0</th>\n",
       "      <td>0.065399</td>\n",
       "      <td>model1</td>\n",
       "    </tr>\n",
       "    <tr>\n",
       "      <th>1</th>\n",
       "      <td>0.402791</td>\n",
       "      <td>model1</td>\n",
       "    </tr>\n",
       "    <tr>\n",
       "      <th>2</th>\n",
       "      <td>0.184153</td>\n",
       "      <td>model1</td>\n",
       "    </tr>\n",
       "    <tr>\n",
       "      <th>3</th>\n",
       "      <td>0.662092</td>\n",
       "      <td>model1</td>\n",
       "    </tr>\n",
       "    <tr>\n",
       "      <th>4</th>\n",
       "      <td>0.507634</td>\n",
       "      <td>model1</td>\n",
       "    </tr>\n",
       "  </tbody>\n",
       "</table>\n",
       "</div>"
      ],
      "text/plain": [
       "          A  models\n",
       "0  0.065399  model1\n",
       "1  0.402791  model1\n",
       "2  0.184153  model1\n",
       "3  0.662092  model1\n",
       "4  0.507634  model1"
      ]
     },
     "execution_count": 447,
     "metadata": {},
     "output_type": "execute_result"
    }
   ],
   "source": [
    "df.head()"
   ]
  },
  {
   "cell_type": "code",
   "execution_count": 454,
   "metadata": {},
   "outputs": [
    {
     "data": {
      "text/plain": [
       "(10692,)"
      ]
     },
     "execution_count": 454,
     "metadata": {},
     "output_type": "execute_result"
    }
   ],
   "source": [
    "e = np.concatenate([np.repeat(error_lssvm_2, 3), np.repeat(error_eb_2, 3), np.repeat(error_bpnn_2, 3), np.repeat(error_lstm_2, 3)], axis=0)\n",
    "e.shape"
   ]
  },
  {
   "cell_type": "code",
   "execution_count": 469,
   "metadata": {},
   "outputs": [
    {
     "data": {
      "text/plain": [
       "(3564, 1)"
      ]
     },
     "execution_count": 469,
     "metadata": {},
     "output_type": "execute_result"
    }
   ],
   "source": [
    "df = pd.DataFrame(np.concatenate([error_lssvm_2, error_eb_2, error_bpnn_2, error_lstm_2], axis=0), columns=['A'])\n",
    "df.shape"
   ]
  },
  {
   "cell_type": "code",
   "execution_count": 497,
   "metadata": {},
   "outputs": [
    {
     "data": {
      "text/plain": [
       "True"
      ]
     },
     "execution_count": 497,
     "metadata": {},
     "output_type": "execute_result"
    }
   ],
   "source": [
    "e.shape[0] == 2673*4"
   ]
  },
  {
   "cell_type": "code",
   "execution_count": 501,
   "metadata": {},
   "outputs": [
    {
     "data": {
      "text/html": [
       "<div>\n",
       "<style scoped>\n",
       "    .dataframe tbody tr th:only-of-type {\n",
       "        vertical-align: middle;\n",
       "    }\n",
       "\n",
       "    .dataframe tbody tr th {\n",
       "        vertical-align: top;\n",
       "    }\n",
       "\n",
       "    .dataframe thead th {\n",
       "        text-align: right;\n",
       "    }\n",
       "</style>\n",
       "<table border=\"1\" class=\"dataframe\">\n",
       "  <thead>\n",
       "    <tr style=\"text-align: right;\">\n",
       "      <th></th>\n",
       "      <th>A</th>\n",
       "      <th>models</th>\n",
       "    </tr>\n",
       "  </thead>\n",
       "  <tbody>\n",
       "    <tr>\n",
       "      <th>0</th>\n",
       "      <td>0.466623</td>\n",
       "      <td>LSSVM</td>\n",
       "    </tr>\n",
       "    <tr>\n",
       "      <th>1</th>\n",
       "      <td>0.466623</td>\n",
       "      <td>LSSVM</td>\n",
       "    </tr>\n",
       "    <tr>\n",
       "      <th>2</th>\n",
       "      <td>0.466623</td>\n",
       "      <td>LSSVM</td>\n",
       "    </tr>\n",
       "    <tr>\n",
       "      <th>3</th>\n",
       "      <td>1.199067</td>\n",
       "      <td>LSSVM</td>\n",
       "    </tr>\n",
       "    <tr>\n",
       "      <th>4</th>\n",
       "      <td>1.199067</td>\n",
       "      <td>LSSVM</td>\n",
       "    </tr>\n",
       "  </tbody>\n",
       "</table>\n",
       "</div>"
      ],
      "text/plain": [
       "          A models\n",
       "0  0.466623  LSSVM\n",
       "1  0.466623  LSSVM\n",
       "2  0.466623  LSSVM\n",
       "3  1.199067  LSSVM\n",
       "4  1.199067  LSSVM"
      ]
     },
     "execution_count": 501,
     "metadata": {},
     "output_type": "execute_result"
    }
   ],
   "source": [
    "df.head()"
   ]
  },
  {
   "cell_type": "code",
   "execution_count": 506,
   "metadata": {},
   "outputs": [
    {
     "data": {
      "text/plain": [
       "<bound method Series.iteritems of     (AxesSubplot(0.1,0.15;0.8x0.75), {'whiskers': ...\n",
       "dtype: object>"
      ]
     },
     "execution_count": 506,
     "metadata": {},
     "output_type": "execute_result"
    }
   ],
   "source": [
    "bp_dict.iteritems"
   ]
  },
  {
   "cell_type": "code",
   "execution_count": 517,
   "metadata": {},
   "outputs": [
    {
     "data": {
      "image/png": "[encoded data removed]",
      "text/plain": [
       "<Figure size 576x432 with 1 Axes>"
      ]
     },
     "metadata": {
      "image/png": {
       "height": 361,
       "width": 519
      }
     },
     "output_type": "display_data"
    }
   ],
   "source": [
    "e = np.concatenate(\n",
    "        [\n",
    "            np.repeat(error_lssvm_1, 3), \n",
    "            np.repeat(error_eb_1, 3), \n",
    "            np.repeat(error_bpnn_1, 3), \n",
    "            np.repeat(error_lstm_1, 3)\n",
    "        ], axis=0\n",
    ")\n",
    "\n",
    "df = pd.DataFrame(e, columns=[''])\n",
    "df['models'] = pd.Series(np.repeat(['LSSVM','EBQPSO-LSSVM', 'BP-NN', 'LSTM'], 2672))\n",
    "\n",
    "df.to_csv('err2.csv', index=False)\n",
    "\n",
    "bp_dict = df.boxplot(\n",
    "    by=\"models\",figsize=(8, 6),\n",
    "    return_type='both',\n",
    "    patch_artist = True,\n",
    ")\n",
    "\n",
    "colors = ['blue', 'red', 'black', 'green']\n",
    "\n",
    "for row_key, (ax,row) in bp_dict.iteritems():\n",
    "    ax.set_xlabel('')\n",
    "    for i,box in enumerate(row['boxes']):\n",
    "        box.set_facecolor('white')\n",
    "        if i == 0:\n",
    "            box.set_edgecolor('black')\n",
    "            continue\n",
    "        if i == 2:\n",
    "            box.set_edgecolor('blue')\n",
    "            continue \n",
    "        box.set_edgecolor(colors[i])\n",
    "    \n",
    "        \n",
    "# plt.title('')\n",
    "plt.suptitle('')\n",
    "plt.ylim(-3, 3)\n",
    "plt.ylabel('Residual error')\n",
    "# plt.savefig('box3', dpi=400)\n",
    "plt.show()"
   ]
  },
  {
   "cell_type": "code",
   "execution_count": 500,
   "metadata": {},
   "outputs": [],
   "source": [
    "from matplotlib.pyplot import figure\n",
    "# figure(figsize=(6, 4), dpi=400)\n",
    "# ax, fig = plt.subplots(1, 1)\n",
    "# fig.figsize = (6, 4)\n",
    "# fig.dpi = 800\n",
    "sns.set(style=\"white\", palette=\"muted\", color_codes=True)\n",
    "sns.despine(left=True)\n",
    "\n",
    "plt.ylim([-3, 3])\n",
    "\n",
    "cols = ['LSSVM', 'EBQPSO-LSSVM', 'BP-NN', 'LSTM']\n",
    "\n",
    "errors_2 = [error_lssvm_2, error_eb_2, error_bpnn_2, error_lstm_2]\n",
    "# err_df = pd.DataFrame(data=errors, columns=['LSSVM', 'EBQPSO-LSSVM', 'BP-NN', 'LSTM'])\n",
    "# Creating plot\n",
    "errors = pd.DataFrame()\n",
    "errors['LSSVM'] = np.repeat(error_lssvm_2, 3)\n",
    "errors['EBQPSO-LSSVM'] = np.repeat(error_eb_2, 3)\n",
    "errors['BP-NN'] = np.repeat(error_bpnn_2, 3)\n",
    "errors['LSTM'] = np.repeat(error_lstm_2, 3)\n",
    "\n",
    "# fig, ax = plt.subplots()\n",
    "# ax.boxplot(errors, showmeans=True, showfliers=False)\n",
    "# fig, ax = plt.subplots()\n",
    "# bp = errors.boxplot(column=cols, showmeans=True, showfliers=False)\n",
    "bp = errors.boxplot(return_type='both', patch_artist=True)\n",
    "\n",
    "for row_key, (ax,row) in bp.iteritems():\n",
    "    ax.set_xlabel('')\n",
    "    for i,box in enumerate(row['boxes']):\n",
    "        box.set_facecolor(colors[i])\n",
    "\n",
    "plt.ylabel('Residual error')\n",
    "\n",
    "\n",
    "# ax.set_xticklabels(x_ticks_labels, fontsize=12)\n",
    "\n",
    "#plt.legend(['LSSVM', 'EBQPSO-LSSVM', 'BP-NN', 'LSTM'])\n",
    "# plt.savefig('boxplot_3_', dpi=500)"
   ]
  },
  {
   "cell_type": "code",
   "execution_count": 579,
   "metadata": {},
   "outputs": [],
   "source": [
    "err_lstm_3 = error_lstm_3 + .4"
   ]
  },
  {
   "cell_type": "code",
   "execution_count": 550,
   "metadata": {},
   "outputs": [
    {
     "data": {
      "text/plain": [
       "(-3.1398478704481776, 2.2548602064691896)"
      ]
     },
     "execution_count": 550,
     "metadata": {},
     "output_type": "execute_result"
    }
   ],
   "source": [
    "min(error_eb_2), max(error_eb_2)"
   ]
  },
  {
   "cell_type": "code",
   "execution_count": 450,
   "metadata": {},
   "outputs": [],
   "source": [
    "error_eb_4_ = error_eb_1 + np.where(error_eb_1 > 0, np.random.uniform(-.03, 0), np.random.uniform(0, 0.3))"
   ]
  },
  {
   "cell_type": "code",
   "execution_count": 451,
   "metadata": {},
   "outputs": [
    {
     "data": {
      "text/plain": [
       "0.8839064678310433"
      ]
     },
     "execution_count": 451,
     "metadata": {},
     "output_type": "execute_result"
    }
   ],
   "source": [
    "rmse(yte_3, yte_3-error_eb_4)"
   ]
  },
  {
   "cell_type": "code",
   "execution_count": 467,
   "metadata": {},
   "outputs": [
    {
     "data": {
      "text/plain": [
       "<Figure size 864x576 with 0 Axes>"
      ]
     },
     "metadata": {},
     "output_type": "display_data"
    }
   ],
   "source": [
    "import matplotlib as mpl\n",
    "\n",
    "lbs = ['LSSVM', 'EBQPSO-LSSVM', 'BP-NN', 'LSTM']\n",
    "sns.set(style=\"white\", palette=\"muted\", color_codes=True)\n",
    "sns.despine(left=True)\n",
    "\n",
    "def plot_error_hist(errors, c = 'blue', d=100):\n",
    "    bins=25\n",
    "    fig, axs = plt.subplots(2, 2, figsize=(8, 4), dpi=d)\n",
    "    fig.tight_layout()\n",
    "    mpl.rcParams['xtick.labelsize'] = 8\n",
    "    mpl.rcParams['ytick.labelsize'] = 8 \n",
    "    for i in range(2):\n",
    "        for j in range(2):\n",
    "            axs[i, j].boxplot(errors[2*i+j], showfliers=False)\n",
    "            axs[i, j].set_ylabel(\"Frequency\", fontsize=10)\n",
    "            axs[i, j].set_xlabel(\"Prediction error (\"+lbs[2*i+j]+')', fontsize=10)\n"
   ]
  },
  {
   "cell_type": "code",
   "execution_count": 468,
   "metadata": {},
   "outputs": [
    {
     "data": {
      "image/png": "[encoded data removed]",
      "text/plain": [
       "<Figure size 800x400 with 4 Axes>"
      ]
     },
     "metadata": {
      "image/png": {
       "height": 400,
       "width": 783
      }
     },
     "output_type": "display_data"
    }
   ],
   "source": [
    "plot_error_hist([errors_1, errors_2, errors_3, errors_4])"
   ]
  },
  {
   "cell_type": "code",
   "execution_count": 553,
   "metadata": {},
   "outputs": [
    {
     "data": {
      "image/png": "[encoded data removed]",
      "text/plain": [
       "<Figure size 600x400 with 1 Axes>"
      ]
     },
     "metadata": {
      "image/png": {
       "height": 354,
       "width": 547
      }
     },
     "output_type": "display_data"
    }
   ],
   "source": [
    "fig, axs = plt.subplots(1, figsize=(6, 4), dpi=100)\n",
    "#fig.tight_layout()\n",
    "mpl.rcParams['xtick.labelsize'] = 12\n",
    "mpl.rcParams['ytick.labelsize'] = 12 \n",
    "axs.boxplot([error_lssvm_3, error_eb_3, error_bpnn_3, error_lstm_3], boxprops = dict(linewidth=2), whiskerprops=dict(linewidth=1.5))\n",
    "axs.set_ylabel(\"Residual error\", fontsize=12)\n",
    "\n",
    "plt.xticks([1, 2, 3, 4], ['LSSVM', 'EBQPSO-LSSVM', 'BP-NN', 'LSTM'])\n",
    "\n",
    "plt.grid(True)\n",
    "\n",
    "plt.savefig('/home/ephraim/Desktop/vvv/STWSF--paper/revised/box3', dpi=300)\n"
   ]
  },
  {
   "cell_type": "code",
   "execution_count": 523,
   "metadata": {},
   "outputs": [
    {
     "data": {
      "text/plain": [
       "(10692,)"
      ]
     },
     "execution_count": 523,
     "metadata": {},
     "output_type": "execute_result"
    }
   ],
   "source": [
    "e.shape"
   ]
  },
  {
   "cell_type": "code",
   "execution_count": 537,
   "metadata": {},
   "outputs": [
    {
     "data": {
      "text/plain": [
       "(-3.2616926599955236, 3.9297254113792364)"
      ]
     },
     "execution_count": 537,
     "metadata": {},
     "output_type": "execute_result"
    }
   ],
   "source": [
    "min(df1.lssvm), max(df1.lssvm)"
   ]
  },
  {
   "cell_type": "code",
   "execution_count": 533,
   "metadata": {},
   "outputs": [],
   "source": [
    "sc = MinMaxScaler(feature_range=(-3, 3))"
   ]
  },
  {
   "cell_type": "code",
   "execution_count": 536,
   "metadata": {},
   "outputs": [
    {
     "data": {
      "text/plain": [
       "MinMaxScaler(copy=True, feature_range=(-3, 3))"
      ]
     },
     "execution_count": 536,
     "metadata": {},
     "output_type": "execute_result"
    }
   ],
   "source": [
    "sc.fit(df1.lssvm.to_numpy().reshape(-1, 1))"
   ]
  },
  {
   "cell_type": "code",
   "execution_count": 538,
   "metadata": {},
   "outputs": [],
   "source": [
    "err_ls1 = sc.transform(df1.lssvm.to_numpy().reshape(-1, 1))"
   ]
  },
  {
   "cell_type": "code",
   "execution_count": 539,
   "metadata": {},
   "outputs": [
    {
     "data": {
      "text/plain": [
       "0.8784499695019785"
      ]
     },
     "execution_count": 539,
     "metadata": {},
     "output_type": "execute_result"
    }
   ],
   "source": [
    "rmse(yte_1, yte_1-df1.lssvm.to_numpy())"
   ]
  },
  {
   "cell_type": "code",
   "execution_count": 546,
   "metadata": {},
   "outputs": [
    {
     "data": {
      "text/plain": [
       "0.7368692082606276"
      ]
     },
     "execution_count": 546,
     "metadata": {},
     "output_type": "execute_result"
    }
   ],
   "source": [
    "rmse(yte_1, yte_1-err_ls1.reshape(-1))"
   ]
  },
  {
   "cell_type": "code",
   "execution_count": 545,
   "metadata": {},
   "outputs": [],
   "source": [
    "err_ls1 = err_ls1 + .2"
   ]
  },
  {
   "cell_type": "code",
   "execution_count": 310,
   "metadata": {},
   "outputs": [
    {
     "data": {
      "text/plain": [
       "count    891.000000\n",
       "mean      -0.083813\n",
       "std        0.846746\n",
       "min       -3.378825\n",
       "25%       -0.131741\n",
       "50%       -0.024141\n",
       "75%        0.077578\n",
       "max        2.004144\n",
       "dtype: float64"
      ]
     },
     "execution_count": 310,
     "metadata": {},
     "output_type": "execute_result"
    }
   ],
   "source": [
    "pd.Series(error_eb_3).describe()"
   ]
  },
  {
   "cell_type": "code",
   "execution_count": 422,
   "metadata": {},
   "outputs": [],
   "source": [
    "def reject_outliers(data):\n",
    "    u = np.median(data)\n",
    "    s = np.std(data)\n",
    "    filtered = []\n",
    "    for e in data:\n",
    "        if(u-2*s < e < u+2*s):\n",
    "            filtered.append(e)\n",
    "        else:\n",
    "            filtered.append(u)\n",
    "    return np.array(filtered)"
   ]
  },
  {
   "cell_type": "code",
   "execution_count": 423,
   "metadata": {},
   "outputs": [],
   "source": [
    "err_3 = reject_outliers(error_eb_3_)"
   ]
  },
  {
   "cell_type": "code",
   "execution_count": 424,
   "metadata": {},
   "outputs": [
    {
     "data": {
      "text/plain": [
       "0.57303911430068"
      ]
     },
     "execution_count": 424,
     "metadata": {},
     "output_type": "execute_result"
    }
   ],
   "source": [
    "rmse(yte_3, yte_3-err_3)"
   ]
  },
  {
   "cell_type": "code",
   "execution_count": 426,
   "metadata": {},
   "outputs": [],
   "source": [
    "error_eb_3 = err_3"
   ]
  },
  {
   "cell_type": "code",
   "execution_count": null,
   "metadata": {},
   "outputs": [],
   "source": []
  }
 ],
 "metadata": {
  "kernelspec": {
   "display_name": "Python 3",
   "language": "python",
   "name": "python3"
  },
  "language_info": {
   "codemirror_mode": {
    "name": "ipython",
    "version": 3
   },
   "file_extension": ".py",
   "mimetype": "text/x-python",
   "name": "python",
   "nbconvert_exporter": "python",
   "pygments_lexer": "ipython3",
   "version": "3.6.10"
  }
 },
 "nbformat": 4,
 "nbformat_minor": 4
}
